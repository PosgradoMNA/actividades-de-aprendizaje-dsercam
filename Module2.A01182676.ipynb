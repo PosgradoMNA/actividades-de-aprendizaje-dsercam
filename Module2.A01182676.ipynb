{
  "nbformat": 4,
  "nbformat_minor": 0,
  "metadata": {
    "colab": {
      "provenance": [],
      "collapsed_sections": [],
      "authorship_tag": "ABX9TyMohKR9BM9aolVVZ6UEAzCC",
      "include_colab_link": true
    },
    "kernelspec": {
      "name": "python3",
      "display_name": "Python 3"
    },
    "language_info": {
      "name": "python"
    }
  },
  "cells": [
    {
      "cell_type": "markdown",
      "metadata": {
        "id": "view-in-github",
        "colab_type": "text"
      },
      "source": [
        "<a href=\"https://colab.research.google.com/github/PosgradoMNA/actividades-de-aprendizaje-dsercam/blob/main/Module2.A01182676.ipynb\" target=\"_parent\"><img src=\"https://colab.research.google.com/assets/colab-badge.svg\" alt=\"Open In Colab\"/></a>"
      ]
    },
    {
      "cell_type": "markdown",
      "source": [
        "#**<font color=\"darkblue\">Data Analysis with Python (IBM)</font>**\n",
        "##**<font color=\"darkorange\"> Module 2: Notes and exercises Jupyter Notebook</font>**\n",
        "\n",
        "###**Maestría en Inteligencia Artificial Aplicada**\n",
        "###**Curso: Ciencia y analítica de datos**\n",
        "####**Tecnológico de Monterrey**\n",
        "#####**Prof Jobish Vallikavungal Devassia**\n",
        "\n",
        "###**<font color=\"darkgray\">Nombre del estudiante: Dante Rodrigo Serna Camarillo</font>**\n",
        "###**<font color=\"darkgray\">Matrícula: A01182676</font>**"
      ],
      "metadata": {
        "id": "roH8E3CaZU10"
      }
    },
    {
      "cell_type": "markdown",
      "source": [
        "PreProcessing:\n",
        "- Necessry step in data analysis\n",
        "- Process of transfoming data in a \"raw\" state into a another \"refined state.\n",
        "- Also known as \"data cleaning\" or \"data wrangling\" "
      ],
      "metadata": {
        "id": "2vmqsvELZq7q"
      }
    },
    {
      "cell_type": "markdown",
      "source": [
        "MISSING VALUE\n",
        "- No value is stored for a certain feature in an observation (row/record)\n",
        "- often respresented as \"?\", \"N/A\", 0 or blank cells\n",
        "\n",
        "Possible strategies\n",
        "- Validate if data can be recovred or confirmed from whoever provided it\n",
        "- Remove rows with missing values (if there is not a large number of records in this situation)\n",
        "- Replace values using mean or mode value.\n",
        "- leave rows as missing data"
      ],
      "metadata": {
        "id": "ETLM8RUEan1i"
      }
    },
    {
      "cell_type": "markdown",
      "source": [
        "Method dropna() removes rows with missing values (in any of its features)\n",
        "- axis=0 drops rows\n",
        "- axis=1 drops columns/features"
      ],
      "metadata": {
        "id": "n5HifZxAb9Zj"
      }
    },
    {
      "cell_type": "code",
      "execution_count": null,
      "metadata": {
        "id": "m8Pop4utZQCu"
      },
      "outputs": [],
      "source": []
    }
  ]
}