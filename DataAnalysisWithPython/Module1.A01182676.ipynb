{
  "nbformat": 4,
  "nbformat_minor": 0,
  "metadata": {
    "colab": {
      "provenance": [],
      "authorship_tag": "ABX9TyMbhFs5Q3CZtB+HZ7Bwgz5f",
      "include_colab_link": true
    },
    "kernelspec": {
      "name": "python3",
      "display_name": "Python 3"
    },
    "language_info": {
      "name": "python"
    }
  },
  "cells": [
    {
      "cell_type": "markdown",
      "metadata": {
        "id": "view-in-github",
        "colab_type": "text"
      },
      "source": [
        "<a href=\"https://colab.research.google.com/github/PosgradoMNA/actividades-de-aprendizaje-dsercam/blob/main/DataAnalysisWithPython/Module1.A01182676.ipynb\" target=\"_parent\"><img src=\"https://colab.research.google.com/assets/colab-badge.svg\" alt=\"Open In Colab\"/></a>"
      ]
    },
    {
      "cell_type": "markdown",
      "source": [
        "#**<font color=\"darkblue\">Data Analysis with Python (IBM)</font>**\n",
        "##**<font color=\"darkorange\"> Module 3: Notes and exercises Jupyter Notebook</font>**\n",
        "\n",
        "###**Maestría en Inteligencia Artificial Aplicada**\n",
        "###**Curso: Ciencia y analítica de datos**\n",
        "####**Tecnológico de Monterrey**\n",
        "#####**Prof Jobish Vallikavungal Devassia**\n",
        "\n",
        "###**<font color=\"darkgray\">Nombre del estudiante: Dante Rodrigo Serna Camarillo</font>**\n",
        "###**<font color=\"darkgray\">Matrícula: A01182676</font>**"
      ],
      "metadata": {
        "id": "hLBZgCCqaqD-"
      }
    },
    {
      "cell_type": "code",
      "execution_count": null,
      "metadata": {
        "id": "qeK1bj3BZ1Fb"
      },
      "outputs": [],
      "source": []
    }
  ]
}