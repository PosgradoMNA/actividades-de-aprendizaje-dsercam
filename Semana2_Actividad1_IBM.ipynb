{
  "nbformat": 4,
  "nbformat_minor": 0,
  "metadata": {
    "colab": {
      "provenance": [],
      "authorship_tag": "ABX9TyMpKCu/S8k+AJ+TctrDWaV+",
      "include_colab_link": true
    },
    "kernelspec": {
      "name": "python3",
      "display_name": "Python 3"
    },
    "language_info": {
      "name": "python"
    }
  },
  "cells": [
    {
      "cell_type": "markdown",
      "metadata": {
        "id": "view-in-github",
        "colab_type": "text"
      },
      "source": [
        "<a href=\"https://colab.research.google.com/github/PosgradoMNA/actividades-de-aprendizaje-dsercam/blob/main/Semana2_Actividad1_IBM.ipynb\" target=\"_parent\"><img src=\"https://colab.research.google.com/assets/colab-badge.svg\" alt=\"Open In Colab\"/></a>"
      ]
    },
    {
      "cell_type": "markdown",
      "source": [
        "#**Actividad de la semana 2**\n",
        "\n",
        "###**Maestría en Inteligencia Artificial Aplicada**\n",
        "###**Curso: Inteligencia Artificial y Aprendizaje Automático**\n",
        "####**Tecnológico de Monterrey**\n",
        "#####**Prof Luis Eduardo Falcón Morales**\n",
        "\n",
        "###**Nombre del estudiante: Dante Rodrigo Serna Camarillo**\n",
        "\n",
        "###**Matrícula: A01182676**"
      ],
      "metadata": {
        "id": "JNlFWS8cBxa6"
      }
    },
    {
      "cell_type": "code",
      "execution_count": null,
      "metadata": {
        "id": "Xjz-IBa7Bs7d"
      },
      "outputs": [],
      "source": []
    }
  ]
}