{
  "nbformat": 4,
  "nbformat_minor": 0,
  "metadata": {
    "colab": {
      "provenance": [],
      "collapsed_sections": [],
      "authorship_tag": "ABX9TyOSkT5QWgLMD1ytec0uxs6k",
      "include_colab_link": true
    },
    "kernelspec": {
      "name": "python3",
      "display_name": "Python 3"
    },
    "language_info": {
      "name": "python"
    }
  },
  "cells": [
    {
      "cell_type": "markdown",
      "metadata": {
        "id": "view-in-github",
        "colab_type": "text"
      },
      "source": [
        "<a href=\"https://colab.research.google.com/github/PosgradoMNA/actividades-de-aprendizaje-dsercam/blob/main/Semana2_Actividad1_IBM.ipynb\" target=\"_parent\"><img src=\"https://colab.research.google.com/assets/colab-badge.svg\" alt=\"Open In Colab\"/></a>"
      ]
    },
    {
      "cell_type": "markdown",
      "source": [
        "#**Actividad de la semana 2: Actividad 1: Python for Data Science (IBM)**\n",
        "\n",
        "###**Maestría en Inteligencia Artificial Aplicada**\n",
        "###**Curso: Ciencia y analítica de datos**\n",
        "####**Tecnológico de Monterrey**\n",
        "\n",
        "###**Nombre del estudiante: Dante Rodrigo Serna Camarillo**\n",
        "\n",
        "###**Matrícula: A01182676**"
      ],
      "metadata": {
        "id": "JNlFWS8cBxa6"
      }
    },
    {
      "cell_type": "markdown",
      "source": [
        "# **IBM Módulo 4**\n",
        "\n",
        "\n"
      ],
      "metadata": {
        "id": "KwR3BYQTCbUh"
      }
    },
    {
      "cell_type": "markdown",
      "source": [
        "<font color='darkblue'>File object can be open using the *open()* function</font>\n",
        "\n",
        "*   First argument is the file path. File path is made up of\n",
        "  *   File path\n",
        "  *   File directory\n",
        "\n",
        "*   Second Argument is the mode, commo values include:\n",
        "  * R -> READING\n",
        "  * W -> Writing\n",
        "  * A -> Appending\n",
        "\n",
        "<font color='darkblue'>For example:\n",
        "\n",
        "**myFileObject = open(\"/pathToMyFile/fileName.ext\",\"w\")**</font>\n",
        "\n"
      ],
      "metadata": {
        "id": "NpXMuw1GCy5l"
      }
    },
    {
      "cell_type": "code",
      "execution_count": 2,
      "metadata": {
        "id": "Xjz-IBa7Bs7d",
        "colab": {
          "base_uri": "https://localhost:8080/"
        },
        "outputId": "d6a32aae-7ecf-4209-c1a8-58da3483433b"
      },
      "outputs": [
        {
          "output_type": "execute_result",
          "data": {
            "text/plain": [
              "<_io.TextIOWrapper name='sample_data/california_housing_test.csv' mode='r' encoding='UTF-8'>"
            ]
          },
          "metadata": {},
          "execution_count": 2
        }
      ],
      "source": [
        "#lets open a sample file within this notebook... We can use the \"california_housing_test.csv\" file at the \"sample_data\" folder\n",
        "\n",
        "myFileObject = open(\"sample_data/california_housing_test.csv\",\"r\")\n",
        "myFileObject"
      ]
    },
    {
      "cell_type": "markdown",
      "source": [
        "<font color='darkblue'>Some attributes of a file object:\n",
        "* .name -> returns name of the file, including the path to it\n",
        "* .mode -> mode used to open the file\n",
        "* .close() -> method used to close a file, you should always close a file</font>"
      ],
      "metadata": {
        "id": "1UTUr-Q7Ec3x"
      }
    },
    {
      "cell_type": "code",
      "source": [
        "print(\"myFileObject.name -> \",myFileObject.name)\n",
        "print(\"myFileObject.name -> \",myFileObject.mode)\n",
        "print(\"Closing myFileobject...\")\n",
        "myFileObject.close()\n",
        "print(\"was my file closed?\",myFileObject.closed)"
      ],
      "metadata": {
        "colab": {
          "base_uri": "https://localhost:8080/"
        },
        "id": "JTRZvaS9FA19",
        "outputId": "16d65ebd-9a3b-490c-8123-c251e8d3ce8f"
      },
      "execution_count": 6,
      "outputs": [
        {
          "output_type": "stream",
          "name": "stdout",
          "text": [
            "myFileObject.name ->  sample_data/california_housing_test.csv\n",
            "myFileObject.name ->  r\n",
            "Closing myFileobject...\n",
            "was my file closed? True\n"
          ]
        }
      ]
    },
    {
      "cell_type": "markdown",
      "source": [
        "<font color='darkblue'>A good practice is to use the \"*with*\" instruction when working with files, as it will automatically close a file after the indented instructions are completed for example:</font>"
      ],
      "metadata": {
        "id": "YlhMRK5DF00D"
      }
    },
    {
      "cell_type": "code",
      "source": [
        "with open(\"sample_data/california_housing_test.csv\",\"r\") as myFile:\n",
        "  fileContents = myFile.read() # the read() methods \"reads\" the content of a file into a string.\n",
        "  print(\"\\nThe file contents are (first 300 characters): \",fileContents[0:300])\n",
        "\n",
        "print(\"\\nInstruction out of the -with- block,is my file closed?\",myFile.closed)\n",
        "print(\"\\nPrinting file Conntents outside the -with- block (first 300 characters)->\",fileContents[0:300])  "
      ],
      "metadata": {
        "colab": {
          "base_uri": "https://localhost:8080/"
        },
        "id": "NLrk_1aNFAzp",
        "outputId": "29e04e1c-19d7-48bf-8911-de207a62c7d6"
      },
      "execution_count": 12,
      "outputs": [
        {
          "output_type": "stream",
          "name": "stdout",
          "text": [
            "\n",
            "The file contents are (first 300 characters):  \"longitude\",\"latitude\",\"housing_median_age\",\"total_rooms\",\"total_bedrooms\",\"population\",\"households\",\"median_income\",\"median_house_value\"\n",
            "-122.050000,37.370000,27.000000,3885.000000,661.000000,1537.000000,606.000000,6.608500,344700.000000\n",
            "-118.300000,34.260000,43.000000,1510.000000,310.000000,809.00\n",
            "\n",
            "Instruction out of the -with- block,is my file closed? True\n",
            "\n",
            "Printing file Conntents outside the -with- block (first 300 characters)-> \"longitude\",\"latitude\",\"housing_median_age\",\"total_rooms\",\"total_bedrooms\",\"population\",\"households\",\"median_income\",\"median_house_value\"\n",
            "-122.050000,37.370000,27.000000,3885.000000,661.000000,1537.000000,606.000000,6.608500,344700.000000\n",
            "-118.300000,34.260000,43.000000,1510.000000,310.000000,809.00\n"
          ]
        }
      ]
    },
    {
      "cell_type": "markdown",
      "source": [
        "<font color='darkblue'>The ***readline()*** method is very useful to read a file line by line instead of its whole content.</font>"
      ],
      "metadata": {
        "id": "rZrsrJ1gIIXs"
      }
    },
    {
      "cell_type": "code",
      "source": [
        "with open(\"sample_data/california_housing_test.csv\",\"r\") as myFile:\n",
        "  line1 = myFile.readline() # read the first line.\n",
        "  print(\"\\nThe first line: \",line1)\n",
        "  line2 = myFile.readline() # read the second line.\n",
        "  print(\"\\nThe second line: \",line2)"
      ],
      "metadata": {
        "colab": {
          "base_uri": "https://localhost:8080/"
        },
        "id": "uZuYw2D2IbCf",
        "outputId": "ae3fb2e9-ae1d-4779-8e8c-07b1179f87c5"
      },
      "execution_count": 13,
      "outputs": [
        {
          "output_type": "stream",
          "name": "stdout",
          "text": [
            "\n",
            "The first line:  \"longitude\",\"latitude\",\"housing_median_age\",\"total_rooms\",\"total_bedrooms\",\"population\",\"households\",\"median_income\",\"median_house_value\"\n",
            "\n",
            "\n",
            "The second line:  -122.050000,37.370000,27.000000,3885.000000,661.000000,1537.000000,606.000000,6.608500,344700.000000\n",
            "\n"
          ]
        }
      ]
    },
    {
      "cell_type": "markdown",
      "source": [
        "<font color='darkblue'>The following code is an example on how to iterate and print the file lines:\n",
        "</font>\n",
        "<pre> \n",
        "<font color='darkorange'>\n",
        "<b>with</b> open(\"filePath/fileName.ext\",\"r\") <b>as</b> File1:\n",
        " <b>for</b> line <b>in</b> File1:\n",
        "    print(line)  \n",
        "</font>\n",
        "</pre> \n",
        "</font>"
      ],
      "metadata": {
        "id": "-BFvNANzJqNM"
      }
    },
    {
      "cell_type": "markdown",
      "source": [
        "<font color='darkblue'> The readline method can also be used to progress trought the file contents, using an integer argument we will be reading characters that number of characters, each subsequent call will continue reading *n* characaters after the last read index.</font>"
      ],
      "metadata": {
        "id": "KWJZfMvrLLKN"
      }
    },
    {
      "cell_type": "code",
      "source": [
        "with open(\"sample_data/california_housing_test.csv\",\"r\") as myFile:\n",
        "  line1 = myFile.read(5) # read 5 charactes.\n",
        "  print(\"\\nThe first 5 characters: \",line1)\n",
        "  line2 = myFile.read(10) # read the next 10 characters\n",
        "  print(\"\\nThe next 10 characters: \",line2)\n",
        "  line3 = myFile.read(7) # read the next 7 characters\n",
        "  print(\"\\nThe next 7 characters: \",line3)"
      ],
      "metadata": {
        "colab": {
          "base_uri": "https://localhost:8080/"
        },
        "id": "34kCAkeAJ1rq",
        "outputId": "79a927f0-d9dd-483c-9a6b-431be50b883d"
      },
      "execution_count": 35,
      "outputs": [
        {
          "output_type": "stream",
          "name": "stdout",
          "text": [
            "\n",
            "The first 5 characters:  \"long\n",
            "\n",
            "The next 10 characters:  itude\",\"la\n",
            "\n",
            "The next 7 characters:  titude\"\n"
          ]
        }
      ]
    },
    {
      "cell_type": "markdown",
      "source": [
        "**LAB - READING FILES**"
      ],
      "metadata": {
        "id": "_yGYHHIPMCWJ"
      }
    },
    {
      "cell_type": "markdown",
      "source": [
        "<font color='darkblue'>Download data used in the lab</font>"
      ],
      "metadata": {
        "id": "rmgLtaMTMReX"
      }
    },
    {
      "cell_type": "code",
      "source": [
        "\n",
        "import urllib.request\n",
        "url = 'https://cf-courses-data.s3.us.cloud-object-storage.appdomain.cloud/IBMDeveloperSkillsNetwork-PY0101EN-SkillsNetwork/labs/Module%204/data/example1.txt'\n",
        "filename = 'Example1.txt'\n",
        "urllib.request.urlretrieve(url, filename)\n",
        "\n",
        "## Download Example file\n",
        "#!wget -O /resources/data/Example1.txt https://cf-courses-data.s3.us.cloud-object-storage.appdomain.cloud/IBMDeveloperSkillsNetwork-PY0101EN-SkillsNetwork/labs/Module%204/data/example1.txt"
      ],
      "metadata": {
        "colab": {
          "base_uri": "https://localhost:8080/"
        },
        "id": "_5QWRaYPMFKo",
        "outputId": "6d324a2b-482f-4ee3-cf14-5d67b6e6c308"
      },
      "execution_count": 15,
      "outputs": [
        {
          "output_type": "execute_result",
          "data": {
            "text/plain": [
              "('Example1.txt', <http.client.HTTPMessage at 0x7f4b2dd30450>)"
            ]
          },
          "metadata": {},
          "execution_count": 15
        }
      ]
    },
    {
      "cell_type": "code",
      "source": [
        "#open the file\n",
        "file1 = open(filename,\"r\")\n",
        "\n",
        "#Print the name of the file\n",
        "file1.name"
      ],
      "metadata": {
        "colab": {
          "base_uri": "https://localhost:8080/",
          "height": 37
        },
        "id": "I3qaZtQDNLOi",
        "outputId": "7b5bf739-2a2c-4cf5-bcf3-bd2fdb031012"
      },
      "execution_count": 19,
      "outputs": [
        {
          "output_type": "execute_result",
          "data": {
            "text/plain": [
              "'Example1.txt'"
            ],
            "application/vnd.google.colaboratory.intrinsic+json": {
              "type": "string"
            }
          },
          "metadata": {},
          "execution_count": 19
        }
      ]
    },
    {
      "cell_type": "code",
      "source": [
        "# print the mode\n",
        "file1.mode"
      ],
      "metadata": {
        "colab": {
          "base_uri": "https://localhost:8080/",
          "height": 37
        },
        "id": "xp1VdQj8NSVd",
        "outputId": "ab9465e4-8b48-471e-d72f-2494d21a3e8d"
      },
      "execution_count": 20,
      "outputs": [
        {
          "output_type": "execute_result",
          "data": {
            "text/plain": [
              "'r'"
            ],
            "application/vnd.google.colaboratory.intrinsic+json": {
              "type": "string"
            }
          },
          "metadata": {},
          "execution_count": 20
        }
      ]
    },
    {
      "cell_type": "code",
      "source": [
        "# Read and print the file contents\n",
        "FileContent = file1.read()\n",
        "FileContent"
      ],
      "metadata": {
        "colab": {
          "base_uri": "https://localhost:8080/",
          "height": 37
        },
        "id": "QX0CHFwRNp1_",
        "outputId": "aa54bc3f-4ff0-4f21-97ae-30ffac2cc281"
      },
      "execution_count": 21,
      "outputs": [
        {
          "output_type": "execute_result",
          "data": {
            "text/plain": [
              "'This is line 1 \\nThis is line 2\\nThis is line 3'"
            ],
            "application/vnd.google.colaboratory.intrinsic+json": {
              "type": "string"
            }
          },
          "metadata": {},
          "execution_count": 21
        }
      ]
    },
    {
      "cell_type": "code",
      "source": [
        "#using the print() method will print the contents and interpret the new lines\n",
        "print(FileContent)"
      ],
      "metadata": {
        "colab": {
          "base_uri": "https://localhost:8080/"
        },
        "id": "JGcSlAqaN3kF",
        "outputId": "c54b2b71-f9e1-4d09-c84a-472f023676f6"
      },
      "execution_count": 22,
      "outputs": [
        {
          "output_type": "stream",
          "name": "stdout",
          "text": [
            "This is line 1 \n",
            "This is line 2\n",
            "This is line 3\n"
          ]
        }
      ]
    },
    {
      "cell_type": "code",
      "source": [
        "#you can also determine the type of the file contents\n",
        "type(FileContent)"
      ],
      "metadata": {
        "colab": {
          "base_uri": "https://localhost:8080/"
        },
        "id": "P14pDlrNOCGU",
        "outputId": "1142acb5-a198-45bd-b134-e9662193d2af"
      },
      "execution_count": 23,
      "outputs": [
        {
          "output_type": "execute_result",
          "data": {
            "text/plain": [
              "str"
            ]
          },
          "metadata": {},
          "execution_count": 23
        }
      ]
    },
    {
      "cell_type": "code",
      "source": [
        "#Dont forget to close the file at the end!\n",
        "file1.close()"
      ],
      "metadata": {
        "id": "g7EBoCSlOJE6"
      },
      "execution_count": 24,
      "outputs": []
    },
    {
      "cell_type": "code",
      "source": [
        "#was the file closed?\n",
        "file1.closed"
      ],
      "metadata": {
        "colab": {
          "base_uri": "https://localhost:8080/"
        },
        "id": "8_abH_TbOQEW",
        "outputId": "aed2655e-6166-41e6-de31-d0d050342926"
      },
      "execution_count": 25,
      "outputs": [
        {
          "output_type": "execute_result",
          "data": {
            "text/plain": [
              "True"
            ]
          },
          "metadata": {},
          "execution_count": 25
        }
      ]
    },
    {
      "cell_type": "code",
      "source": [
        "#remember to use the \"with\" content to safely work with a file\n",
        "with open(filename, \"r\") as file2:\n",
        "    FileContent2 = file2.read()\n",
        "    print(FileContent2)"
      ],
      "metadata": {
        "colab": {
          "base_uri": "https://localhost:8080/"
        },
        "id": "43LVGv3COTXe",
        "outputId": "6aef6e9d-a789-496b-d119-3279e79b5ba9"
      },
      "execution_count": 30,
      "outputs": [
        {
          "output_type": "stream",
          "name": "stdout",
          "text": [
            "This is line 1 \n",
            "This is line 2\n",
            "This is line 3\n"
          ]
        }
      ]
    },
    {
      "cell_type": "code",
      "source": [
        "#you can assert that the file was actually closed\n",
        "file2.closed"
      ],
      "metadata": {
        "colab": {
          "base_uri": "https://localhost:8080/"
        },
        "id": "lwWsd54yO2VR",
        "outputId": "b51315a6-1081-4821-fac2-d6e31ea1b148"
      },
      "execution_count": 31,
      "outputs": [
        {
          "output_type": "execute_result",
          "data": {
            "text/plain": [
              "True"
            ]
          },
          "metadata": {},
          "execution_count": 31
        }
      ]
    },
    {
      "cell_type": "code",
      "source": [
        "#you can print the file contents outside the \"with\" scope\n",
        "print(FileContent2)"
      ],
      "metadata": {
        "colab": {
          "base_uri": "https://localhost:8080/"
        },
        "id": "b975kuubPgAp",
        "outputId": "cd61155e-dd64-41f8-f692-6ec5e94c0dc8"
      },
      "execution_count": 32,
      "outputs": [
        {
          "output_type": "stream",
          "name": "stdout",
          "text": [
            "This is line 1 \n",
            "This is line 2\n",
            "This is line 3\n"
          ]
        }
      ]
    },
    {
      "cell_type": "code",
      "source": [
        "# read the four first characters\n",
        "with open(filename, \"r\") as file3:\n",
        "    print(file3.read(4))"
      ],
      "metadata": {
        "colab": {
          "base_uri": "https://localhost:8080/"
        },
        "id": "wwU3ZuUyPt0z",
        "outputId": "df206ab2-dcae-45d0-f02b-cf99ae58ac88"
      },
      "execution_count": 33,
      "outputs": [
        {
          "output_type": "stream",
          "name": "stdout",
          "text": [
            "This\n"
          ]
        }
      ]
    },
    {
      "cell_type": "code",
      "source": [
        "# Read one line\n",
        "\n",
        "with open(filename, \"r\") as file4:\n",
        "    print(\"first line as: \" + file4.readline())"
      ],
      "metadata": {
        "colab": {
          "base_uri": "https://localhost:8080/"
        },
        "id": "vcGAtV3GP3j3",
        "outputId": "4d18d8e9-4f61-4237-d84b-d22d341b65be"
      },
      "execution_count": 34,
      "outputs": [
        {
          "output_type": "stream",
          "name": "stdout",
          "text": [
            "first line as: This is line 1 \n",
            "\n"
          ]
        }
      ]
    },
    {
      "cell_type": "markdown",
      "source": [
        "<font color='blue'>INTERESTING FACT! </font> We can also pass an argument to  readline()  to specify the number of charecters we want to read. However, unlike  read(),  readline() can only read one line at most."
      ],
      "metadata": {
        "id": "snhyGqELQ9Q6"
      }
    },
    {
      "cell_type": "code",
      "source": [
        "with open(filename, \"r\") as file1:\n",
        "    print(file1.readline(20)) # does not read past the end of line\n",
        "    print(file1.read(20)) # Returns the next 20 chars"
      ],
      "metadata": {
        "colab": {
          "base_uri": "https://localhost:8080/"
        },
        "id": "A3qE-AotQRRk",
        "outputId": "c61b3fd8-c7c9-428c-ea8a-85876cd306d5"
      },
      "execution_count": 36,
      "outputs": [
        {
          "output_type": "stream",
          "name": "stdout",
          "text": [
            "This is line 1 \n",
            "\n",
            "This is line 2\n",
            "This \n"
          ]
        }
      ]
    },
    {
      "cell_type": "code",
      "source": [
        "# for loops can also be used to iterate over files\n",
        "\n",
        "with open(filename,\"r\") as file1:\n",
        "        i = 0;\n",
        "        for line in file1:\n",
        "            print(\"Iteration\", str(i), \": \", line)\n",
        "            i = i + 1"
      ],
      "metadata": {
        "colab": {
          "base_uri": "https://localhost:8080/"
        },
        "id": "wR6FwuirROBz",
        "outputId": "c61608af-053c-41a4-e596-649e3b210f39"
      },
      "execution_count": 37,
      "outputs": [
        {
          "output_type": "stream",
          "name": "stdout",
          "text": [
            "Iteration 0 :  This is line 1 \n",
            "\n",
            "Iteration 1 :  This is line 2\n",
            "\n",
            "Iteration 2 :  This is line 3\n"
          ]
        }
      ]
    },
    {
      "cell_type": "markdown",
      "source": [
        "<font color=\"blue\"> <b>readlines()</b> method!</font> can be used to read all the lines in a file and save them into a list"
      ],
      "metadata": {
        "id": "RaZ4tftTRqur"
      }
    },
    {
      "cell_type": "code",
      "source": [
        "with open(filename, \"r\") as file1:\n",
        "    FileasList = file1.readlines()\n",
        "\n",
        "print(\"List[0] \", FileasList[0])   \n",
        "print(\"List[1] \", FileasList[1])"
      ],
      "metadata": {
        "colab": {
          "base_uri": "https://localhost:8080/"
        },
        "id": "1k8jMm2TRi94",
        "outputId": "2e4e6978-c749-4b35-d5b8-ee72f5f25ffd"
      },
      "execution_count": 43,
      "outputs": [
        {
          "output_type": "stream",
          "name": "stdout",
          "text": [
            "List[0]  This is line 1 \n",
            "\n",
            "List[1]  This is line 2\n",
            "\n"
          ]
        }
      ]
    },
    {
      "cell_type": "markdown",
      "source": [
        "# **WRITING FILE WITH OPEN()**"
      ],
      "metadata": {
        "id": "gwz76Fh-S6Jy"
      }
    },
    {
      "cell_type": "markdown",
      "source": [
        "<font color=\"darkblue\"> We can use the open() method to write a file:\n",
        "*  Set the write mode using \"w\" as an argument\n",
        "*  Consider that if the file already exists at the path, it will be overwritten\n",
        "*  We can also use the \"with\" statemnt to safely work with a file and let it close automatically after the indented instructions have been executed."
      ],
      "metadata": {
        "id": "M2rIL-nWTrdF"
      }
    },
    {
      "cell_type": "code",
      "source": [
        "#you can use the write() method to write in a file, using it multiple times will append the provided info to the contents\n",
        "with open(\"sample_data/myTestFile.txt\",\"w\") as fileToWrite:\n",
        "  fileToWrite.write(\"this is the first line: Dante\\n\")\n",
        "  fileToWrite.write(\"this is the second line: Serna\\n\")\n",
        "  print(fileToWrite)\n",
        "\n",
        "with open(\"sample_data/myTestFile.txt\",\"r\") as fileToRead:\n",
        "  contents = fileToRead.read()\n",
        "  print(contents)"
      ],
      "metadata": {
        "colab": {
          "base_uri": "https://localhost:8080/"
        },
        "id": "AfvvdJJiUYB2",
        "outputId": "826469a5-c812-45eb-8ad3-936c34c49954"
      },
      "execution_count": 48,
      "outputs": [
        {
          "output_type": "stream",
          "name": "stdout",
          "text": [
            "<_io.TextIOWrapper name='sample_data/myTestFile.txt' mode='w' encoding='UTF-8'>\n",
            "this is the first line: Dante\n",
            "this is the second line: Serna\n",
            "\n"
          ]
        }
      ]
    },
    {
      "cell_type": "code",
      "source": [
        "#you can also use a list to write to a file\n",
        "ListOfLines = [\"This is the first line 1\\n\",\"This is the second line 2\\n\",\"This is the thrid line 3\\n\"]\n",
        "with open(\"sample_data/myTestFile2.txt\",\"w\") as fileToWrite:\n",
        "  for line in ListOfLines:\n",
        "    fileToWrite.write(line)\n",
        "  print(fileToWrite)\n",
        "\n",
        "with open(\"sample_data/myTestFile2.txt\",\"r\") as fileToRead:\n",
        "  contents = fileToRead.read()\n",
        "  print(contents)  "
      ],
      "metadata": {
        "colab": {
          "base_uri": "https://localhost:8080/"
        },
        "id": "eweDiyp3VpkF",
        "outputId": "5689fcb5-037c-471b-a65e-aec290243091"
      },
      "execution_count": 49,
      "outputs": [
        {
          "output_type": "stream",
          "name": "stdout",
          "text": [
            "<_io.TextIOWrapper name='sample_data/myTestFile2.txt' mode='w' encoding='UTF-8'>\n",
            "This is the first line 1\n",
            "This is the second line 2\n",
            "This is the thrid line 3\n",
            "\n"
          ]
        }
      ]
    },
    {
      "cell_type": "markdown",
      "source": [
        "<font color='darkblue'> IMPORTANT! you can use the \"a\" mode to append contents to a exisitng file:</font>"
      ],
      "metadata": {
        "id": "zwQ3u6lhWniL"
      }
    },
    {
      "cell_type": "code",
      "source": [
        "ListOfLines = [\"This is the first line 4\\n\",\"This is the second line 5\\n\",\"This is the thrid line 6\\n\"]\n",
        "with open(\"sample_data/myTestFile2.txt\",\"a\") as fileToWrite:\n",
        "  for line in ListOfLines:\n",
        "    fileToWrite.write(line)\n",
        "  print(fileToWrite)\n",
        "\n",
        "with open(\"sample_data/myTestFile2.txt\",\"r\") as fileToRead:\n",
        "  contents = fileToRead.read()\n",
        "  print(contents)  "
      ],
      "metadata": {
        "colab": {
          "base_uri": "https://localhost:8080/"
        },
        "id": "hsCLqQxjW5pn",
        "outputId": "21c942cb-362d-4af8-8e70-9d92b5b12899"
      },
      "execution_count": 50,
      "outputs": [
        {
          "output_type": "stream",
          "name": "stdout",
          "text": [
            "<_io.TextIOWrapper name='sample_data/myTestFile2.txt' mode='a' encoding='UTF-8'>\n",
            "This is the first line 1\n",
            "This is the second line 2\n",
            "This is the thrid line 3\n",
            "This is the first line 4\n",
            "This is the second line 5\n",
            "This is the thrid line 6\n",
            "\n"
          ]
        }
      ]
    },
    {
      "cell_type": "markdown",
      "source": [
        "<font color=\"orange\"> <b> INTERESTING !!! </b> </font> <br>\n",
        "<font color=\"darkblue\"> you can create a copy of a file by copying its contents using a nested loop</font>"
      ],
      "metadata": {
        "id": "vV9USMFyXJDH"
      }
    },
    {
      "cell_type": "code",
      "source": [
        "with open(\"sample_data/myTestFile2.txt\",\"r\") as sourceFile:\n",
        "    with open(\"sample_data/myTestFile2Copy.txt\",\"w\") as destinationFile:\n",
        "      for line in sourceFile:\n",
        "        destinationFile.write(line)\n",
        "\n",
        "with open(\"sample_data/myTestFile2Copy.txt\",\"r\") as fileToRead:\n",
        "  contents = fileToRead.read()\n",
        "  print(contents)          "
      ],
      "metadata": {
        "colab": {
          "base_uri": "https://localhost:8080/"
        },
        "id": "yLsZvEztXfkj",
        "outputId": "fb0d853f-d72f-4aaf-cec2-84d6a55bcaec"
      },
      "execution_count": 52,
      "outputs": [
        {
          "output_type": "stream",
          "name": "stdout",
          "text": [
            "This is the first line 1\n",
            "This is the second line 2\n",
            "This is the thrid line 3\n",
            "This is the first line 4\n",
            "This is the second line 5\n",
            "This is the thrid line 6\n",
            "\n"
          ]
        }
      ]
    },
    {
      "cell_type": "markdown",
      "source": [
        "# Writing files - LAB"
      ],
      "metadata": {
        "id": "ZjLY8wZOYgTA"
      }
    },
    {
      "cell_type": "code",
      "source": [
        "# Write line to a new file, use the \"w\" mode and th write() method\n",
        "exmp2 = 'sample_data/myLabFile.txt'\n",
        "with open(exmp2, 'w') as writefile:\n",
        "    writefile.write(\"This is line A\")"
      ],
      "metadata": {
        "id": "uJZYrcF9YjOD"
      },
      "execution_count": 54,
      "outputs": []
    },
    {
      "cell_type": "code",
      "source": [
        "# Read the file we jsut created\n",
        "\n",
        "with open(exmp2, 'r') as testwritefile:\n",
        "    print(testwritefile.read())"
      ],
      "metadata": {
        "colab": {
          "base_uri": "https://localhost:8080/"
        },
        "id": "s9LI8Fq2YylR",
        "outputId": "023e08da-4e98-496c-ec79-77ebb26dbb7d"
      },
      "execution_count": 55,
      "outputs": [
        {
          "output_type": "stream",
          "name": "stdout",
          "text": [
            "This is line A\n"
          ]
        }
      ]
    },
    {
      "cell_type": "code",
      "source": [
        "# Write multiple lines to this file again, as it already exists it will be overwritten\n",
        "\n",
        "with open(exmp2, 'w') as writefile:\n",
        "    writefile.write(\"This is line A\\n\")\n",
        "    writefile.write(\"This is line B\\n\")"
      ],
      "metadata": {
        "id": "7t4vPW4YY6BZ"
      },
      "execution_count": 56,
      "outputs": []
    },
    {
      "cell_type": "code",
      "source": [
        "# Read the file to see how the file was overwritten (won;t find \"This is line A\" twice)\n",
        "\n",
        "with open(exmp2, 'r') as testwritefile:\n",
        "    print(testwritefile.read())"
      ],
      "metadata": {
        "colab": {
          "base_uri": "https://localhost:8080/"
        },
        "id": "5FLQIOaMZJ7E",
        "outputId": "e02d8ed9-3445-4f6d-8a4c-cbeb0ba12d33"
      },
      "execution_count": 57,
      "outputs": [
        {
          "output_type": "stream",
          "name": "stdout",
          "text": [
            "This is line A\n",
            "This is line B\n",
            "\n"
          ]
        }
      ]
    },
    {
      "cell_type": "code",
      "source": [
        "#use the followign list to write a file\n",
        "Lines = [\"This is line A\\n\", \"This is line B\\n\", \"This is line C\\n\"]\n",
        "\n",
        "with open(exmp2, 'w') as writefile:\n",
        "    for line in Lines:\n",
        "        print(line)\n",
        "        writefile.write(line)"
      ],
      "metadata": {
        "colab": {
          "base_uri": "https://localhost:8080/"
        },
        "id": "ntxGszXKZUWp",
        "outputId": "a8a1d2c8-42f8-4c2d-cd52-abcfbb3c15fc"
      },
      "execution_count": 67,
      "outputs": [
        {
          "output_type": "stream",
          "name": "stdout",
          "text": [
            "This is line A\n",
            "\n",
            "This is line B\n",
            "\n",
            "This is line C\n",
            "\n"
          ]
        }
      ]
    },
    {
      "cell_type": "code",
      "source": [
        "# Read the file to see how the file was overwritten \n",
        "\n",
        "with open(exmp2, 'r') as testwritefile:\n",
        "    print(testwritefile.read())"
      ],
      "metadata": {
        "colab": {
          "base_uri": "https://localhost:8080/"
        },
        "id": "LSS18-uqZleK",
        "outputId": "0c5006a2-4c24-4339-8aae-eb379468d66d"
      },
      "execution_count": 59,
      "outputs": [
        {
          "output_type": "stream",
          "name": "stdout",
          "text": [
            "This is line A\n",
            "This is line B\n",
            "This is line C\n",
            "\n"
          ]
        }
      ]
    },
    {
      "cell_type": "code",
      "source": [
        "# use the \"a\" mode to append data without overwriting file contents\n",
        "\n",
        "with open(exmp2, 'a') as testwritefile:\n",
        "    testwritefile.write(\"This is line C\\n\")\n",
        "    testwritefile.write(\"This is line D\\n\")\n",
        "    testwritefile.write(\"This is line E\\n\")"
      ],
      "metadata": {
        "id": "6vpSyK4DZstR"
      },
      "execution_count": 68,
      "outputs": []
    },
    {
      "cell_type": "code",
      "source": [
        "# Read to see how text was appended\n",
        "\n",
        "with open(exmp2, 'r') as testwritefile:\n",
        "    print(testwritefile.read())"
      ],
      "metadata": {
        "colab": {
          "base_uri": "https://localhost:8080/"
        },
        "id": "aBsUQoENaYQn",
        "outputId": "dfd5f89d-760e-4ba8-b568-1cf2d7d0ef4d"
      },
      "execution_count": 61,
      "outputs": [
        {
          "output_type": "stream",
          "name": "stdout",
          "text": [
            "This is line A\n",
            "This is line B\n",
            "This is line C\n",
            "This is line C\n",
            "This is line D\n",
            "This is line E\n",
            "\n"
          ]
        }
      ]
    },
    {
      "cell_type": "markdown",
      "source": [
        "# <font color=\"orange\"> Additional modes!</font>\n",
        "<font color=\"darkblue\">\n",
        "Consider its ineffecient to open the file in \"a\" or \"w\" and then reopening it in r to read any lines. To address that issue we can use the following modes:\n",
        "\n",
        "* r+ : Reading and writing. Cannot truncate the file.\n",
        "* w+ : Writing and reading. Truncates the file.\n",
        "* a+ : Appending and Reading. Creates a new file, if none exists.\n",
        "</font"
      ],
      "metadata": {
        "id": "udEzP1PoakXC"
      }
    },
    {
      "cell_type": "code",
      "source": [
        "#reading a file that does not exist, file will be created but there is no content to read...\n",
        "with open('sample_data/iDontExistYet.txt', 'a+') as testwritefile:\n",
        "    testwritefile.write(\"This is line E\\n\")\n",
        "    print(testwritefile.read())"
      ],
      "metadata": {
        "colab": {
          "base_uri": "https://localhost:8080/"
        },
        "id": "2YKmatfvafsB",
        "outputId": "7bda9b31-7432-44bf-f54e-a8ed3072faa5"
      },
      "execution_count": 63,
      "outputs": [
        {
          "output_type": "stream",
          "name": "stdout",
          "text": [
            "\n"
          ]
        }
      ]
    },
    {
      "cell_type": "markdown",
      "source": [
        "Nothing was printed because the cursor is at the end of the file when read...."
      ],
      "metadata": {
        "id": "EoUC0GTFbxav"
      }
    },
    {
      "cell_type": "markdown",
      "source": [],
      "metadata": {
        "id": "XBz-k9XAbv9c"
      }
    },
    {
      "cell_type": "code",
      "source": [
        "#You can understand the behavior of the cursos with this example\n",
        "with open(exmp2, 'a+') as testwritefile:\n",
        "    print(\"Initial Location: {}\".format(testwritefile.tell()))\n",
        "    \n",
        "    data = testwritefile.read()\n",
        "    if (not data):  #empty strings return false in python\n",
        "            print('Read nothing') \n",
        "    else: \n",
        "            print(testwritefile.read())\n",
        "            \n",
        "    testwritefile.seek(0,0) # move 0 bytes from beginning.\n",
        "    \n",
        "    print(\"\\nNew Location : {}\".format(testwritefile.tell()))\n",
        "    data = testwritefile.read()\n",
        "    if (not data): \n",
        "            print('Read nothing') \n",
        "    else: \n",
        "            print(data)\n",
        "    \n",
        "    print(\"Location after read: {}\".format(testwritefile.tell()) )"
      ],
      "metadata": {
        "colab": {
          "base_uri": "https://localhost:8080/"
        },
        "id": "qtFe550ZboTz",
        "outputId": "3cf458e0-191f-4b4d-dcec-e5d839664191"
      },
      "execution_count": 65,
      "outputs": [
        {
          "output_type": "stream",
          "name": "stdout",
          "text": [
            "Initial Location: 90\n",
            "Read nothing\n",
            "\n",
            "New Location : 0\n",
            "This is line A\n",
            "This is line B\n",
            "This is line C\n",
            "This is line C\n",
            "This is line D\n",
            "This is line E\n",
            "\n",
            "Location after read: 90\n"
          ]
        }
      ]
    },
    {
      "cell_type": "markdown",
      "source": [
        "<font color=\"darkblue\">The difference between *w+* and *r+*. <br>\n",
        "Both of these modes allow access to read and write methods, however, opening a file in w+ overwrites it and deletes all pre-existing data. \n",
        "To work with a file on existing data, use r+ and a+.<br> \n",
        "While using r+, it can be useful to add a .truncate() method at the end of your data. This will reduce the file to your data and delete everything that follows. \n",
        "In the following code block, Run the code as it is first and then run it with the .truncate().</font>"
      ],
      "metadata": {
        "id": "X1QWhDhpcfAc"
      }
    },
    {
      "cell_type": "code",
      "source": [
        "with open(exmp2, 'r+') as testwritefile:\n",
        "    data = testwritefile.readlines()\n",
        "    testwritefile.seek(0,0) #write at beginning of file\n",
        "   \n",
        "    testwritefile.write(\"Line 1\" + \"\\n\")\n",
        "    testwritefile.write(\"Line 2\" + \"\\n\")\n",
        "    testwritefile.write(\"Line 3\" + \"\\n\")\n",
        "    testwritefile.write(\"finished\\n\")\n",
        "    #Uncomment the line below\n",
        "    #testwritefile.truncate()\n",
        "    testwritefile.seek(0,0)\n",
        "    print(testwritefile.read())"
      ],
      "metadata": {
        "colab": {
          "base_uri": "https://localhost:8080/"
        },
        "id": "v6JovwPkcKTp",
        "outputId": "74493fa9-f6af-4c94-d7c5-383d85b0210f"
      },
      "execution_count": 66,
      "outputs": [
        {
          "output_type": "stream",
          "name": "stdout",
          "text": [
            "Line 1\n",
            "Line 2\n",
            "Line 3\n",
            "finished\n",
            "This is line C\n",
            "This is line C\n",
            "This is line D\n",
            "This is line E\n",
            "\n"
          ]
        }
      ]
    },
    {
      "cell_type": "code",
      "source": [
        "#regenerated file to previous contents for this exercise\n",
        "#copy the contents into another file\n",
        "\n",
        "# Copy file to another\n",
        "\n",
        "with open(exmp2,'r') as readfile:\n",
        "    with open('sample_data/myLabFileCopy.txt','w') as writefile:\n",
        "          for line in readfile:\n",
        "                writefile.write(line)\n",
        "\n",
        "with open('sample_data/myLabFileCopy.txt','r') as testwritefile:\n",
        "    print(testwritefile.read())                "
      ],
      "metadata": {
        "colab": {
          "base_uri": "https://localhost:8080/"
        },
        "id": "sY1jZuX6dTuy",
        "outputId": "32cb6e65-c87e-4694-973d-6bab30f3f8e1"
      },
      "execution_count": 69,
      "outputs": [
        {
          "output_type": "stream",
          "name": "stdout",
          "text": [
            "This is line A\n",
            "This is line B\n",
            "This is line C\n",
            "This is line C\n",
            "This is line D\n",
            "This is line E\n",
            "\n"
          ]
        }
      ]
    },
    {
      "cell_type": "markdown",
      "source": [
        "**LAB EXERCISE**\n",
        "\n",
        "Your local university's Raptors fan club maintains a register of its active members on a .txt document. Every month they update the file by removing the members who are not active. You have been tasked with automating this with your Python skills. \n",
        "<br>\n",
        "Given the file currentMem, Remove each member with a 'no' in their Active column. Keep track of each of the removed members and append them to the exMem file. Make sure that the format of the original files in preserved. (Hint: Do this by reading/writing whole lines and ensuring the header remains ) \n",
        "Run the code block below prior to starting the exercise. The skeleton code has been provided for you. Edit only the cleanFiles function."
      ],
      "metadata": {
        "id": "oupxeZaRd5QB"
      }
    },
    {
      "cell_type": "code",
      "source": [
        "#Run this prior to starting the exercise\n",
        "from random import randint as rnd\n",
        "\n",
        "memReg = 'sample_data/members.txt'\n",
        "exReg = 'sample_data/inactive.txt'\n",
        "fee =('yes','no')\n",
        "\n",
        "def genFiles(current,old):\n",
        "    with open(current,'w+') as writefile: \n",
        "        writefile.write('Membership No  Date Joined  Active  \\n')\n",
        "        data = \"{:^13}  {:<11}  {:<6}\\n\"\n",
        "\n",
        "        for rowno in range(20):\n",
        "            date = str(rnd(2015,2020))+ '-' + str(rnd(1,12))+'-'+str(rnd(1,25))\n",
        "            writefile.write(data.format(rnd(10000,99999),date,fee[rnd(0,1)]))\n",
        "\n",
        "\n",
        "    with open(old,'w+') as writefile: \n",
        "        writefile.write('Membership No  Date Joined  Active  \\n')\n",
        "        data = \"{:^13}  {:<11}  {:<6}\\n\"\n",
        "        for rowno in range(3):\n",
        "            date = str(rnd(2015,2020))+ '-' + str(rnd(1,12))+'-'+str(rnd(1,25))\n",
        "            writefile.write(data.format(rnd(10000,99999),date,fee[1]))\n",
        "\n",
        "\n",
        "genFiles(memReg,exReg)"
      ],
      "metadata": {
        "id": "burU1cRadoL9"
      },
      "execution_count": 70,
      "outputs": []
    },
    {
      "cell_type": "code",
      "source": [
        "'''\n",
        "The two arguments for this function are the files:\n",
        "    - currentMem: File containing list of current members\n",
        "    - exMem: File containing list of old members\n",
        "    \n",
        "    This function should remove all rows from currentMem containing 'no' \n",
        "    in the 'Active' column and appends them to exMem.\n",
        "    '''\n",
        "def cleanFiles(currentMem, exMem):\n",
        "        with open(currentMem,\"r+\") as cm:\n",
        "            with open(exMem,\"a+\") as em:\n",
        "                #fix cursor\n",
        "                cm.seek(0)\n",
        "                cmList = cm.readlines()\n",
        "                header = cmList[0]\n",
        "                cmList.pop(0)\n",
        "                #list for inactive memebers\n",
        "                inactiveMembers = []\n",
        "                for member in cmList:\n",
        "                  if 'no' in member:\n",
        "                    inactiveMembers.append(member)\n",
        "                #move to the beginning of the memebers file again\n",
        "                cm.seek(0) \n",
        "                #make sure we include the headers again\n",
        "                cm.write(header)\n",
        "                #iterate over the members\n",
        "                for member in cmList:\n",
        "                  #if the memeber is also in the flagged inactive, write to the em file for inactives\n",
        "                  if (member in inactiveMembers):\n",
        "                    em.write(member)\n",
        "                  #otherwise it is not inactive, write in the current members file\n",
        "                  else:\n",
        "                    cm.write(member)\n",
        "                #truncate whatever remains of the previous current memeber files\n",
        "                cm.truncate()   \n",
        "\n",
        "# The code below is to help you view the files.\n",
        "# Do not modify this code for this exercise.\n",
        "memReg = 'sample_data/members.txt'\n",
        "exReg = 'sample_data/inactive.txt'\n",
        "cleanFiles(memReg,exReg)\n",
        "\n",
        "\n",
        "headers = \"Membership No  Date Joined  Active  \\n\"\n",
        "with open(memReg,'r') as readFile:\n",
        "    print(\"Active Members: \\n\\n\")\n",
        "    print(readFile.read())\n",
        "    \n",
        "with open(exReg,'r') as readFile:\n",
        "    print(\"Inactive Members: \\n\\n\")\n",
        "    print(readFile.read())"
      ],
      "metadata": {
        "colab": {
          "base_uri": "https://localhost:8080/"
        },
        "id": "OaihUIiEepaw",
        "outputId": "25b08bc6-1a81-4b20-e6db-6be2027600ff"
      },
      "execution_count": 74,
      "outputs": [
        {
          "output_type": "stream",
          "name": "stdout",
          "text": [
            "Active Members: \n",
            "\n",
            "\n",
            "Membership No  Date Joined  Active  \n",
            "    42422      2019-6-14    yes   \n",
            "    84749      2019-5-25    yes   \n",
            "    98913      2019-7-24    yes   \n",
            "    23691      2019-3-18    yes   \n",
            "    91516      2016-1-1     yes   \n",
            "    78625      2018-6-13    yes   \n",
            "    94769      2018-11-7    yes   \n",
            "    19738      2019-12-20   yes   \n",
            "    70424      2018-7-6     yes   \n",
            "    53648      2018-10-6    yes   \n",
            "    56434      2017-10-16   yes   \n",
            "\n",
            "Inactive Members: \n",
            "\n",
            "\n",
            "Membership No  Date Joined  Active  \n",
            "    87269      2015-10-15   no    \n",
            "    24059      2017-9-16    no    \n",
            "    72698      2016-4-12    no    \n",
            "    12616      2015-1-23    no    \n",
            "    46865      2020-11-18   no    \n",
            "    67445      2018-7-9     no    \n",
            "    78294      2018-12-1    no    \n",
            "    65390      2015-2-18    no    \n",
            "    47107      2016-4-9     no    \n",
            "    20901      2015-12-23   no    \n",
            "    14776      2015-11-4    no    \n",
            "    96985      2015-7-20    no    \n",
            "\n"
          ]
        }
      ]
    },
    {
      "cell_type": "code",
      "source": [],
      "metadata": {
        "id": "u8YFdO4ciyn9"
      },
      "execution_count": null,
      "outputs": []
    }
  ]
}