{
  "nbformat": 4,
  "nbformat_minor": 0,
  "metadata": {
    "colab": {
      "provenance": [],
      "collapsed_sections": [],
      "authorship_tag": "ABX9TyMPQQNF0xHhPKtw1KXq6las",
      "include_colab_link": true
    },
    "kernelspec": {
      "name": "python3",
      "display_name": "Python 3"
    },
    "language_info": {
      "name": "python"
    }
  },
  "cells": [
    {
      "cell_type": "markdown",
      "metadata": {
        "id": "view-in-github",
        "colab_type": "text"
      },
      "source": [
        "<a href=\"https://colab.research.google.com/github/PosgradoMNA/actividades-de-aprendizaje-dsercam/blob/main/Semana3_PythonIBM.ipynb\" target=\"_parent\"><img src=\"https://colab.research.google.com/assets/colab-badge.svg\" alt=\"Open In Colab\"/></a>"
      ]
    },
    {
      "cell_type": "markdown",
      "source": [
        "#**Semana 3: Python for Data Science (IBM)**\n",
        "\n",
        "###**Maestría en Inteligencia Artificial Aplicada**\n",
        "###**Curso: Ciencia y analítica de datos**\n",
        "####**Tecnológico de Monterrey**\n",
        "#####**Prof Jobish Vallikavungal Devassia**\n",
        "\n",
        "###**Nombre del estudiante: Dante Rodrigo Serna Camarillo**\n",
        "\n",
        "###**Matrícula: A01182676**"
      ],
      "metadata": {
        "id": "I_ISBXbWTkN_"
      }
    },
    {
      "cell_type": "markdown",
      "source": [
        "# <center><font color=\"orange\"> Module 5 - Working with Numpy Arrays & Simple APIs </font></center>"
      ],
      "metadata": {
        "id": "rjLHT8YFUgwa"
      }
    },
    {
      "cell_type": "markdown",
      "source": [
        "# <font color=\"darkblue\"> Numpy arrays </font>"
      ],
      "metadata": {
        "id": "BqAZh9hSU7NK"
      }
    },
    {
      "cell_type": "markdown",
      "source": [
        "Element in a numpy arraya have the same type\n",
        "Its elements can be accessed using the square brackets notation, like python lists."
      ],
      "metadata": {
        "id": "9VHLNoZHVYrC"
      }
    },
    {
      "cell_type": "code",
      "execution_count": 1,
      "metadata": {
        "colab": {
          "base_uri": "https://localhost:8080/"
        },
        "id": "hak0M6DDThby",
        "outputId": "44ab249b-d16d-4d14-8007-955301889a94"
      },
      "outputs": [
        {
          "output_type": "execute_result",
          "data": {
            "text/plain": [
              "array([1, 2, 3, 4, 5])"
            ]
          },
          "metadata": {},
          "execution_count": 1
        }
      ],
      "source": [
        "import numpy as np\n",
        "#casting a list into a numpy array\n",
        "myList = [1,2,3,4,5]\n",
        "myNumpyArray = np.array(myList)\n",
        "#see the numpy array\n",
        "myNumpyArray"
      ]
    },
    {
      "cell_type": "code",
      "source": [
        "#lets check the resulting data type\n",
        "type(myNumpyArray)"
      ],
      "metadata": {
        "colab": {
          "base_uri": "https://localhost:8080/"
        },
        "id": "JYcqJqivW4Nn",
        "outputId": "446288e1-fdf2-49e7-ed1c-e0ccfeb98676"
      },
      "execution_count": null,
      "outputs": [
        {
          "output_type": "execute_result",
          "data": {
            "text/plain": [
              "numpy.ndarray"
            ]
          },
          "metadata": {},
          "execution_count": 46
        }
      ]
    },
    {
      "cell_type": "code",
      "source": [
        "#other relevant attributes for a numpy array\n",
        "print(\"Size of the arrary: \",myNumpyArray.size)\n",
        "print(\"Number of Dimensions: \", myNumpyArray.ndim)\n",
        "print(\"Size of the array in each dimension: \",myNumpyArray.shape)"
      ],
      "metadata": {
        "colab": {
          "base_uri": "https://localhost:8080/"
        },
        "id": "bVWdlJUtXRbZ",
        "outputId": "f9d2e231-ea70-4a46-f093-db2311578810"
      },
      "execution_count": null,
      "outputs": [
        {
          "output_type": "stream",
          "name": "stdout",
          "text": [
            "Size of the arrary:  5\n",
            "Number of Dimensions:  1\n",
            "Size of the array in each dimension:  (5,)\n"
          ]
        }
      ]
    },
    {
      "cell_type": "code",
      "source": [
        "#you can of course create numpy array for float values\n",
        "a2 = np.array([1.2,3.45,7.2])\n",
        "type(a2)\n"
      ],
      "metadata": {
        "colab": {
          "base_uri": "https://localhost:8080/"
        },
        "id": "lpCD4GNfYAqE",
        "outputId": "a92c7558-2827-4b70-e14b-5b60053903ee"
      },
      "execution_count": null,
      "outputs": [
        {
          "output_type": "execute_result",
          "data": {
            "text/plain": [
              "numpy.ndarray"
            ]
          },
          "metadata": {},
          "execution_count": 48
        }
      ]
    },
    {
      "cell_type": "code",
      "source": [
        "#you can of course create numpy array for string values\n",
        "a3 = np.array(['a','b','c'])\n",
        "type(a3)"
      ],
      "metadata": {
        "colab": {
          "base_uri": "https://localhost:8080/"
        },
        "id": "ZjHorCf7YjAZ",
        "outputId": "b8b74919-8d0e-4573-d909-365f35bca182"
      },
      "execution_count": null,
      "outputs": [
        {
          "output_type": "execute_result",
          "data": {
            "text/plain": [
              "numpy.ndarray"
            ]
          },
          "metadata": {},
          "execution_count": 49
        }
      ]
    },
    {
      "cell_type": "code",
      "source": [
        "#array elements can be updated using the same notation we use to udpate lists (square brackets)\n",
        "print('Array before update: ',myNumpyArray)\n",
        "myNumpyArray[0] = 0\n",
        "print('Array after update: ',myNumpyArray)"
      ],
      "metadata": {
        "colab": {
          "base_uri": "https://localhost:8080/"
        },
        "id": "tH6k1oYMYvyx",
        "outputId": "19ae521c-e957-4129-8aa9-c95dd01b8227"
      },
      "execution_count": null,
      "outputs": [
        {
          "output_type": "stream",
          "name": "stdout",
          "text": [
            "Array before update:  [1 2 3 4 5]\n",
            "Array after update:  [0 2 3 4 5]\n"
          ]
        }
      ]
    },
    {
      "cell_type": "code",
      "source": [
        "#numpy arrays can be sliced like other similar types\n",
        "print('Original numpy array: ', myNumpyArray)\n",
        "slicedArray = myNumpyArray[1:4] #consider right boundary is not inclusive\n",
        "print('Sliced array: ',slicedArray)"
      ],
      "metadata": {
        "colab": {
          "base_uri": "https://localhost:8080/"
        },
        "id": "ab50U-8qZP0w",
        "outputId": "a613d753-72ed-4889-aafa-511b81ebc0ea"
      },
      "execution_count": null,
      "outputs": [
        {
          "output_type": "stream",
          "name": "stdout",
          "text": [
            "Original numpy array:  [0 2 3 4 5]\n",
            "Sliced array:  [2 3 4]\n"
          ]
        }
      ]
    },
    {
      "cell_type": "markdown",
      "source": [
        "# <font color=\"darkblue\"> Basic operation in numpy arrays </font>"
      ],
      "metadata": {
        "id": "d3aBTdBgW2WG"
      }
    },
    {
      "cell_type": "code",
      "source": [
        "#addition of arrays/vectors\n",
        "a1 = np.array([1,0])\n",
        "a2 = np.array([0,1])\n",
        "\n",
        "#add arrays using the notation of a regular sum\n",
        "a3 = a1+a2\n",
        "a3"
      ],
      "metadata": {
        "colab": {
          "base_uri": "https://localhost:8080/"
        },
        "id": "X0Eaw4BMa9I7",
        "outputId": "48a80468-6aec-47c4-c255-2066ab806914"
      },
      "execution_count": null,
      "outputs": [
        {
          "output_type": "execute_result",
          "data": {
            "text/plain": [
              "array([1, 1])"
            ]
          },
          "metadata": {},
          "execution_count": 53
        }
      ]
    },
    {
      "cell_type": "code",
      "source": [
        "#in a similar way, you can substract two arrays using a regular substraction notation\n",
        "a4 = a1-a2\n",
        "a4"
      ],
      "metadata": {
        "colab": {
          "base_uri": "https://localhost:8080/"
        },
        "id": "LDI8u1URbjAB",
        "outputId": "c8e3351d-a9c3-4968-9f48-f711e7e3161e"
      },
      "execution_count": null,
      "outputs": [
        {
          "output_type": "execute_result",
          "data": {
            "text/plain": [
              "array([ 1, -1])"
            ]
          },
          "metadata": {},
          "execution_count": 54
        }
      ]
    },
    {
      "cell_type": "code",
      "source": [
        "#when multiplying a vector times a scalar, each element of the vector is multiplied by the scalar\n",
        "initial = np.array([2,4])\n",
        "a5 = 2*initial\n",
        "a5"
      ],
      "metadata": {
        "colab": {
          "base_uri": "https://localhost:8080/"
        },
        "id": "kpSW0igfbxYM",
        "outputId": "e7e68d6b-f05b-4145-eb81-5af559ea9fa0"
      },
      "execution_count": null,
      "outputs": [
        {
          "output_type": "execute_result",
          "data": {
            "text/plain": [
              "array([4, 8])"
            ]
          },
          "metadata": {},
          "execution_count": 55
        }
      ]
    },
    {
      "cell_type": "code",
      "source": [
        "# HADAMARD PRODUCT (multiplicaiton of two arrays) can be performed by usign the multiplciation notation between two numpy array objects\n",
        "#each element is mutlipied against the value of the second vector at that same position\n",
        "vector1 = np.array([1,3])\n",
        "vector2 = np.array([2,4])\n",
        "vector3 = vector1*vector2\n",
        "vector3"
      ],
      "metadata": {
        "colab": {
          "base_uri": "https://localhost:8080/"
        },
        "id": "f53MYjWMcVDT",
        "outputId": "6ad4013c-1b27-4085-93bc-8515c5130c80"
      },
      "execution_count": null,
      "outputs": [
        {
          "output_type": "execute_result",
          "data": {
            "text/plain": [
              "array([ 2, 12])"
            ]
          },
          "metadata": {},
          "execution_count": 56
        }
      ]
    },
    {
      "cell_type": "code",
      "source": [
        "#You can perform the dot product using numpy dot() method, consider\n",
        "v1 = np.array([1,2])\n",
        "v2 = np.array([3,1])\n",
        "#where the dot product is ibtained as dp = (1*3) + (1*2) = 5\n",
        "dotProduct = np.dot(v1,v2)\n",
        "dotProduct"
      ],
      "metadata": {
        "colab": {
          "base_uri": "https://localhost:8080/"
        },
        "id": "GTy4wJzod6yg",
        "outputId": "a8117951-ddfa-421b-f239-358e441e4846"
      },
      "execution_count": null,
      "outputs": [
        {
          "output_type": "execute_result",
          "data": {
            "text/plain": [
              "5"
            ]
          },
          "metadata": {},
          "execution_count": 58
        }
      ]
    },
    {
      "cell_type": "code",
      "source": [
        "#adding a constant to an array results in the constant being added to each element of the array\n",
        "myArray = np.array([10,20,30])\n",
        "myArrayPlusOne = myArray + 1\n",
        "myArrayPlusOne"
      ],
      "metadata": {
        "colab": {
          "base_uri": "https://localhost:8080/"
        },
        "id": "5hi1DmCefYWF",
        "outputId": "6a532522-5d36-4b56-b2e5-cfd2329a2e1b"
      },
      "execution_count": null,
      "outputs": [
        {
          "output_type": "execute_result",
          "data": {
            "text/plain": [
              "array([11, 21, 31])"
            ]
          },
          "metadata": {},
          "execution_count": 59
        }
      ]
    },
    {
      "cell_type": "markdown",
      "source": [
        "# <font color=\"darkblue\"> Universal Functions </font>\n",
        "Functions that operate in ndarrays"
      ],
      "metadata": {
        "id": "T4Hb1-MHU6SU"
      }
    },
    {
      "cell_type": "code",
      "source": [
        "#mean of an array\n",
        "a1 = np.array([1,-1,1,-1])\n",
        "print('my array as: ',a1)\n",
        "print('array mean:',a1.mean())"
      ],
      "metadata": {
        "colab": {
          "base_uri": "https://localhost:8080/"
        },
        "id": "3U_NLQ-Tf0Hj",
        "outputId": "f03f5615-9f19-4be9-bbed-671b4936c53d"
      },
      "execution_count": null,
      "outputs": [
        {
          "output_type": "stream",
          "name": "stdout",
          "text": [
            "my array as:  [ 1 -1  1 -1]\n",
            "array mean: 0.0\n"
          ]
        }
      ]
    },
    {
      "cell_type": "code",
      "source": [
        "#max value of an array\n",
        "a1 = np.array([-23,0,1,45])\n",
        "print('my array as: ',a1)\n",
        "print('max value in array:',a1.max())"
      ],
      "metadata": {
        "colab": {
          "base_uri": "https://localhost:8080/"
        },
        "id": "9XPel88Egm9c",
        "outputId": "3f6322d9-db28-4546-9b83-fb65e1838587"
      },
      "execution_count": null,
      "outputs": [
        {
          "output_type": "stream",
          "name": "stdout",
          "text": [
            "my array as:  [-23   0   1  45]\n",
            "max value in array: 45\n"
          ]
        }
      ]
    },
    {
      "cell_type": "code",
      "source": [
        "#linspace() method can be used to generate arrays with n samples that are evenly spaced within a range\n",
        "# linspace(leftboundary,rightboundary,num=numberofrequriedsamples)\n",
        "print('linspace(-2,2,num=5)')\n",
        "print('results in: ',np.linspace(-2,2,num=5))\n",
        "print('linspace(-2,2,num=9)')\n",
        "print('results in: ',np.linspace(-2,2,num=9))"
      ],
      "metadata": {
        "colab": {
          "base_uri": "https://localhost:8080/"
        },
        "id": "MEcC_1nLg2O6",
        "outputId": "66234908-2cec-4548-cbd2-9f3507fa5ede"
      },
      "execution_count": null,
      "outputs": [
        {
          "output_type": "stream",
          "name": "stdout",
          "text": [
            "linspace(-2,2,num=5)\n",
            "results in:  [-2. -1.  0.  1.  2.]\n",
            "linspace(-2,2,num=9)\n",
            "results in:  [-2.  -1.5 -1.  -0.5  0.   0.5  1.   1.5  2. ]\n"
          ]
        }
      ]
    },
    {
      "cell_type": "code",
      "source": [
        "#we can use matplotlib.pyplot to graph some data\n",
        "import matplotlib.pyplot as plt\n",
        "%matplotlib inline\n",
        "\n",
        "vec = np.linspace(0,2*np.pi,num=100)\n",
        "sinOfVec = np.sin(vec)\n",
        "\n",
        "plt.plot(vec,sinOfVec)"
      ],
      "metadata": {
        "colab": {
          "base_uri": "https://localhost:8080/",
          "height": 282
        },
        "id": "Q8tq8BTqh5F9",
        "outputId": "ccf3f320-0d58-4054-e40a-9527d8ea54a1"
      },
      "execution_count": null,
      "outputs": [
        {
          "output_type": "execute_result",
          "data": {
            "text/plain": [
              "[<matplotlib.lines.Line2D at 0x7f4da9903550>]"
            ]
          },
          "metadata": {},
          "execution_count": 63
        },
        {
          "output_type": "display_data",
          "data": {
            "text/plain": [
              "<Figure size 432x288 with 1 Axes>"
            ],
            "image/png": "[encoded data removed]"
          },
          "metadata": {
            "needs_background": "light"
          }
        }
      ]
    },
    {
      "cell_type": "markdown",
      "source": [
        "Questions"
      ],
      "metadata": {
        "id": "l8T6wCJKjGYM"
      }
    },
    {
      "cell_type": "code",
      "source": [
        "print(np.array([1,-1])*np.array([1,1])) #should result in [1,-1] -> [1*1,1*-1]"
      ],
      "metadata": {
        "colab": {
          "base_uri": "https://localhost:8080/"
        },
        "id": "bYVw91vNiz6u",
        "outputId": "754aa86d-290e-4241-f5cb-ae2b0783915d"
      },
      "execution_count": null,
      "outputs": [
        {
          "output_type": "stream",
          "name": "stdout",
          "text": [
            "[ 1 -1]\n"
          ]
        }
      ]
    },
    {
      "cell_type": "code",
      "source": [
        "print(np.dot(np.array([1,-1]),np.array([1,1]))) #should result in 0 -> (1*1) + (1*-1)"
      ],
      "metadata": {
        "colab": {
          "base_uri": "https://localhost:8080/"
        },
        "id": "MUwWigwajYFn",
        "outputId": "41414fd2-042b-4732-8646-3b7253cfac71"
      },
      "execution_count": null,
      "outputs": [
        {
          "output_type": "stream",
          "name": "stdout",
          "text": [
            "0\n"
          ]
        }
      ]
    },
    {
      "cell_type": "markdown",
      "source": [
        "#<font color=\"darkblue\"> LAB </font>"
      ],
      "metadata": {
        "id": "4Z4cP39YlG3V"
      }
    },
    {
      "cell_type": "code",
      "source": [
        "#consider the following list:\n",
        "a = [\"0\", 1, \"two\", \"3\", 4]\n",
        "#the list\n",
        "a"
      ],
      "metadata": {
        "colab": {
          "base_uri": "https://localhost:8080/"
        },
        "id": "h9u-WTa0kDGo",
        "outputId": "de47a01a-dfb9-459b-b809-83e93d9c328d"
      },
      "execution_count": null,
      "outputs": [
        {
          "output_type": "execute_result",
          "data": {
            "text/plain": [
              "['0', 1, 'two', '3', 4]"
            ]
          },
          "metadata": {},
          "execution_count": 67
        }
      ]
    },
    {
      "cell_type": "markdown",
      "source": [
        "Remember you can access list elements using the square brackets notation, print the elements"
      ],
      "metadata": {
        "id": "q9rjIRt6lmZT"
      }
    },
    {
      "cell_type": "code",
      "source": [
        "\n",
        "print(\"a[0]:\", a[0])\n",
        "print(\"a[1]:\", a[1])\n",
        "print(\"a[2]:\", a[2])\n",
        "print(\"a[3]:\", a[3])\n",
        "print(\"a[4]:\", a[4])"
      ],
      "metadata": {
        "colab": {
          "base_uri": "https://localhost:8080/"
        },
        "id": "f4X43jbDldW1",
        "outputId": "4335468e-d391-47de-81be-15cf196155a9"
      },
      "execution_count": null,
      "outputs": [
        {
          "output_type": "stream",
          "name": "stdout",
          "text": [
            "a[0]: 0\n",
            "a[1]: 1\n",
            "a[2]: two\n",
            "a[3]: 3\n",
            "a[4]: 4\n"
          ]
        }
      ]
    },
    {
      "cell_type": "markdown",
      "source": [
        "<font color=\"orange\"> numpy is usally imported under the np alias </font>"
      ],
      "metadata": {
        "id": "jegUw2tkmHIm"
      }
    },
    {
      "cell_type": "code",
      "source": [
        "# import numpy library\n",
        "\n",
        "import numpy as np "
      ],
      "metadata": {
        "id": "TOIWyQ0Mlwce"
      },
      "execution_count": null,
      "outputs": []
    },
    {
      "cell_type": "code",
      "source": [
        "#you can cast a list into a numpy array using numpy's array() method\n",
        "a = np.array([0, 1, 2, 3, 4])\n",
        "a"
      ],
      "metadata": {
        "colab": {
          "base_uri": "https://localhost:8080/"
        },
        "id": "vC06WMg_mKoh",
        "outputId": "97395d5b-5f52-43ff-d608-92bce1b38146"
      },
      "execution_count": null,
      "outputs": [
        {
          "output_type": "execute_result",
          "data": {
            "text/plain": [
              "array([0, 1, 2, 3, 4])"
            ]
          },
          "metadata": {},
          "execution_count": 70
        }
      ]
    },
    {
      "cell_type": "code",
      "source": [
        "#remember you can access a numpy array elemnts the same way you would access list elements"
      ],
      "metadata": {
        "id": "juRIzgMbmXfJ"
      },
      "execution_count": null,
      "outputs": []
    },
    {
      "cell_type": "code",
      "source": [
        "\n",
        "print(\"a[0]:\", a[0])\n",
        "print(\"a[1]:\", a[1])\n",
        "print(\"a[2]:\", a[2])\n",
        "print(\"a[3]:\", a[3])\n",
        "print(\"a[4]:\", a[4])"
      ],
      "metadata": {
        "colab": {
          "base_uri": "https://localhost:8080/"
        },
        "id": "0fxgssegmnEb",
        "outputId": "e9009d3b-d070-4cda-b9b1-bf6a7a41c46f"
      },
      "execution_count": null,
      "outputs": [
        {
          "output_type": "stream",
          "name": "stdout",
          "text": [
            "a[0]: 0\n",
            "a[1]: 1\n",
            "a[2]: 2\n",
            "a[3]: 3\n",
            "a[4]: 4\n"
          ]
        }
      ]
    },
    {
      "cell_type": "markdown",
      "source": [
        "#IMPORTANT! You can validate which numpy version are you using with *np.__version__* attribute"
      ],
      "metadata": {
        "id": "xrlfcnBkmtPb"
      }
    },
    {
      "cell_type": "code",
      "source": [
        "print(np.__version__)"
      ],
      "metadata": {
        "colab": {
          "base_uri": "https://localhost:8080/"
        },
        "id": "IO07iuX-mn3v",
        "outputId": "2bda37d7-f9b0-4ae8-cfdd-1d347885f307"
      },
      "execution_count": null,
      "outputs": [
        {
          "output_type": "stream",
          "name": "stdout",
          "text": [
            "1.21.6\n"
          ]
        }
      ]
    },
    {
      "cell_type": "code",
      "source": [
        "#you can validate your object is actually a ndarray using the type function\n",
        "type(a)"
      ],
      "metadata": {
        "colab": {
          "base_uri": "https://localhost:8080/"
        },
        "id": "FKNfb5fkm6bh",
        "outputId": "ef6ba4f1-4ddc-47b7-bb78-41dcf2605866"
      },
      "execution_count": null,
      "outputs": [
        {
          "output_type": "execute_result",
          "data": {
            "text/plain": [
              "numpy.ndarray"
            ]
          },
          "metadata": {},
          "execution_count": 74
        }
      ]
    },
    {
      "cell_type": "code",
      "source": [
        "# you can check the type of the values stored in numpy array using the dtype attribute\n",
        "\n",
        "a.dtype"
      ],
      "metadata": {
        "colab": {
          "base_uri": "https://localhost:8080/"
        },
        "id": "HxUx4hBznF8L",
        "outputId": "5d6dd602-6588-496f-9917-dd2da9f842c9"
      },
      "execution_count": null,
      "outputs": [
        {
          "output_type": "execute_result",
          "data": {
            "text/plain": [
              "dtype('int64')"
            ]
          },
          "metadata": {},
          "execution_count": 75
        }
      ]
    },
    {
      "cell_type": "code",
      "source": [
        "#Check the type of the array and Value type for the given array c\n",
        "b = np.array([3.1, 11.02, 6.2, 213.2, 5.2])\n",
        "\n",
        "# Enter your code here\n",
        "print(type(b)) #ndarray\n",
        "print(b.dtype) #float"
      ],
      "metadata": {
        "colab": {
          "base_uri": "https://localhost:8080/"
        },
        "id": "Yvs-e1JenSK5",
        "outputId": "9ad3b902-1b2c-421c-de77-d07f17f32606"
      },
      "execution_count": null,
      "outputs": [
        {
          "output_type": "stream",
          "name": "stdout",
          "text": [
            "<class 'numpy.ndarray'>\n",
            "float64\n"
          ]
        }
      ]
    },
    {
      "cell_type": "code",
      "source": [
        "#you can update values in array the same way you would update a list element\n",
        "# consider the array\n",
        "c = np.array([20, 1, 2, 3, 4])\n",
        "c"
      ],
      "metadata": {
        "colab": {
          "base_uri": "https://localhost:8080/"
        },
        "id": "v2spWofBn3AS",
        "outputId": "17413b7a-309a-406d-f168-cc6e24390f43"
      },
      "execution_count": null,
      "outputs": [
        {
          "output_type": "execute_result",
          "data": {
            "text/plain": [
              "array([20,  1,  2,  3,  4])"
            ]
          },
          "metadata": {},
          "execution_count": 77
        }
      ]
    },
    {
      "cell_type": "code",
      "source": [
        "# update the first element to 100\n",
        "\n",
        "c[0] = 100\n",
        "c"
      ],
      "metadata": {
        "colab": {
          "base_uri": "https://localhost:8080/"
        },
        "id": "b9jMrlpFn-_I",
        "outputId": "cc9546a0-bc75-4cd8-d5b4-be8eb078627c"
      },
      "execution_count": null,
      "outputs": [
        {
          "output_type": "execute_result",
          "data": {
            "text/plain": [
              "array([100,   1,   2,   3,   4])"
            ]
          },
          "metadata": {},
          "execution_count": 78
        }
      ]
    },
    {
      "cell_type": "code",
      "source": [
        "# update the 5th element to 0 as well\n",
        "c[4] = 0\n",
        "c"
      ],
      "metadata": {
        "colab": {
          "base_uri": "https://localhost:8080/"
        },
        "id": "Fx85qe2uoGbp",
        "outputId": "5d0538a6-d7fb-45e8-c5e3-c661bb4acc30"
      },
      "execution_count": null,
      "outputs": [
        {
          "output_type": "execute_result",
          "data": {
            "text/plain": [
              "array([100,   1,   2,   3,   0])"
            ]
          },
          "metadata": {},
          "execution_count": 79
        }
      ]
    },
    {
      "cell_type": "code",
      "source": [
        "#Assign the value 20 for the second element in the given array.\n",
        "a = np.array([10, 2, 30, 40,50])\n",
        "\n",
        "# Enter your code here\n",
        "a[1] = 20\n",
        "a"
      ],
      "metadata": {
        "colab": {
          "base_uri": "https://localhost:8080/"
        },
        "id": "ZJSGTYEAoM-3",
        "outputId": "7bbeb07a-d434-4b5f-be61-467dfe50a24d"
      },
      "execution_count": null,
      "outputs": [
        {
          "output_type": "execute_result",
          "data": {
            "text/plain": [
              "array([10, 20, 30, 40, 50])"
            ]
          },
          "metadata": {},
          "execution_count": 80
        }
      ]
    },
    {
      "cell_type": "code",
      "source": [
        "#you can also slice numpy array the same way you would do it in alist\n",
        "d = c[1:4]\n",
        "d"
      ],
      "metadata": {
        "colab": {
          "base_uri": "https://localhost:8080/"
        },
        "id": "S_gCyH6GobSo",
        "outputId": "7e438f72-60ac-4ba9-d5b8-d494b37e1026"
      },
      "execution_count": null,
      "outputs": [
        {
          "output_type": "execute_result",
          "data": {
            "text/plain": [
              "array([1, 2, 3])"
            ]
          },
          "metadata": {},
          "execution_count": 81
        }
      ]
    },
    {
      "cell_type": "code",
      "source": [
        "# Set the fourth element and fifth element to 300 and 400 AT THE ORIGINAL NDARRAY\n",
        "\n",
        "c[3:5] = 300, 400\n",
        "c"
      ],
      "metadata": {
        "colab": {
          "base_uri": "https://localhost:8080/"
        },
        "id": "Q5Q0--l5oob3",
        "outputId": "4d14a8e8-402a-43a1-a3c7-d06cbbba7db4"
      },
      "execution_count": null,
      "outputs": [
        {
          "output_type": "execute_result",
          "data": {
            "text/plain": [
              "array([100,   1,   2, 300, 400])"
            ]
          },
          "metadata": {},
          "execution_count": 82
        }
      ]
    },
    {
      "cell_type": "code",
      "source": [
        "# You can also step slicing usign the following notation\n",
        "arr = np.array([1, 2, 3, 4, 5, 6, 7])\n",
        "print(arr[1:5:2])"
      ],
      "metadata": {
        "colab": {
          "base_uri": "https://localhost:8080/"
        },
        "id": "XmAvwtM3oyft",
        "outputId": "cf365c67-1d60-42d4-dab8-57fa9bb512de"
      },
      "execution_count": null,
      "outputs": [
        {
          "output_type": "stream",
          "name": "stdout",
          "text": [
            "[2 4]\n"
          ]
        }
      ]
    },
    {
      "cell_type": "code",
      "source": [
        "#slicing without a start value is considered 0\n",
        "print(arr[:4])"
      ],
      "metadata": {
        "colab": {
          "base_uri": "https://localhost:8080/"
        },
        "id": "3VDDmHKto_9L",
        "outputId": "a4da167c-0639-4b0a-ab68-f2cb85a757b9"
      },
      "execution_count": null,
      "outputs": [
        {
          "output_type": "stream",
          "name": "stdout",
          "text": [
            "[1 2 3 4]\n"
          ]
        }
      ]
    },
    {
      "cell_type": "code",
      "source": [
        "#If we don't pass end it considers till the length of array.\n",
        "print(arr[4:])"
      ],
      "metadata": {
        "colab": {
          "base_uri": "https://localhost:8080/"
        },
        "id": "vaRPEkjMpI52",
        "outputId": "0ec3989b-b41a-4ffb-baaf-ffd237c14565"
      },
      "execution_count": null,
      "outputs": [
        {
          "output_type": "stream",
          "name": "stdout",
          "text": [
            "[5 6 7]\n"
          ]
        }
      ]
    },
    {
      "cell_type": "code",
      "source": [
        "#step is considered one by default when not set\n",
        "print(arr[1:5:])"
      ],
      "metadata": {
        "colab": {
          "base_uri": "https://localhost:8080/"
        },
        "id": "XDk3hhxRpT8z",
        "outputId": "add2bb18-515a-4f26-b0fd-1a136a4324ba"
      },
      "execution_count": null,
      "outputs": [
        {
          "output_type": "stream",
          "name": "stdout",
          "text": [
            "[2 3 4 5]\n"
          ]
        }
      ]
    },
    {
      "cell_type": "code",
      "source": [
        "#print the EVEN elements of the given array\n",
        "arr = np.array([1, 2, 3, 4, 5, 6, 7, 8])\n",
        "print(arr[1:8:2])"
      ],
      "metadata": {
        "colab": {
          "base_uri": "https://localhost:8080/"
        },
        "id": "MivlYPqOpgJj",
        "outputId": "3591930e-b021-4d09-ecac-a4eab45ec8f9"
      },
      "execution_count": null,
      "outputs": [
        {
          "output_type": "stream",
          "name": "stdout",
          "text": [
            "[2 4 6 8]\n"
          ]
        }
      ]
    },
    {
      "cell_type": "markdown",
      "source": [
        "\n",
        "IMPORTANT! we can use a list to select more than one specific index.  We can use the list as an argument in the brackets."
      ],
      "metadata": {
        "id": "gdKi8TWKrFTC"
      }
    },
    {
      "cell_type": "code",
      "source": [
        "# Consider the index\n",
        "select = [0, 2, 3, 4]\n",
        "select"
      ],
      "metadata": {
        "colab": {
          "base_uri": "https://localhost:8080/"
        },
        "id": "FtYmXh-DqGQE",
        "outputId": "3d836699-d550-4ee3-dc80-fb2ac6de6602"
      },
      "execution_count": null,
      "outputs": [
        {
          "output_type": "execute_result",
          "data": {
            "text/plain": [
              "[0, 2, 3, 4]"
            ]
          },
          "metadata": {},
          "execution_count": 88
        }
      ]
    },
    {
      "cell_type": "code",
      "source": [
        "d = c[select]\n",
        "d"
      ],
      "metadata": {
        "colab": {
          "base_uri": "https://localhost:8080/"
        },
        "id": "nnNTjyBnrKvD",
        "outputId": "9e3cdab3-cb20-4dbf-e503-3fecc4af3f53"
      },
      "execution_count": null,
      "outputs": [
        {
          "output_type": "execute_result",
          "data": {
            "text/plain": [
              "array([100,   2, 300, 400])"
            ]
          },
          "metadata": {},
          "execution_count": 89
        }
      ]
    },
    {
      "cell_type": "markdown",
      "source": [
        "You can use multiple indexes to assign a value to multiple elements"
      ],
      "metadata": {
        "id": "t7ncLvfXrdin"
      }
    },
    {
      "cell_type": "code",
      "source": [
        "c[select] = 100000\n",
        "c"
      ],
      "metadata": {
        "colab": {
          "base_uri": "https://localhost:8080/"
        },
        "id": "eFaSzyxgrYnk",
        "outputId": "82bf7346-9789-4922-8212-7379b8b3b2d6"
      },
      "execution_count": null,
      "outputs": [
        {
          "output_type": "execute_result",
          "data": {
            "text/plain": [
              "array([100000,      1, 100000, 100000, 100000])"
            ]
          },
          "metadata": {},
          "execution_count": 90
        }
      ]
    },
    {
      "cell_type": "code",
      "source": [
        "#attributes of a numpy array\n",
        "# Create a numpy array\n",
        "\n",
        "a = np.array([0, 1, 2, 3, 4])\n",
        "print(a)\n",
        "print(a.size)\n",
        "print(a.ndim)\n",
        "print(a.shape)"
      ],
      "metadata": {
        "colab": {
          "base_uri": "https://localhost:8080/"
        },
        "id": "LQnhyCHsrpY_",
        "outputId": "b9ca19b1-0e6a-430c-85d8-34ba8383d301"
      },
      "execution_count": null,
      "outputs": [
        {
          "output_type": "stream",
          "name": "stdout",
          "text": [
            "[0 1 2 3 4]\n",
            "5\n",
            "1\n",
            "(5,)\n"
          ]
        }
      ]
    },
    {
      "cell_type": "code",
      "source": [
        "#Find the size ,dimension and shape for the given array b\n",
        "b = np.array([10, 20, 30, 40, 50, 60, 70])\n",
        "\n",
        "# Enter your code here\n",
        "print(b.size) #7\n",
        "print(b.ndim) #1\n",
        "print(b.shape) #7,"
      ],
      "metadata": {
        "colab": {
          "base_uri": "https://localhost:8080/"
        },
        "id": "1djZy3g-r-pF",
        "outputId": "1ba05087-bddc-4b0c-cdd2-d4ad2ba39ee4"
      },
      "execution_count": null,
      "outputs": [
        {
          "output_type": "stream",
          "name": "stdout",
          "text": [
            "7\n",
            "1\n",
            "(7,)\n"
          ]
        }
      ]
    },
    {
      "cell_type": "markdown",
      "source": [
        "NUMPY STATISTICAL FUNCTIONS"
      ],
      "metadata": {
        "id": "gr_pDZOuslGz"
      }
    },
    {
      "cell_type": "code",
      "source": [
        " #Create a numpy array\n",
        "a = np.array([1, -1, 1, -1])"
      ],
      "metadata": {
        "id": "AgKRjCGrsfq6"
      },
      "execution_count": null,
      "outputs": []
    },
    {
      "cell_type": "code",
      "source": [
        "#GET THE MEAN\n",
        "mean = a.mean()\n",
        "mean"
      ],
      "metadata": {
        "colab": {
          "base_uri": "https://localhost:8080/"
        },
        "id": "mDqzFjbvssWb",
        "outputId": "915fb482-218f-43de-a54e-6fa7f3fc15d1"
      },
      "execution_count": null,
      "outputs": [
        {
          "output_type": "execute_result",
          "data": {
            "text/plain": [
              "0.0"
            ]
          },
          "metadata": {},
          "execution_count": 95
        }
      ]
    },
    {
      "cell_type": "code",
      "source": [
        "# Get the standard deviation of numpy array\n",
        "standard_deviation=a.std()\n",
        "standard_deviation"
      ],
      "metadata": {
        "colab": {
          "base_uri": "https://localhost:8080/"
        },
        "id": "Iwz4q90TsxNB",
        "outputId": "91f30404-3658-4933-9d48-4ab09ad756db"
      },
      "execution_count": null,
      "outputs": [
        {
          "output_type": "execute_result",
          "data": {
            "text/plain": [
              "1.0"
            ]
          },
          "metadata": {},
          "execution_count": 96
        }
      ]
    },
    {
      "cell_type": "code",
      "source": [
        "# Create a numpy array\n",
        "b = np.array([-1, 2, 3, 4, 5])\n",
        "print(b)\n",
        "print(b.max())\n",
        "print(b.min())"
      ],
      "metadata": {
        "colab": {
          "base_uri": "https://localhost:8080/"
        },
        "id": "hwsK18yYs1Q_",
        "outputId": "8d112593-b802-4c4a-b21f-5ef6f93ed8b4"
      },
      "execution_count": null,
      "outputs": [
        {
          "output_type": "stream",
          "name": "stdout",
          "text": [
            "[-1  2  3  4  5]\n",
            "5\n",
            "-1\n"
          ]
        }
      ]
    },
    {
      "cell_type": "code",
      "source": [
        "#Find the sum of maximum and minimum value in the given numpy array\n",
        "c = np.array([-10, 201, 43, 94, 502])\n",
        "\n",
        "# Enter your code here\n",
        "result =c.max()+c.min()\n",
        "result"
      ],
      "metadata": {
        "colab": {
          "base_uri": "https://localhost:8080/"
        },
        "id": "XF3FvNEdtBhG",
        "outputId": "6153b18b-ebcf-48ba-b6d3-2e989f10fe2b"
      },
      "execution_count": null,
      "outputs": [
        {
          "output_type": "execute_result",
          "data": {
            "text/plain": [
              "492"
            ]
          },
          "metadata": {},
          "execution_count": 100
        }
      ]
    },
    {
      "cell_type": "code",
      "source": [
        "#numpy array opeations\n",
        "u = np.array([1, 0])\n",
        "v = np.array([0, 1])"
      ],
      "metadata": {
        "id": "otWYYDmPtW9J"
      },
      "execution_count": null,
      "outputs": []
    },
    {
      "cell_type": "code",
      "source": [
        "#you can add two arrays using the add() method\n",
        "z = np.add(u, v)\n",
        "z"
      ],
      "metadata": {
        "colab": {
          "base_uri": "https://localhost:8080/"
        },
        "id": "WjMhNIV8tljh",
        "outputId": "6a32d963-b83e-450a-b1b6-9b9d70f6ce16"
      },
      "execution_count": null,
      "outputs": [
        {
          "output_type": "execute_result",
          "data": {
            "text/plain": [
              "array([1, 1])"
            ]
          },
          "metadata": {},
          "execution_count": 102
        }
      ]
    },
    {
      "cell_type": "code",
      "source": [
        "# Plotting functions\n",
        "\n",
        "\n",
        "import time \n",
        "import sys\n",
        "import numpy as np \n",
        "\n",
        "import matplotlib.pyplot as plt\n",
        "%matplotlib inline  \n",
        "\n",
        "def Plotvec1(u, z, v):\n",
        "    \n",
        "    ax = plt.axes() # to generate the full window axes\n",
        "    ax.arrow(0, 0, *u, head_width=0.05, color='r', head_length=0.1)# Add an arrow to the  U Axes with arrow head width 0.05, color red and arrow head length 0.1\n",
        "    plt.text(*(u + 0.1), 'u')#Adds the text u to the Axes \n",
        "    \n",
        "    ax.arrow(0, 0, *v, head_width=0.05, color='b', head_length=0.1)# Add an arrow to the  v Axes with arrow head width 0.05, color red and arrow head length 0.1\n",
        "    plt.text(*(v + 0.1), 'v')#Adds the text v to the Axes \n",
        "    \n",
        "    ax.arrow(0, 0, *z, head_width=0.05, head_length=0.1)\n",
        "    plt.text(*(z + 0.1), 'z')#Adds the text z to the Axes \n",
        "    plt.ylim(-2, 2)#set the ylim to bottom(-2), top(2)\n",
        "    plt.xlim(-2, 2)#set the xlim to left(-2), right(2)\n",
        "\n"
      ],
      "metadata": {
        "id": "VUMpftbgtt1H"
      },
      "execution_count": null,
      "outputs": []
    },
    {
      "cell_type": "code",
      "source": [
        "# Plot numpy arrays\n",
        "\n",
        "Plotvec1(u, z, v)"
      ],
      "metadata": {
        "colab": {
          "base_uri": "https://localhost:8080/",
          "height": 269
        },
        "id": "GRSG6asPt3zK",
        "outputId": "8dc4d307-34f9-48b4-c096-4a134ce1cc49"
      },
      "execution_count": null,
      "outputs": [
        {
          "output_type": "display_data",
          "data": {
            "text/plain": [
              "<Figure size 432x288 with 1 Axes>"
            ],
            "image/png": "[encoded data removed]"
          },
          "metadata": {
            "needs_background": "light"
          }
        }
      ]
    },
    {
      "cell_type": "code",
      "source": [
        "#add the following vectors"
      ],
      "metadata": {
        "id": "B-addQWQt6d0"
      },
      "execution_count": null,
      "outputs": []
    },
    {
      "cell_type": "code",
      "source": [
        "arr1 = np.array([10, 11, 12, 13, 14, 15])\n",
        "arr2 = np.array([20, 21, 22, 23, 24, 25])\n",
        "\n",
        "# Enter your code here\n",
        "result = np.add(arr1,arr2)\n",
        "result"
      ],
      "metadata": {
        "colab": {
          "base_uri": "https://localhost:8080/"
        },
        "id": "JlRfdBrNuKni",
        "outputId": "2d26fc67-b2a8-4cb7-9d1f-620c371734ca"
      },
      "execution_count": null,
      "outputs": [
        {
          "output_type": "execute_result",
          "data": {
            "text/plain": [
              "array([30, 32, 34, 36, 38, 40])"
            ]
          },
          "metadata": {},
          "execution_count": 106
        }
      ]
    },
    {
      "cell_type": "markdown",
      "source": [
        "Array substraction follows the same logic..."
      ],
      "metadata": {
        "id": "1vgxCgYeuQ5L"
      }
    },
    {
      "cell_type": "code",
      "source": [
        "#consider the following arrays\n",
        "a = np.array([10, 20, 30])\n",
        "b = np.array([5, 10, 15])\n",
        "c = np.subtract(a, b)\n",
        "\n",
        "print(c)"
      ],
      "metadata": {
        "colab": {
          "base_uri": "https://localhost:8080/"
        },
        "id": "_UchdFKOuK8-",
        "outputId": "a75dc179-084c-4364-b419-359960c7ba2d"
      },
      "execution_count": null,
      "outputs": [
        {
          "output_type": "stream",
          "name": "stdout",
          "text": [
            "[ 5 10 15]\n"
          ]
        }
      ]
    },
    {
      "cell_type": "code",
      "source": [
        "arr1 = np.array([10, 20, 30, 40, 50, 60])\n",
        "arr2 = np.array([20, 21, 22, 23, 24, 25])\n",
        "\n",
        "# Enter your code here\n",
        "result = np.subtract(arr1,arr2)\n",
        "result"
      ],
      "metadata": {
        "colab": {
          "base_uri": "https://localhost:8080/"
        },
        "id": "1d6279Woud8y",
        "outputId": "5508bd78-a63f-4959-9620-bd55fc5f98ac"
      },
      "execution_count": null,
      "outputs": [
        {
          "output_type": "execute_result",
          "data": {
            "text/plain": [
              "array([-10,  -1,   8,  17,  26,  35])"
            ]
          },
          "metadata": {},
          "execution_count": 108
        }
      ]
    },
    {
      "cell_type": "markdown",
      "source": [
        "Array multiplication"
      ],
      "metadata": {
        "id": "-M5u-aIdu0Ew"
      }
    },
    {
      "cell_type": "code",
      "source": [
        "x = np.array([1, 2])\n",
        "y = np.array([2, 1])\n",
        "z = np.multiply(x, y)\n",
        "z"
      ],
      "metadata": {
        "colab": {
          "base_uri": "https://localhost:8080/"
        },
        "id": "veSML3EnuuO6",
        "outputId": "93f03eda-67dc-4fd8-a626-df7f4c427372"
      },
      "execution_count": null,
      "outputs": [
        {
          "output_type": "execute_result",
          "data": {
            "text/plain": [
              "array([2, 2])"
            ]
          },
          "metadata": {},
          "execution_count": 109
        }
      ]
    },
    {
      "cell_type": "code",
      "source": [
        "arr1 = np.array([10, 20, 30, 40, 50, 60])\n",
        "arr2 = np.array([2, 1, 2, 3, 4, 5])\n",
        "# Enter your code here\n",
        "result = np.multiply(arr1,arr2)\n",
        "result"
      ],
      "metadata": {
        "colab": {
          "base_uri": "https://localhost:8080/"
        },
        "id": "ocB_Taq9vKns",
        "outputId": "fb560394-91c0-4247-b782-95d781c2868e"
      },
      "execution_count": null,
      "outputs": [
        {
          "output_type": "execute_result",
          "data": {
            "text/plain": [
              "array([ 20,  20,  60, 120, 200, 300])"
            ]
          },
          "metadata": {},
          "execution_count": 110
        }
      ]
    },
    {
      "cell_type": "markdown",
      "source": [
        "DIVISION"
      ],
      "metadata": {
        "id": "QTg0RCQ8vooo"
      }
    },
    {
      "cell_type": "code",
      "source": [
        "#you can use the divide function to divide arrays\n",
        "a = np.array([10, 20, 30])\n",
        "b = np.array([2, 10, 5])\n",
        "c = np.divide(a, b)\n",
        "c"
      ],
      "metadata": {
        "colab": {
          "base_uri": "https://localhost:8080/"
        },
        "id": "XXy8xyyEvWsj",
        "outputId": "0f192f5f-3128-4a80-8725-52dd000fda9a"
      },
      "execution_count": null,
      "outputs": [
        {
          "output_type": "execute_result",
          "data": {
            "text/plain": [
              "array([5., 2., 6.])"
            ]
          },
          "metadata": {},
          "execution_count": 119
        }
      ]
    },
    {
      "cell_type": "code",
      "source": [
        "#divide the following arrays\n",
        "arr1 = np.array([10, 20, 30, 40, 50, 60])\n",
        "arr2 = np.array([3, 5, 10, 8, 2, 33])\n",
        "# Enter your code here\n",
        "result = np.divide(arr1,arr2)\n",
        "result"
      ],
      "metadata": {
        "colab": {
          "base_uri": "https://localhost:8080/"
        },
        "id": "WH2rNdhvv9kw",
        "outputId": "61828e1f-b316-413b-e3aa-68333b5ea57f"
      },
      "execution_count": null,
      "outputs": [
        {
          "output_type": "execute_result",
          "data": {
            "text/plain": [
              "array([ 3.33333333,  4.        ,  3.        ,  5.        , 25.        ,\n",
              "        1.81818182])"
            ]
          },
          "metadata": {},
          "execution_count": 120
        }
      ]
    },
    {
      "cell_type": "markdown",
      "source": [
        "DOT product\n"
      ],
      "metadata": {
        "id": "XgfeDRl5wQuV"
      }
    },
    {
      "cell_type": "code",
      "source": [
        "#dot product, used the dot() method\n",
        "X = np.array([1, 2])\n",
        "Y = np.array([3, 2])\n",
        "np.dot(X,Y)"
      ],
      "metadata": {
        "colab": {
          "base_uri": "https://localhost:8080/"
        },
        "id": "e0MeiCRFv_t1",
        "outputId": "5a2730de-d92b-4c1a-ef29-e43608e71d34"
      },
      "execution_count": null,
      "outputs": [
        {
          "output_type": "execute_result",
          "data": {
            "text/plain": [
              "7"
            ]
          },
          "metadata": {},
          "execution_count": 121
        }
      ]
    },
    {
      "cell_type": "code",
      "source": [
        "#calculate the dot product of the given arrays\n",
        "arr1 = np.array([3, 5])\n",
        "arr2 = np.array([2, 4])\n",
        "# Enter your code here\n",
        "result = np.dot(arr1,arr2)\n",
        "result"
      ],
      "metadata": {
        "colab": {
          "base_uri": "https://localhost:8080/"
        },
        "id": "sSdKdzOowZz_",
        "outputId": "657ef5ad-49e8-4767-f44e-8b54aeab0ae0"
      },
      "execution_count": null,
      "outputs": [
        {
          "output_type": "execute_result",
          "data": {
            "text/plain": [
              "26"
            ]
          },
          "metadata": {},
          "execution_count": 122
        }
      ]
    },
    {
      "cell_type": "markdown",
      "source": [
        "Adding Constant to a Numpy Array"
      ],
      "metadata": {
        "id": "Gk7jgVXgw5Rh"
      }
    },
    {
      "cell_type": "code",
      "source": [
        "#addition of 1 as a constant, add 1 unit as a scalar\n",
        "u = np.array([1, 2, 3, -1]) \n",
        "print(u+1)"
      ],
      "metadata": {
        "colab": {
          "base_uri": "https://localhost:8080/"
        },
        "id": "L6YrSC88w8dF",
        "outputId": "4815f0b2-66f0-46a2-bc70-3eff871c1a63"
      },
      "execution_count": null,
      "outputs": [
        {
          "output_type": "stream",
          "name": "stdout",
          "text": [
            "[2 3 4 0]\n"
          ]
        }
      ]
    },
    {
      "cell_type": "code",
      "source": [
        "#Add Constant 5 to the given numpy array ar:\n",
        "arr = np.array([1, 2, 3, -1]) \n",
        "# Enter your code here\n",
        "arr1 = arr+5\n",
        "arr1"
      ],
      "metadata": {
        "colab": {
          "base_uri": "https://localhost:8080/"
        },
        "id": "2zqdMvUNxBND",
        "outputId": "b438f41f-29cf-4982-ef30-5cd35e5fceb3"
      },
      "execution_count": null,
      "outputs": [
        {
          "output_type": "execute_result",
          "data": {
            "text/plain": [
              "array([6, 7, 8, 4])"
            ]
          },
          "metadata": {},
          "execution_count": 124
        }
      ]
    },
    {
      "cell_type": "markdown",
      "source": [
        "Linspace\n"
      ],
      "metadata": {
        "id": "H977Fx-syvto"
      }
    },
    {
      "cell_type": "code",
      "source": [
        "#Make a numpy array within [5, 4] and 6 elements\n",
        "# Enter your code here\n",
        "np.linspace(4,5,num=6)"
      ],
      "metadata": {
        "colab": {
          "base_uri": "https://localhost:8080/"
        },
        "id": "Tr0ev_v2yyQG",
        "outputId": "36fb9be2-55fc-47f5-f9b6-5753a5bb922e"
      },
      "execution_count": null,
      "outputs": [
        {
          "output_type": "execute_result",
          "data": {
            "text/plain": [
              "array([4. , 4.2, 4.4, 4.6, 4.8, 5. ])"
            ]
          },
          "metadata": {},
          "execution_count": 132
        }
      ]
    },
    {
      "cell_type": "code",
      "source": [
        "#iterating over 1 dimensional arrays\n",
        "arr1 = np.array([1, 2, 3])\n",
        "print(arr1)\n",
        "#can be iterated as\n",
        "for x in arr1:\n",
        "  print(x)"
      ],
      "metadata": {
        "colab": {
          "base_uri": "https://localhost:8080/"
        },
        "id": "UZ0nMXkszDZx",
        "outputId": "f021dc2e-5a1d-4a10-d304-7c2c49343f36"
      },
      "execution_count": null,
      "outputs": [
        {
          "output_type": "stream",
          "name": "stdout",
          "text": [
            "[1 2 3]\n",
            "1\n",
            "2\n",
            "3\n"
          ]
        }
      ]
    },
    {
      "cell_type": "markdown",
      "source": [
        "# <font color=\"orange\"> Quiz on 1D Numpy Array</font>"
      ],
      "metadata": {
        "id": "mgDQ8gyKzYe1"
      }
    },
    {
      "cell_type": "code",
      "source": [
        "# Write your code below and press Shift+Enter to execute\n",
        "\n",
        "u = np.array([1, 0])\n",
        "v = np.array([0, 1])\n",
        "result = np.subtract(u,v)\n",
        "print('using subtract method .subtract\\()',result)\n",
        "print('you can substract directly as u-v',u-v)"
      ],
      "metadata": {
        "colab": {
          "base_uri": "https://localhost:8080/"
        },
        "id": "S_EfSeW7zPN7",
        "outputId": "15241a2a-3340-4e12-f245-d305f16711c2"
      },
      "execution_count": null,
      "outputs": [
        {
          "output_type": "stream",
          "name": "stdout",
          "text": [
            "using subtract method .subtract\\() [ 1 -1]\n",
            "you can substract directly as u-v [ 1 -1]\n"
          ]
        }
      ]
    },
    {
      "cell_type": "code",
      "source": [
        "# Write your code below and press Shift+Enter to execute\n",
        "z = np.array([2, 4])\n",
        "result = -2*z\n",
        "result"
      ],
      "metadata": {
        "colab": {
          "base_uri": "https://localhost:8080/"
        },
        "id": "enzcA8Rt0HRF",
        "outputId": "181ba9f1-634c-4db7-fb20-c6aaa66f99c9"
      },
      "execution_count": null,
      "outputs": [
        {
          "output_type": "execute_result",
          "data": {
            "text/plain": [
              "array([-4, -8])"
            ]
          },
          "metadata": {},
          "execution_count": 136
        }
      ]
    },
    {
      "cell_type": "code",
      "source": [
        "#Consider the list [1, 2, 3, 4, 5] and [1, 0, 1, 0, 1]. Cast both lists to a numpy array then multiply them together:\n",
        "array1 = np.array([1, 2, 3, 4, 5])\n",
        "array2 = np.array([1, 0, 1, 0, 1])\n",
        "result = np.multiply(array1,array2)\n",
        "print('using multiply method .multiply\\()',result)\n",
        "print('you can multiply directly as array1*array2',array1*array2)"
      ],
      "metadata": {
        "colab": {
          "base_uri": "https://localhost:8080/"
        },
        "id": "Y78rS8OC0Tdi",
        "outputId": "de86664b-4403-43a9-e727-3da52a6ee50b"
      },
      "execution_count": null,
      "outputs": [
        {
          "output_type": "stream",
          "name": "stdout",
          "text": [
            "using multiply method .multiply\\() [1 0 3 0 5]\n",
            "you can multiply directly as array1*array2 [1 0 3 0 5]\n"
          ]
        }
      ]
    },
    {
      "cell_type": "code",
      "source": [
        "# Import the libraries\n",
        "\n",
        "import time \n",
        "import sys\n",
        "import numpy as np \n",
        "\n",
        "import matplotlib.pyplot as plt\n",
        "%matplotlib inline  \n",
        "\n",
        "def Plotvec2(a,b):\n",
        "    ax = plt.axes()# to generate the full window axes\n",
        "    ax.arrow(0, 0, *a, head_width=0.05, color ='r', head_length=0.1)#Add an arrow to the  a Axes with arrow head width 0.05, color red and arrow head length 0.1\n",
        "    plt.text(*(a + 0.1), 'a')\n",
        "    ax.arrow(0, 0, *b, head_width=0.05, color ='b', head_length=0.1)#Add an arrow to the  b Axes with arrow head width 0.05, color blue and arrow head length 0.1\n",
        "    plt.text(*(b + 0.1), 'b')\n",
        "    plt.ylim(-2, 2)#set the ylim to bottom(-2), top(2)\n",
        "    plt.xlim(-2, 2)#set the xlim to left(-2), right(2)"
      ],
      "metadata": {
        "id": "nMWrqIHc2Xub"
      },
      "execution_count": null,
      "outputs": []
    },
    {
      "cell_type": "code",
      "source": [
        "# Convert the list [-1, 1] and [1, 1] to numpy arrays a and b. Then, plot the arrays as vectors using the fuction Plotvec2 and find their dot product:\n",
        "a = np.array([-1, 1])\n",
        "b = np.array([1, 1])\n",
        "dt = np.dot(a,b)\n",
        "\n",
        "Plotvec2(a,b)\n",
        "print(\"DOT product:\", dt)"
      ],
      "metadata": {
        "colab": {
          "base_uri": "https://localhost:8080/",
          "height": 286
        },
        "id": "GB725osB03Gw",
        "outputId": "e10b7ebf-37d6-4e90-d380-8267305c9ed1"
      },
      "execution_count": null,
      "outputs": [
        {
          "output_type": "stream",
          "name": "stdout",
          "text": [
            "DOT product: 0\n"
          ]
        },
        {
          "output_type": "display_data",
          "data": {
            "text/plain": [
              "<Figure size 432x288 with 1 Axes>"
            ],
            "image/png": "[encoded data removed]"
          },
          "metadata": {
            "needs_background": "light"
          }
        }
      ]
    },
    {
      "cell_type": "code",
      "source": [
        "#Convert the list [1, 0] and [0, 1] to numpy arrays a and b. Then, plot the arrays as vectors using the function Plotvec2 and find their dot product:\n",
        "a = np.array([1, 0])\n",
        "b = np.array([0, 1])\n",
        "dt = np.dot(a,b)\n",
        "\n",
        "Plotvec2(a,b)\n",
        "print(\"DOT product:\", dt)"
      ],
      "metadata": {
        "colab": {
          "base_uri": "https://localhost:8080/",
          "height": 286
        },
        "id": "AA2njxfb2ZAn",
        "outputId": "c9d9f0a7-d32e-4576-8da6-701f09ba3a04"
      },
      "execution_count": null,
      "outputs": [
        {
          "output_type": "stream",
          "name": "stdout",
          "text": [
            "DOT product: 0\n"
          ]
        },
        {
          "output_type": "display_data",
          "data": {
            "text/plain": [
              "<Figure size 432x288 with 1 Axes>"
            ],
            "image/png": "[encoded data removed]"
          },
          "metadata": {
            "needs_background": "light"
          }
        }
      ]
    },
    {
      "cell_type": "code",
      "source": [
        "#Convert the list [1, 1] and [0, 1] to numpy arrays a and b. Then plot the arrays as vectors using the fuction Plotvec2 and find their dot product:\n",
        "a = np.array([1, 1])\n",
        "b = np.array([0, 1])\n",
        "dt = np.dot(a,b)\n",
        "\n",
        "Plotvec2(a,b)\n",
        "print(\"DOT product:\", dt)"
      ],
      "metadata": {
        "colab": {
          "base_uri": "https://localhost:8080/",
          "height": 286
        },
        "id": "3E22bhCy2l-_",
        "outputId": "8912e6b0-5d59-443c-c1a3-03bf5f4aa62b"
      },
      "execution_count": null,
      "outputs": [
        {
          "output_type": "stream",
          "name": "stdout",
          "text": [
            "DOT product: 1\n"
          ]
        },
        {
          "output_type": "display_data",
          "data": {
            "text/plain": [
              "<Figure size 432x288 with 1 Axes>"
            ],
            "image/png": "[encoded data removed]"
          },
          "metadata": {
            "needs_background": "light"
          }
        }
      ]
    },
    {
      "cell_type": "code",
      "source": [
        "#Convert the list [1, 2, 3] and [8, 9, 10] to numpy arrays arr1 and arr2. Then perform Addition , Subtraction , Multiplication , Division and Dot Operation on the arr1 and arr2\n",
        "arr1 = np.array([1, 2, 3])\n",
        "arr2 = np.array([8, 9, 10])\n",
        "print('Addition: ', np.add(arr1,arr2))\n",
        "print('Subtraction: ', np.subtract(arr1,arr2))\n",
        "print('Multiplication: ', np.multiply(arr1,arr2))\n",
        "print('Division: ', np.divide(arr1,arr2))\n",
        "print('Dot: ', np.dot(arr1,arr2))"
      ],
      "metadata": {
        "colab": {
          "base_uri": "https://localhost:8080/"
        },
        "id": "0ZZm9ZvX2xjL",
        "outputId": "61c93324-5da7-4006-9c9b-b30ec27547e6"
      },
      "execution_count": null,
      "outputs": [
        {
          "output_type": "stream",
          "name": "stdout",
          "text": [
            "Addition:  [ 9 11 13]\n",
            "Subtraction:  [-7 -7 -7]\n",
            "Multiplication:  [ 8 18 30]\n",
            "Division:  [0.125      0.22222222 0.3       ]\n",
            "Dot:  56\n"
          ]
        }
      ]
    },
    {
      "cell_type": "code",
      "source": [
        "#Convert the list [1, 2, 3, 4, 5] and [6, 7, 8, 9, 10] to numpy arrays arr1 and arr2. Then find the even and odd numbers from arr1 and arr2.\n",
        "arr1 = np.array([1, 2, 3, 4, 5])\n",
        "arr2 = np.array([6, 7, 8, 9, 10])\n",
        "print('values of even indexes at arr1: ',arr1[0:8:2])\n",
        "print('values of odd indexes at arr2: ',arr2[1::2])"
      ],
      "metadata": {
        "colab": {
          "base_uri": "https://localhost:8080/"
        },
        "id": "BlLHCuuj3SeX",
        "outputId": "c610922e-8770-47b8-b1b6-ccfcba53b6a7"
      },
      "execution_count": null,
      "outputs": [
        {
          "output_type": "stream",
          "name": "stdout",
          "text": [
            "values of even indexes at arr1:  [1 3 5]\n",
            "values of odd indexes at arr2:  [7 9]\n"
          ]
        }
      ]
    },
    {
      "cell_type": "markdown",
      "source": [
        "#<font color=\"orange\"> Numpy 2D arrays </font>\n"
      ],
      "metadata": {
        "id": "4kFGZK-0ZWAp"
      }
    },
    {
      "cell_type": "markdown",
      "source": [
        "<font color=\"darkblue\">You can create numpy arrays of multiple dimensions, it is easier to understand if you think of the like they were matrices. For example: </font>\n",
        "\n",
        "a = [[11,12,13],[21,22,23],[31,32,33]]\n",
        "\n",
        "<font color=\"darkblue\"> Can be understood as: </font>\n",
        "<div>\n",
        "[11 12 13]<br>\n",
        "[21 22 23]<br>\n",
        "[31 32 33]\n",
        "</div>"
      ],
      "metadata": {
        "id": "69jPZxo3ZlBf"
      }
    },
    {
      "cell_type": "code",
      "source": [
        "#let create it and see its attribute\n",
        "a = np.array([[11,12,13],[21,22,23],[31,32,33]])\n",
        "a"
      ],
      "metadata": {
        "id": "SfEkDF964ZPU",
        "colab": {
          "base_uri": "https://localhost:8080/"
        },
        "outputId": "70115628-86d8-416a-f21c-2b8d9fb89a72"
      },
      "execution_count": null,
      "outputs": [
        {
          "output_type": "execute_result",
          "data": {
            "text/plain": [
              "array([[11, 12, 13],\n",
              "       [21, 22, 23],\n",
              "       [31, 32, 33]])"
            ]
          },
          "metadata": {},
          "execution_count": 3
        }
      ]
    },
    {
      "cell_type": "code",
      "source": [
        "print(\"Object type: \",type(a))\n",
        "print(\"Array size: \",a.size)\n",
        "print(\"Dimensions/rank (number of nested list): \",a.ndim)\n",
        "print(\"Array shape: \",a.shape)"
      ],
      "metadata": {
        "colab": {
          "base_uri": "https://localhost:8080/"
        },
        "id": "8jL2FKFfbqlq",
        "outputId": "cb7866ac-7f02-4f9d-c5c9-5286c972c03f"
      },
      "execution_count": null,
      "outputs": [
        {
          "output_type": "stream",
          "name": "stdout",
          "text": [
            "Object type:  <class 'numpy.ndarray'>\n",
            "Array size:  9\n",
            "Dimensions/rank (number of nested list):  2\n",
            "Array shape:  (3, 3)\n"
          ]
        }
      ]
    },
    {
      "cell_type": "markdown",
      "source": [
        "Elements can be accesed using the notation myArray[rowindex][columnIndex]"
      ],
      "metadata": {
        "id": "I9dWEk4QetRV"
      }
    },
    {
      "cell_type": "code",
      "source": [
        "#Adding multidimensional arrays, each position gets added to its mathcing position on the other array\n",
        "arr1 = np.array([[1,0],[0,1]])\n",
        "arr2 = np.array([[2,1],[1,2]])\n",
        "print(arr1)\n",
        "print(arr2)"
      ],
      "metadata": {
        "id": "6wynuQULcmDM",
        "outputId": "65961b2d-d714-4961-b86d-41c0f757cb37",
        "colab": {
          "base_uri": "https://localhost:8080/"
        }
      },
      "execution_count": null,
      "outputs": [
        {
          "output_type": "stream",
          "name": "stdout",
          "text": [
            "[[1 0]\n",
            " [0 1]]\n",
            "[[2 1]\n",
            " [1 2]]\n"
          ]
        }
      ]
    },
    {
      "cell_type": "code",
      "source": [
        "print(arr1+arr2)"
      ],
      "metadata": {
        "id": "TrPXfc9Va4Fa",
        "outputId": "968fd6f7-67fd-4018-a2e1-f7aaa479cc43",
        "colab": {
          "base_uri": "https://localhost:8080/"
        }
      },
      "execution_count": null,
      "outputs": [
        {
          "output_type": "stream",
          "name": "stdout",
          "text": [
            "[[3 1]\n",
            " [1 3]]\n"
          ]
        }
      ]
    },
    {
      "cell_type": "code",
      "source": [
        "#multiplying a scalar with a 2d array results in each element being multipied by the scalar\n",
        "print(2*arr2)"
      ],
      "metadata": {
        "id": "0QPmXCFIa9Pq",
        "outputId": "61f5d831-a28a-4376-8b71-8745a9b459c1",
        "colab": {
          "base_uri": "https://localhost:8080/"
        }
      },
      "execution_count": null,
      "outputs": [
        {
          "output_type": "stream",
          "name": "stdout",
          "text": [
            "[[4 2]\n",
            " [2 4]]\n"
          ]
        }
      ]
    },
    {
      "cell_type": "code",
      "source": [
        "#hadamar product, multiply each element to its matching postion on the other array\n",
        "print(arr1*arr2)"
      ],
      "metadata": {
        "id": "PhsfSBd5bPrn",
        "outputId": "38cf05b4-b2b4-4252-d6c5-9afce4678db5",
        "colab": {
          "base_uri": "https://localhost:8080/"
        }
      },
      "execution_count": null,
      "outputs": [
        {
          "output_type": "stream",
          "name": "stdout",
          "text": [
            "[[2 0]\n",
            " [0 2]]\n"
          ]
        }
      ]
    },
    {
      "cell_type": "markdown",
      "source": [
        "<FONT COLOR=\"ORANGE\">multiplying 2D arrays requires: THE NUMBER OF COLUMNS IN MATRIX A MUST EQUAL THE NUMBER OF ROWS IN MATRIX B </FONT>"
      ],
      "metadata": {
        "id": "k3V4a5-hcLvK"
      }
    },
    {
      "cell_type": "code",
      "source": [
        "#HOW MANY ROWS IN THE FOLLWING NUMPY ARRAY? 4, ONE PER EACH LIST BETWEEN THE FIRST LEVEL BRACKETS\n",
        "A = np.array([[1,2],[3,4],[5,6],[7,8]])\n",
        "A"
      ],
      "metadata": {
        "id": "4qoNbt1dbsYi",
        "outputId": "fa5d55af-7362-4f6d-e4e8-f7bb1848190d",
        "colab": {
          "base_uri": "https://localhost:8080/"
        }
      },
      "execution_count": 2,
      "outputs": [
        {
          "output_type": "execute_result",
          "data": {
            "text/plain": [
              "array([[1, 2],\n",
              "       [3, 4],\n",
              "       [5, 6],\n",
              "       [7, 8]])"
            ]
          },
          "metadata": {},
          "execution_count": 2
        }
      ]
    },
    {
      "cell_type": "code",
      "source": [
        "#Is it possible to perform the following operation?\n",
        "\n",
        "A = np.array([[1,2],[3,4],[5,6],[7,8]]) # This numpy array has 4 rows and 2 columns\n",
        "B = np.array([[1,2,3],[4,5,6],[7,8,9]]) #this numpy array has 3 rows and 3 columns\n",
        "\n",
        "np.dot(A,B) # the product/product is not possible as the number of columns in A (2) != number of rows in B (3), this opeartion is not possible"
      ],
      "metadata": {
        "id": "x1Pv8OF-df4A",
        "outputId": "d41ef7cc-b2aa-484e-cc80-4c1d28637569",
        "colab": {
          "base_uri": "https://localhost:8080/",
          "height": 232
        }
      },
      "execution_count": null,
      "outputs": [
        {
          "output_type": "error",
          "ename": "ValueError",
          "evalue": "ignored",
          "traceback": [
            "\u001b[0;31m---------------------------------------------------------------------------\u001b[0m",
            "\u001b[0;31mValueError\u001b[0m                                Traceback (most recent call last)",
            "\u001b[0;32m<ipython-input-11-c4f269772adb>\u001b[0m in \u001b[0;36m<module>\u001b[0;34m\u001b[0m\n\u001b[1;32m      4\u001b[0m \u001b[0mB\u001b[0m \u001b[0;34m=\u001b[0m \u001b[0mnp\u001b[0m\u001b[0;34m.\u001b[0m\u001b[0marray\u001b[0m\u001b[0;34m(\u001b[0m\u001b[0;34m[\u001b[0m\u001b[0;34m[\u001b[0m\u001b[0;36m1\u001b[0m\u001b[0;34m,\u001b[0m\u001b[0;36m2\u001b[0m\u001b[0;34m,\u001b[0m\u001b[0;36m3\u001b[0m\u001b[0;34m]\u001b[0m\u001b[0;34m,\u001b[0m\u001b[0;34m[\u001b[0m\u001b[0;36m4\u001b[0m\u001b[0;34m,\u001b[0m\u001b[0;36m5\u001b[0m\u001b[0;34m,\u001b[0m\u001b[0;36m6\u001b[0m\u001b[0;34m]\u001b[0m\u001b[0;34m,\u001b[0m\u001b[0;34m[\u001b[0m\u001b[0;36m7\u001b[0m\u001b[0;34m,\u001b[0m\u001b[0;36m8\u001b[0m\u001b[0;34m,\u001b[0m\u001b[0;36m9\u001b[0m\u001b[0;34m]\u001b[0m\u001b[0;34m]\u001b[0m\u001b[0;34m)\u001b[0m \u001b[0;31m#this numpy array has 3 rows and 3 columns\u001b[0m\u001b[0;34m\u001b[0m\u001b[0;34m\u001b[0m\u001b[0m\n\u001b[1;32m      5\u001b[0m \u001b[0;34m\u001b[0m\u001b[0m\n\u001b[0;32m----> 6\u001b[0;31m \u001b[0mnp\u001b[0m\u001b[0;34m.\u001b[0m\u001b[0mdot\u001b[0m\u001b[0;34m(\u001b[0m\u001b[0mA\u001b[0m\u001b[0;34m,\u001b[0m\u001b[0mB\u001b[0m\u001b[0;34m)\u001b[0m \u001b[0;31m# the product/product is not possible as the number of columns in A (2) != number of rows in B (3), this opeartion is not possible\u001b[0m\u001b[0;34m\u001b[0m\u001b[0;34m\u001b[0m\u001b[0m\n\u001b[0m",
            "\u001b[0;32m<__array_function__ internals>\u001b[0m in \u001b[0;36mdot\u001b[0;34m(*args, **kwargs)\u001b[0m\n",
            "\u001b[0;31mValueError\u001b[0m: shapes (4,2) and (3,3) not aligned: 2 (dim 1) != 3 (dim 0)"
          ]
        }
      ]
    },
    {
      "cell_type": "markdown",
      "source": [
        "#<font color=\"darkblue\"> LAB </FONT>"
      ],
      "metadata": {
        "id": "lIg-uJe0ePia"
      }
    },
    {
      "cell_type": "code",
      "source": [
        "#import the required libraries\n",
        "import numpy as np \n",
        "import matplotlib.pyplot as plt"
      ],
      "metadata": {
        "id": "6vjqbVqNeKLM"
      },
      "execution_count": 3,
      "outputs": []
    },
    {
      "cell_type": "code",
      "source": [
        "# Create a, whcihc has 3 lists of equal size\n",
        "a = [[11, 12, 13], [21, 22, 23], [31, 32, 33]]\n",
        "a"
      ],
      "metadata": {
        "colab": {
          "base_uri": "https://localhost:8080/"
        },
        "id": "gie9pzJ5kfuT",
        "outputId": "d46d7aea-f629-4ecb-c0b9-172100f16863"
      },
      "execution_count": 4,
      "outputs": [
        {
          "output_type": "execute_result",
          "data": {
            "text/plain": [
              "[[11, 12, 13], [21, 22, 23], [31, 32, 33]]"
            ]
          },
          "metadata": {},
          "execution_count": 4
        }
      ]
    },
    {
      "cell_type": "code",
      "source": [
        "#conver the list into numpy array\n",
        "A = np.array(a)\n",
        "A"
      ],
      "metadata": {
        "colab": {
          "base_uri": "https://localhost:8080/"
        },
        "id": "dBYGr8eBknVk",
        "outputId": "4abf8ac4-506a-4e3f-8d37-22dc4a175224"
      },
      "execution_count": 5,
      "outputs": [
        {
          "output_type": "execute_result",
          "data": {
            "text/plain": [
              "array([[11, 12, 13],\n",
              "       [21, 22, 23],\n",
              "       [31, 32, 33]])"
            ]
          },
          "metadata": {},
          "execution_count": 5
        }
      ]
    },
    {
      "cell_type": "code",
      "source": [
        "#print shape, dimension and size of a\n",
        "print(A.ndim)\n",
        "print(A.shape)\n",
        "print(A.size)"
      ],
      "metadata": {
        "colab": {
          "base_uri": "https://localhost:8080/"
        },
        "id": "5W2GzCGxkwGg",
        "outputId": "f947806f-265c-40ef-8206-6bcf94a7726a"
      },
      "execution_count": 6,
      "outputs": [
        {
          "output_type": "stream",
          "name": "stdout",
          "text": [
            "2\n",
            "(3, 3)\n",
            "9\n"
          ]
        }
      ]
    },
    {
      "cell_type": "code",
      "source": [
        "# Access the element on the second row and third column\n",
        "A[1, 2] #remember notation [row,column]"
      ],
      "metadata": {
        "colab": {
          "base_uri": "https://localhost:8080/"
        },
        "id": "ZbKVCyNEk6rE",
        "outputId": "f7edb931-432f-4f5e-8f53-07236c614202"
      },
      "execution_count": 7,
      "outputs": [
        {
          "output_type": "execute_result",
          "data": {
            "text/plain": [
              "23"
            ]
          },
          "metadata": {},
          "execution_count": 7
        }
      ]
    },
    {
      "cell_type": "code",
      "source": [
        "# Access the same element using the seprate indexes notation\n",
        "A[1][2]"
      ],
      "metadata": {
        "colab": {
          "base_uri": "https://localhost:8080/"
        },
        "id": "-kWcOA2elFUa",
        "outputId": "d2a5812c-4f7f-486d-cb5c-c9ff291edb6e"
      },
      "execution_count": 8,
      "outputs": [
        {
          "output_type": "execute_result",
          "data": {
            "text/plain": [
              "23"
            ]
          },
          "metadata": {},
          "execution_count": 8
        }
      ]
    },
    {
      "cell_type": "code",
      "source": [
        "# Access the element on the first row and first and second columns\n",
        "A[0][0:2] #expression on each bracket determines how to slice (column, range)"
      ],
      "metadata": {
        "colab": {
          "base_uri": "https://localhost:8080/"
        },
        "id": "kkAuvn2KlOlf",
        "outputId": "20485b21-9675-4b86-adec-8bb10940f437"
      },
      "execution_count": 9,
      "outputs": [
        {
          "output_type": "execute_result",
          "data": {
            "text/plain": [
              "array([11, 12])"
            ]
          },
          "metadata": {},
          "execution_count": 9
        }
      ]
    },
    {
      "cell_type": "code",
      "source": [
        "#basic operations between 2d arrays. Given the following numpy 2d arrays:\n",
        "X = np.array([[1, 0], [0, 1]]) \n",
        "Y = np.array([[2, 1], [1, 2]]) \n",
        "#you can add them directly with an addition notation\n",
        "Z = X + Y\n",
        "Z"
      ],
      "metadata": {
        "colab": {
          "base_uri": "https://localhost:8080/"
        },
        "id": "K5ovNOizlhzQ",
        "outputId": "4d2a4ef8-3c6f-463d-8be2-c4c19e02ae50"
      },
      "execution_count": 10,
      "outputs": [
        {
          "output_type": "execute_result",
          "data": {
            "text/plain": [
              "array([[3, 1],\n",
              "       [1, 3]])"
            ]
          },
          "metadata": {},
          "execution_count": 10
        }
      ]
    },
    {
      "cell_type": "code",
      "source": [
        "#you can multiply it times a scalar\n",
        "Z = 2 * Y\n",
        "Z"
      ],
      "metadata": {
        "colab": {
          "base_uri": "https://localhost:8080/"
        },
        "id": "P9fduHwZmS1G",
        "outputId": "8e988bc9-7b59-4321-8207-b8b1ab4e1456"
      },
      "execution_count": 11,
      "outputs": [
        {
          "output_type": "execute_result",
          "data": {
            "text/plain": [
              "array([[4, 2],\n",
              "       [2, 4]])"
            ]
          },
          "metadata": {},
          "execution_count": 11
        }
      ]
    },
    {
      "cell_type": "code",
      "source": [
        "#ELEMENT WISE PRODUCT /HADAMARD PRODUCT\n",
        "#The Hadamard product corresponds to multiplying each of the elements in the same position, \n",
        "#i.e. multiplying elements contained in the same color boxes together. \n",
        "#The result is a new matrix that is the same size as matrix Y or X, as shown in the following figure. \n",
        "\n",
        "Z = X * Y\n",
        "Z"
      ],
      "metadata": {
        "colab": {
          "base_uri": "https://localhost:8080/"
        },
        "id": "ajoFy0_gmc37",
        "outputId": "7ea10a4d-bb3e-4cf9-e6b2-995e4262cc20"
      },
      "execution_count": 12,
      "outputs": [
        {
          "output_type": "execute_result",
          "data": {
            "text/plain": [
              "array([[2, 0],\n",
              "       [0, 2]])"
            ]
          },
          "metadata": {},
          "execution_count": 12
        }
      ]
    },
    {
      "cell_type": "code",
      "source": [
        "#MATRIX MULTIPLICATION USING THE DOT PRODUCT FUNCTION\n",
        "A = np.array([[0, 1, 1], [1, 0, 1]])\n",
        "B = np.array([[1, 1], [1, 1], [-1, 1]])\n",
        "Z = np.dot(A,B)\n",
        "Z"
      ],
      "metadata": {
        "colab": {
          "base_uri": "https://localhost:8080/"
        },
        "id": "XpAS-5y1m-9u",
        "outputId": "1316b3aa-678e-4c7a-d7a9-487bf666cdf2"
      },
      "execution_count": 13,
      "outputs": [
        {
          "output_type": "execute_result",
          "data": {
            "text/plain": [
              "array([[0, 2],\n",
              "       [0, 2]])"
            ]
          },
          "metadata": {},
          "execution_count": 13
        }
      ]
    },
    {
      "cell_type": "code",
      "source": [
        "# We can use the numpy attribute T to calculate the transposed matrix\n",
        "C = np.array([[1,1],[2,2],[3,3]])\n",
        "C"
      ],
      "metadata": {
        "colab": {
          "base_uri": "https://localhost:8080/"
        },
        "id": "hCePTOZ-nRqy",
        "outputId": "af4c6668-7ea8-41db-d159-25836ff6b9ea"
      },
      "execution_count": 14,
      "outputs": [
        {
          "output_type": "execute_result",
          "data": {
            "text/plain": [
              "array([[1, 1],\n",
              "       [2, 2],\n",
              "       [3, 3]])"
            ]
          },
          "metadata": {},
          "execution_count": 14
        }
      ]
    },
    {
      "cell_type": "code",
      "source": [
        "C.T"
      ],
      "metadata": {
        "colab": {
          "base_uri": "https://localhost:8080/"
        },
        "id": "ZNRRdemCnd7H",
        "outputId": "191cb18f-9843-4fc0-d33f-6e5f6f267854"
      },
      "execution_count": 15,
      "outputs": [
        {
          "output_type": "execute_result",
          "data": {
            "text/plain": [
              "array([[1, 2, 3],\n",
              "       [1, 2, 3]])"
            ]
          },
          "metadata": {},
          "execution_count": 15
        }
      ]
    },
    {
      "cell_type": "code",
      "source": [
        "#QUIZ ON NUMPY 2D ARRAYS\n",
        "#Consider the following list a, convert it to Numpy Array.\n",
        "a = [[1, 2, 3, 4], [5, 6, 7, 8], [9, 10, 11, 12]]\n",
        "A = np.array(a)\n",
        "A"
      ],
      "metadata": {
        "colab": {
          "base_uri": "https://localhost:8080/"
        },
        "id": "v_Fynhbcnena",
        "outputId": "c801cb7a-df8c-45ce-b9fb-27a98418d440"
      },
      "execution_count": 17,
      "outputs": [
        {
          "output_type": "execute_result",
          "data": {
            "text/plain": [
              "array([[ 1,  2,  3,  4],\n",
              "       [ 5,  6,  7,  8],\n",
              "       [ 9, 10, 11, 12]])"
            ]
          },
          "metadata": {},
          "execution_count": 17
        }
      ]
    },
    {
      "cell_type": "code",
      "source": [
        "#Calculate the numpy array size.\n",
        "A.size"
      ],
      "metadata": {
        "colab": {
          "base_uri": "https://localhost:8080/"
        },
        "id": "Z0EW4PuAnp5U",
        "outputId": "05ba1da2-dc63-4924-9816-511c075b5869"
      },
      "execution_count": 18,
      "outputs": [
        {
          "output_type": "execute_result",
          "data": {
            "text/plain": [
              "12"
            ]
          },
          "metadata": {},
          "execution_count": 18
        }
      ]
    },
    {
      "cell_type": "code",
      "source": [
        "#Access the element on the first row and first and second columns\n",
        "A[0][0:2]"
      ],
      "metadata": {
        "colab": {
          "base_uri": "https://localhost:8080/"
        },
        "id": "nvtEONbqn66Y",
        "outputId": "4772e4b2-cfd3-4b57-dc8b-2b14d032f7bf"
      },
      "execution_count": 19,
      "outputs": [
        {
          "output_type": "execute_result",
          "data": {
            "text/plain": [
              "array([1, 2])"
            ]
          },
          "metadata": {},
          "execution_count": 19
        }
      ]
    },
    {
      "cell_type": "code",
      "source": [
        "#Perform matrix multiplication with the numpy arrays A and B.\n",
        "B = np.array([[0, 1], [1, 0], [1, 1], [-1, 0]])\n",
        "C = np.dot(A,B)\n",
        "C"
      ],
      "metadata": {
        "colab": {
          "base_uri": "https://localhost:8080/"
        },
        "id": "oBi-60E2oHkO",
        "outputId": "ec992969-b97f-4a50-99d2-fb46896eab05"
      },
      "execution_count": 21,
      "outputs": [
        {
          "output_type": "execute_result",
          "data": {
            "text/plain": [
              "array([[ 1,  4],\n",
              "       [ 5, 12],\n",
              "       [ 9, 20]])"
            ]
          },
          "metadata": {},
          "execution_count": 21
        }
      ]
    },
    {
      "cell_type": "markdown",
      "source": [
        "#<font color=\"orange\">LAB Simple APIs - Part 1</font>\n",
        "<font color=\"darkblue\"> API stands for Application Programming Interface.<br> \n",
        "API enable communciation between different pieces of software\n",
        " </font>\n",
        "\n",
        "<font color=\"DARKGRAY\"> URL stands for Uniform resource locator.<br> \n",
        "(URL) is the most popular way to find resources on the web. URL is made up of three components:<br>\n",
        "\n",
        "-scheme this is this protocol, for this lab it will always be http://<br>\n",
        "-Internet address or Base URL this will be used to find the location here are some examples: www.ibm.com and   www.gitlab.com <br>\n",
        "-route location on the web server for example: /images/IDSNlogo.png\n",
        " </font>\n",
        "  \n",
        " <br> Uniform Resource Identifier (URI) is another common term, URL are a subset of URIs. Another popular term is endpoint, this is the URL of an operation/function exposed by a Web server.\n"
      ],
      "metadata": {
        "id": "mtqdmae8o-mz"
      }
    },
    {
      "cell_type": "code",
      "source": [
        "#Overview of the Requests library for interacting with the HTTP protocol.\n",
        "# import 'requests' to make http requests using python\n",
        "import requests\n",
        "#additional libraries for the lab\n",
        "import os \n",
        "from PIL import Image\n",
        "from IPython.display import IFrame"
      ],
      "metadata": {
        "id": "9zbstOkvobLI"
      },
      "execution_count": 22,
      "outputs": []
    },
    {
      "cell_type": "code",
      "source": [
        "# we can perform a GET operation using the get() method\n",
        "url='https://www.ibm.com/'\n",
        "r=requests.get(url)"
      ],
      "metadata": {
        "id": "2Do9CmgrtxAq"
      },
      "execution_count": 23,
      "outputs": []
    },
    {
      "cell_type": "code",
      "source": [
        "#we can validate the status code of a request using the status_code attriibute\n",
        "r.status_code"
      ],
      "metadata": {
        "colab": {
          "base_uri": "https://localhost:8080/"
        },
        "id": "CoKnrr0wt6Pc",
        "outputId": "a6e797be-b37a-4a21-d9ad-ff3af5e24aa7"
      },
      "execution_count": 24,
      "outputs": [
        {
          "output_type": "execute_result",
          "data": {
            "text/plain": [
              "200"
            ]
          },
          "metadata": {},
          "execution_count": 24
        }
      ]
    },
    {
      "cell_type": "code",
      "source": [
        "#we can view the request headers using request.headers attribute\n",
        "print(r.request.headers)"
      ],
      "metadata": {
        "colab": {
          "base_uri": "https://localhost:8080/"
        },
        "id": "LH2av1hduC3x",
        "outputId": "3db248d2-f9ab-4209-e37c-e9b14a4f22cb"
      },
      "execution_count": 25,
      "outputs": [
        {
          "output_type": "stream",
          "name": "stdout",
          "text": [
            "{'User-Agent': 'python-requests/2.23.0', 'Accept-Encoding': 'gzip, deflate', 'Accept': '*/*', 'Connection': 'keep-alive', 'Cookie': '_abck=B259750DF2B33E82682AD93FBA065AB4~-1~YAAQyhwhFwoKeoqDAQAArqe3jAgN3KAQbLQBhp15lteJnaf8LXbCLrSFupuakbB+Vx5YkJa4zLu+OXTRudyEoMzuFRvgroLMPqzLxiDOPNsmOtd77V/sjV8nijq3PQExbgQj8rICEd39H7oTG0fv5qrvXqWSp9bE5m1DDeC5nTHWBS/nYVKZwOEg/PgRH4Z6KFzHhpQdo0fY4s0S1XnYMdapROklnm4Xa2YSYR8y1xQ9sEBBOei/DNZUkTPHJ/t8Pi40eP17pdqjNEHLjoLnIwNRgF6rfI/BAvHTVXT3pxCjLeGyiPKdrcebf2hXlj62CahRexXvDOpw04UCxkLEUueFHiDstWCQ0sne5e/Gg0+0VXYBLao=~-1~-1~-1; bm_sz=041F6CE0342D1F406481B9405DE50B69~YAAQyhwhFwsKeoqDAQAArqe3jBGehdPrfk1OJispcJDzbP2gbt90mN1thHo+HJeWUevZjHIU68rjwLR1/bkWcYdGoIBMTj5mObUWjbL6TLOV5p9+er72T+InFUl3h+KQU5/NZni/zq3bkKNaFTdImZ4pkmm4693jNvYWvovwNjq+A/M0jrUVQZw/cZKX45KjRF+hpV5szO2yVFxAs5tQPC1o5kk6PUOMfl/dQoI0q6djstbRkilI4An+uINHT2k2eheqqE5rMarDKCdb2QJocK/a2VN1d7+40f5GZacYlTE=~4536371~3621689'}\n"
          ]
        }
      ]
    },
    {
      "cell_type": "code",
      "source": [
        "#we can also see the request body using the request.body paramater\n",
        "print(\"request body:\", r.request.body) #get operations do not use bodies"
      ],
      "metadata": {
        "colab": {
          "base_uri": "https://localhost:8080/"
        },
        "id": "77X0kIyouKhU",
        "outputId": "7ce6c094-cfa1-4e1e-8ac7-f0a49808e1f0"
      },
      "execution_count": 26,
      "outputs": [
        {
          "output_type": "stream",
          "name": "stdout",
          "text": [
            "request body: None\n"
          ]
        }
      ]
    },
    {
      "cell_type": "code",
      "source": [
        "#we can view the HTTP response header using the attribute 'headers' This returns a python dictionary of HTTP response headers\n",
        "header=r.headers\n",
        "print(r.headers)"
      ],
      "metadata": {
        "colab": {
          "base_uri": "https://localhost:8080/"
        },
        "id": "QDKCbC9ZuR6L",
        "outputId": "e557c05d-5e84-4a2b-cd35-22f0ea99e215"
      },
      "execution_count": 27,
      "outputs": [
        {
          "output_type": "stream",
          "name": "stdout",
          "text": [
            "{'Server': 'Apache', 'Last-Modified': 'Mon, 26 Sep 2022 12:10:36 GMT', 'ETag': '\"182c6-5e9936a544ba1-gzip\"', 'Accept-Ranges': 'bytes', 'Content-Encoding': 'gzip', 'Content-Type': 'text/html', 'Cache-Control': 'max-age=3600', 'Expires': 'Fri, 30 Sep 2022 05:46:29 GMT', 'X-Akamai-Transformed': '9 21429 0 pmb=mTOE,2', 'Date': 'Fri, 30 Sep 2022 04:46:29 GMT', 'Content-Length': '21625', 'Connection': 'keep-alive', 'Vary': 'Accept-Encoding', 'x-content-type-options': 'nosniff', 'X-XSS-Protection': '1; mode=block', 'Content-Security-Policy': 'upgrade-insecure-requests', 'Strict-Transport-Security': 'max-age=31536000'}\n"
          ]
        }
      ]
    },
    {
      "cell_type": "code",
      "source": [
        "#we can obtain when the request was made by referencing the 'date' key in the headers\n",
        "header['date']"
      ],
      "metadata": {
        "colab": {
          "base_uri": "https://localhost:8080/",
          "height": 37
        },
        "id": "QOnMS9VeujYJ",
        "outputId": "33b6b42a-46d0-4ab7-e146-e8ac0bc9d1f5"
      },
      "execution_count": 28,
      "outputs": [
        {
          "output_type": "execute_result",
          "data": {
            "text/plain": [
              "'Fri, 30 Sep 2022 04:46:29 GMT'"
            ],
            "application/vnd.google.colaboratory.intrinsic+json": {
              "type": "string"
            }
          },
          "metadata": {},
          "execution_count": 28
        }
      ]
    },
    {
      "cell_type": "code",
      "source": [
        "#we can also view other attributes like content type, encoding\n",
        "print(header['Content-Type'])\n",
        "print(r.encoding)"
      ],
      "metadata": {
        "colab": {
          "base_uri": "https://localhost:8080/"
        },
        "id": "0AzZyvhwuunr",
        "outputId": "02076bd9-945e-423c-8be4-0bdec36c10c4"
      },
      "execution_count": 30,
      "outputs": [
        {
          "output_type": "stream",
          "name": "stdout",
          "text": [
            "text/html\n",
            "ISO-8859-1\n"
          ]
        }
      ]
    },
    {
      "cell_type": "code",
      "source": [
        "#we can use the attribute 'text' to obtain the HTML in the body\n",
        "r.text[0:100]"
      ],
      "metadata": {
        "colab": {
          "base_uri": "https://localhost:8080/",
          "height": 37
        },
        "id": "p2XivwrEu1CJ",
        "outputId": "0a35cbaa-0900-464d-a8e4-7b8975e2c17a"
      },
      "execution_count": 31,
      "outputs": [
        {
          "output_type": "execute_result",
          "data": {
            "text/plain": [
              "'<!DOCTYPE html><html lang=\"en-US\"><head><meta name=\"viewport\" content=\"width=device-width\"/><meta ch'"
            ],
            "application/vnd.google.colaboratory.intrinsic+json": {
              "type": "string"
            }
          },
          "metadata": {},
          "execution_count": 31
        }
      ]
    },
    {
      "cell_type": "code",
      "source": [
        "#IMPORTANT!\n",
        "#We can load other types of data for non-text requests\n",
        "#Consider the URL of the following image:\n",
        "url='https://cf-courses-data.s3.us.cloud-object-storage.appdomain.cloud/IBMDeveloperSkillsNetwork-PY0101EN-SkillsNetwork/IDSNlogo.png'\n",
        "#lets make the request\n",
        "r=requests.get(url)\n",
        "#print its header, view its content type\n",
        "print(r.headers)\n",
        "r.headers['Content-Type']"
      ],
      "metadata": {
        "colab": {
          "base_uri": "https://localhost:8080/",
          "height": 74
        },
        "id": "TBXAcRa8vLdY",
        "outputId": "41177ac7-83bd-4333-c9e1-92029aa2634f"
      },
      "execution_count": 32,
      "outputs": [
        {
          "output_type": "stream",
          "name": "stdout",
          "text": [
            "{'Date': 'Fri, 30 Sep 2022 04:53:54 GMT', 'X-Clv-Request-Id': 'acba70fd-06fc-4f29-b503-ee2680a58421', 'Server': 'Cleversafe', 'X-Clv-S3-Version': '2.5', 'Accept-Ranges': 'bytes', 'x-amz-request-id': 'acba70fd-06fc-4f29-b503-ee2680a58421', 'Cache-Control': 'max-age=0,public', 'ETag': '\"a831e767d02efd21b904ec485ac0c769\"', 'Content-Type': 'image/png', 'Last-Modified': 'Wed, 14 Sep 2022 05:47:46 GMT', 'Content-Length': '21590'}\n"
          ]
        },
        {
          "output_type": "execute_result",
          "data": {
            "text/plain": [
              "'image/png'"
            ],
            "application/vnd.google.colaboratory.intrinsic+json": {
              "type": "string"
            }
          },
          "metadata": {},
          "execution_count": 32
        }
      ]
    },
    {
      "cell_type": "code",
      "source": [
        "#IMPORTANT!!!\n",
        "#An image is a response object that contains the image as a \"bytes-like\" object. \n",
        "#As a result, we must save it using a file object.\n",
        "# First, we specify the file path and name\n",
        "path=os.path.join(os.getcwd(),'image.png')\n",
        "path"
      ],
      "metadata": {
        "colab": {
          "base_uri": "https://localhost:8080/",
          "height": 37
        },
        "id": "92sabsb6vt7a",
        "outputId": "576c0ba2-7585-4fa1-bf62-f14303b6c2f0"
      },
      "execution_count": 33,
      "outputs": [
        {
          "output_type": "execute_result",
          "data": {
            "text/plain": [
              "'/content/image.png'"
            ],
            "application/vnd.google.colaboratory.intrinsic+json": {
              "type": "string"
            }
          },
          "metadata": {},
          "execution_count": 33
        }
      ]
    },
    {
      "cell_type": "code",
      "source": [
        "#We save the file, in order to access the body of the response we use the attribute content then save it using the open function and write method:\n",
        "with open(path,'wb') as f:\n",
        "    f.write(r.content)"
      ],
      "metadata": {
        "id": "xmDYKmlcvm1B"
      },
      "execution_count": 34,
      "outputs": []
    },
    {
      "cell_type": "code",
      "source": [
        "#And then we can view the image\n",
        "Image.open(path)  "
      ],
      "metadata": {
        "colab": {
          "base_uri": "https://localhost:8080/",
          "height": 817
        },
        "id": "m0Tx8iQXwCl-",
        "outputId": "f5fe7a8b-f78c-4076-f4e3-42ccad5fa060"
      },
      "execution_count": 35,
      "outputs": [
        {
          "output_type": "execute_result",
          "data": {
            "text/plain": [
              "<PIL.PngImagePlugin.PngImageFile image mode=P size=800x800 at 0x7F7B594AC890>"
            ],
            "image/png": "[encoded data removed]"
          },
          "metadata": {},
          "execution_count": 35
        }
      ]
    },
    {
      "cell_type": "code",
      "source": [
        "#QUIZ\n",
        "url = 'https://cf-courses-data.s3.us.cloud-object-storage.appdomain.cloud/IBMDeveloperSkillsNetwork-PY0101EN-SkillsNetwork/labs/Module%205/data/Example1.txt'\n",
        "r=requests.get(url)\n",
        "path=os.path.join(os.getcwd(),'Example1.txt')\n",
        "with open(path,'wb') as f:\n",
        "    f.write(r.content)"
      ],
      "metadata": {
        "id": "XW46_jIAwJqF"
      },
      "execution_count": 36,
      "outputs": []
    },
    {
      "cell_type": "code",
      "source": [
        "#Get Request with URL Parameters\n",
        "#the Base URL is for http://httpbin.org/ is a simple HTTP Request & Response Service.\n",
        "url_get='http://httpbin.org/get'\n",
        "#we use dictionaries to add query strings. The keys are the parameter names and the values are the value of the Query string.\n",
        "payload={\"name\":\"Joseph\",\"ID\":\"123\"}\n",
        "#Then passing the dictionary payload to the params parameter of the  get() function:\n",
        "r=requests.get(url_get,params=payload)"
      ],
      "metadata": {
        "id": "V9y9R_trwwkt"
      },
      "execution_count": 37,
      "outputs": []
    },
    {
      "cell_type": "code",
      "source": [
        "# we can pritn the 'url ' attributes to see the used values\n",
        "print(r.url)"
      ],
      "metadata": {
        "colab": {
          "base_uri": "https://localhost:8080/"
        },
        "id": "LI08SB3oxZRB",
        "outputId": "9ecd9a3e-1306-4526-856d-5abadac2020c"
      },
      "execution_count": 38,
      "outputs": [
        {
          "output_type": "stream",
          "name": "stdout",
          "text": [
            "http://httpbin.org/get?name=Joseph&ID=123\n"
          ]
        }
      ]
    },
    {
      "cell_type": "code",
      "source": [
        "#we can print the request body, the response status code\n",
        "print(\"request body:\", r.request.body)\n",
        "print(\"response status code\", r.status_code)"
      ],
      "metadata": {
        "colab": {
          "base_uri": "https://localhost:8080/"
        },
        "id": "CIBD-kwnxe-e",
        "outputId": "d28539c3-8b09-47b7-81ef-60ba7bd83aa2"
      },
      "execution_count": 39,
      "outputs": [
        {
          "output_type": "stream",
          "name": "stdout",
          "text": [
            "request body: None\n",
            "response status code 200\n"
          ]
        }
      ]
    },
    {
      "cell_type": "code",
      "source": [
        "#we can view the response text\n",
        "print(r.text)"
      ],
      "metadata": {
        "colab": {
          "base_uri": "https://localhost:8080/"
        },
        "id": "CocBL_FJxwyl",
        "outputId": "ba2f47d4-bee7-4039-c058-18beab2b2245"
      },
      "execution_count": 40,
      "outputs": [
        {
          "output_type": "stream",
          "name": "stdout",
          "text": [
            "{\n",
            "  \"args\": {\n",
            "    \"ID\": \"123\", \n",
            "    \"name\": \"Joseph\"\n",
            "  }, \n",
            "  \"headers\": {\n",
            "    \"Accept\": \"*/*\", \n",
            "    \"Accept-Encoding\": \"gzip, deflate\", \n",
            "    \"Host\": \"httpbin.org\", \n",
            "    \"User-Agent\": \"python-requests/2.23.0\", \n",
            "    \"X-Amzn-Trace-Id\": \"Root=1-63367836-79ec74b0383662a21226e619\"\n",
            "  }, \n",
            "  \"origin\": \"34.136.103.122\", \n",
            "  \"url\": \"http://httpbin.org/get?name=Joseph&ID=123\"\n",
            "}\n",
            "\n"
          ]
        }
      ]
    },
    {
      "cell_type": "code",
      "source": [
        "#IMPORTANT!\n",
        "#As the response content is in the JSON format we can use the method json(), whuch will return a Python dict:\n",
        "r.json()"
      ],
      "metadata": {
        "colab": {
          "base_uri": "https://localhost:8080/"
        },
        "id": "VYJVFNvzx2CU",
        "outputId": "3a2032b9-75aa-471c-b1a8-a300ea2f54e2"
      },
      "execution_count": 41,
      "outputs": [
        {
          "output_type": "execute_result",
          "data": {
            "text/plain": [
              "{'args': {'ID': '123', 'name': 'Joseph'},\n",
              " 'headers': {'Accept': '*/*',\n",
              "  'Accept-Encoding': 'gzip, deflate',\n",
              "  'Host': 'httpbin.org',\n",
              "  'User-Agent': 'python-requests/2.23.0',\n",
              "  'X-Amzn-Trace-Id': 'Root=1-63367836-79ec74b0383662a21226e619'},\n",
              " 'origin': '34.136.103.122',\n",
              " 'url': 'http://httpbin.org/get?name=Joseph&ID=123'}"
            ]
          },
          "metadata": {},
          "execution_count": 41
        }
      ]
    },
    {
      "cell_type": "code",
      "source": [
        "#The key args has the name and values:\n",
        "r.json()['args']"
      ],
      "metadata": {
        "colab": {
          "base_uri": "https://localhost:8080/"
        },
        "id": "lVLo7JCOyFJR",
        "outputId": "8172046a-018e-44e0-b13e-e609541b9aee"
      },
      "execution_count": 43,
      "outputs": [
        {
          "output_type": "execute_result",
          "data": {
            "text/plain": [
              "{'ID': '123', 'name': 'Joseph'}"
            ]
          },
          "metadata": {},
          "execution_count": 43
        }
      ]
    },
    {
      "cell_type": "code",
      "source": [
        "#ABOUT POST REQUESTS\n",
        "#POST request sends the data in a request body\n",
        "url_post='http://httpbin.org/post'\n",
        "#To make a POST request we use the post() function, the variable payload is passed to the parameter  data :\n",
        "r_post=requests.post(url_post,data=payload)"
      ],
      "metadata": {
        "id": "j6z2-RU5yMwu"
      },
      "execution_count": 44,
      "outputs": []
    },
    {
      "cell_type": "code",
      "source": [
        "#Comparing the URL from the response object of the GET and POST request we see the POST request has no name or value pairs.\n",
        "#This happens because GET sends parameters throught the URL but POST request does not\n",
        "print(\"POST request URL:\",r_post.url )\n",
        "print(\"GET request URL:\",r.url)"
      ],
      "metadata": {
        "colab": {
          "base_uri": "https://localhost:8080/"
        },
        "id": "z1hhRR-kzDNc",
        "outputId": "2e6e8e13-1890-489d-f74f-7f08388981ec"
      },
      "execution_count": 45,
      "outputs": [
        {
          "output_type": "stream",
          "name": "stdout",
          "text": [
            "POST request URL: http://httpbin.org/post\n",
            "GET request URL: http://httpbin.org/get?name=Joseph&ID=123\n"
          ]
        }
      ]
    },
    {
      "cell_type": "code",
      "source": [
        "#a post request sends data through the request body\n",
        "print(\"POST request body:\",r_post.request.body)\n",
        "print(\"GET request body:\",r.request.body)"
      ],
      "metadata": {
        "colab": {
          "base_uri": "https://localhost:8080/"
        },
        "id": "NocLmJnWzUFE",
        "outputId": "cf6ac820-da01-4824-e7cd-ac7d97b63098"
      },
      "execution_count": 46,
      "outputs": [
        {
          "output_type": "stream",
          "name": "stdout",
          "text": [
            "POST request body: name=Joseph&ID=123\n",
            "GET request body: None\n"
          ]
        }
      ]
    },
    {
      "cell_type": "code",
      "source": [
        "#we can view the request form as well\n",
        "r_post.json()['form']"
      ],
      "metadata": {
        "colab": {
          "base_uri": "https://localhost:8080/"
        },
        "id": "vkJrtkQszdjV",
        "outputId": "b50e9ebe-fe4e-43fe-f3e5-03abcbdc8e15"
      },
      "execution_count": 47,
      "outputs": [
        {
          "output_type": "execute_result",
          "data": {
            "text/plain": [
              "{'ID': '123', 'name': 'Joseph'}"
            ]
          },
          "metadata": {},
          "execution_count": 47
        }
      ]
    },
    {
      "cell_type": "code",
      "source": [
        "r_post.json()"
      ],
      "metadata": {
        "colab": {
          "base_uri": "https://localhost:8080/"
        },
        "id": "BC7P4WF4zjKc",
        "outputId": "fa9fe948-2122-4ca3-b6e1-db32b7319161"
      },
      "execution_count": 48,
      "outputs": [
        {
          "output_type": "execute_result",
          "data": {
            "text/plain": [
              "{'args': {},\n",
              " 'data': '',\n",
              " 'files': {},\n",
              " 'form': {'ID': '123', 'name': 'Joseph'},\n",
              " 'headers': {'Accept': '*/*',\n",
              "  'Accept-Encoding': 'gzip, deflate',\n",
              "  'Content-Length': '18',\n",
              "  'Content-Type': 'application/x-www-form-urlencoded',\n",
              "  'Host': 'httpbin.org',\n",
              "  'User-Agent': 'python-requests/2.23.0',\n",
              "  'X-Amzn-Trace-Id': 'Root=1-633679e8-092b95ea6e014743355377f4'},\n",
              " 'json': None,\n",
              " 'origin': '34.136.103.122',\n",
              " 'url': 'http://httpbin.org/post'}"
            ]
          },
          "metadata": {},
          "execution_count": 48
        }
      ]
    },
    {
      "cell_type": "markdown",
      "source": [
        "#<font color=\"orange\">LAB Simple APIs - Part II</font>\n"
      ],
      "metadata": {
        "id": "IpFU0qec09nm"
      }
    },
    {
      "cell_type": "code",
      "source": [
        "!pip install randomuser"
      ],
      "metadata": {
        "colab": {
          "base_uri": "https://localhost:8080/"
        },
        "id": "rtgnrH1xzsTP",
        "outputId": "6cb22516-f894-4005-f935-91d3ce96c0b8"
      },
      "execution_count": 49,
      "outputs": [
        {
          "output_type": "stream",
          "name": "stdout",
          "text": [
            "Looking in indexes: https://pypi.org/simple, https://us-python.pkg.dev/colab-wheels/public/simple/\n",
            "Collecting randomuser\n",
            "  Downloading randomuser-1.6.tar.gz (5.0 kB)\n",
            "Building wheels for collected packages: randomuser\n",
            "  Building wheel for randomuser (setup.py) ... \u001b[?25l\u001b[?25hdone\n",
            "  Created wheel for randomuser: filename=randomuser-1.6-py3-none-any.whl size=5084 sha256=03cd8aab7fc3845c69979f963b1459c94d2b7fdc17934b8a2612bd06226d6058\n",
            "  Stored in directory: /root/.cache/pip/wheels/21/10/7b/c13bc3e24a3c1000a34554802ad8aa0ff27df56366998a0473\n",
            "Successfully built randomuser\n",
            "Installing collected packages: randomuser\n",
            "Successfully installed randomuser-1.6\n"
          ]
        }
      ]
    },
    {
      "cell_type": "code",
      "source": [
        "#LOAD NECESSARY LIBRARIES\n",
        "from randomuser import RandomUser\n",
        "import pandas as pd"
      ],
      "metadata": {
        "id": "-i0RlksV1a4C"
      },
      "execution_count": 50,
      "outputs": []
    },
    {
      "cell_type": "code",
      "source": [
        "#lets create a random user object\n",
        "r = RandomUser()\n",
        "#Then we will use the generate_users() function to get 10 random users\n",
        "some_list = r.generate_users(10)\n",
        "some_list #this will list the memory addresses for the objects, not the object \"data\""
      ],
      "metadata": {
        "colab": {
          "base_uri": "https://localhost:8080/"
        },
        "id": "2j0LJYkT1h8H",
        "outputId": "abb1f586-1af1-4998-e683-0e0300bdc3e9"
      },
      "execution_count": 52,
      "outputs": [
        {
          "output_type": "execute_result",
          "data": {
            "text/plain": [
              "[<randomuser.RandomUser at 0x7f7b79ad7110>,\n",
              " <randomuser.RandomUser at 0x7f7b79ad7150>,\n",
              " <randomuser.RandomUser at 0x7f7b79ad7190>,\n",
              " <randomuser.RandomUser at 0x7f7b79ad71d0>,\n",
              " <randomuser.RandomUser at 0x7f7b79ad7210>,\n",
              " <randomuser.RandomUser at 0x7f7b79ad7290>,\n",
              " <randomuser.RandomUser at 0x7f7b79ad72d0>,\n",
              " <randomuser.RandomUser at 0x7f7b79ad7310>,\n",
              " <randomuser.RandomUser at 0x7f7b79ad7350>,\n",
              " <randomuser.RandomUser at 0x7f7b79ad7250>]"
            ]
          },
          "metadata": {},
          "execution_count": 52
        }
      ]
    },
    {
      "cell_type": "code",
      "source": [
        "#generate pictures for the users\n",
        "for usr in some_list:\n",
        "    print (usr.get_picture())"
      ],
      "metadata": {
        "colab": {
          "base_uri": "https://localhost:8080/"
        },
        "id": "HnrvE1T21ozO",
        "outputId": "58c0fb5e-7d17-418c-8f95-aa850c895476"
      },
      "execution_count": 53,
      "outputs": [
        {
          "output_type": "stream",
          "name": "stdout",
          "text": [
            "https://randomuser.me/api/portraits/women/47.jpg\n",
            "https://randomuser.me/api/portraits/women/88.jpg\n",
            "https://randomuser.me/api/portraits/women/73.jpg\n",
            "https://randomuser.me/api/portraits/women/73.jpg\n",
            "https://randomuser.me/api/portraits/women/45.jpg\n",
            "https://randomuser.me/api/portraits/women/31.jpg\n",
            "https://randomuser.me/api/portraits/women/42.jpg\n",
            "https://randomuser.me/api/portraits/men/14.jpg\n",
            "https://randomuser.me/api/portraits/women/70.jpg\n",
            "https://randomuser.me/api/portraits/men/76.jpg\n"
          ]
        }
      ]
    },
    {
      "cell_type": "code",
      "source": [
        "#To generate a table with information about the users, we can write a function containing all desirable parameters. For example, name, gender, city, etc. \n",
        "#The parameters will depend on the requirements of the test to be performed. We call the Get Methods, listed at the beginning of this notebook. Then, we return pandas dataframe with the users.\n",
        "def get_users():\n",
        "    users =[]\n",
        "     \n",
        "    for user in RandomUser.generate_users(10):\n",
        "        users.append({\"Name\":user.get_full_name(),\"Gender\":user.get_gender(),\"City\":user.get_city(),\"State\":user.get_state(),\"Email\":user.get_email(), \"DOB\":user.get_dob(),\"Picture\":user.get_picture()})\n",
        "      \n",
        "    return pd.DataFrame(users)    "
      ],
      "metadata": {
        "id": "Idzlf9eh2Ru3"
      },
      "execution_count": 54,
      "outputs": []
    },
    {
      "cell_type": "code",
      "source": [
        "df1 = pd.DataFrame(get_users())  \n",
        "df1"
      ],
      "metadata": {
        "colab": {
          "base_uri": "https://localhost:8080/",
          "height": 359
        },
        "id": "H7mcsQAO2o-u",
        "outputId": "e5d578f0-0a84-4f98-ef95-7542f092573b"
      },
      "execution_count": 56,
      "outputs": [
        {
          "output_type": "execute_result",
          "data": {
            "text/plain": [
              "                   Name  Gender                           City  \\\n",
              "0        Tristan Renaud    male                      Montreuil   \n",
              "1  Olivia Jean-Baptiste  female                      Stratford   \n",
              "2         Diane Carroll  female                       Maynooth   \n",
              "3           Aida Sandli  female                    Poverudbyen   \n",
              "4       Özsu Tekelioğlu  female                     Kırklareli   \n",
              "5        Aneta Reinecke  female                 Zwickauer Land   \n",
              "6         Alfred Menard    male                Jouxtens-Mézery   \n",
              "7        Henryk Metzler    male                        Renchen   \n",
              "8         Susanna Burke  female  Laytown-Bettystown-Mornington   \n",
              "9          Berndt Engel    male                      Rosenfeld   \n",
              "\n",
              "                    State                             Email  \\\n",
              "0                  Cantal        tristan.renaud@example.com   \n",
              "1            Saskatchewan  olivia.jean-baptiste@example.com   \n",
              "2                Monaghan         diane.carroll@example.com   \n",
              "3                 Hedmark           aida.sandli@example.com   \n",
              "4                  Yozgat       ozsu.tekelioglu@example.com   \n",
              "5         Rheinland-Pfalz        aneta.reinecke@example.com   \n",
              "6  Appenzell Ausserrhoden         alfred.menard@example.com   \n",
              "7         Rheinland-Pfalz        henryk.metzler@example.com   \n",
              "8                Monaghan         susanna.burke@example.com   \n",
              "9               Thüringen          berndt.engel@example.com   \n",
              "\n",
              "                        DOB                                           Picture  \n",
              "0  1948-11-15T21:38:16.066Z    https://randomuser.me/api/portraits/men/74.jpg  \n",
              "1  1995-07-28T19:08:54.659Z   https://randomuser.me/api/portraits/women/6.jpg  \n",
              "2  1993-04-11T16:04:47.416Z  https://randomuser.me/api/portraits/women/13.jpg  \n",
              "3  1971-06-05T10:22:04.902Z  https://randomuser.me/api/portraits/women/92.jpg  \n",
              "4  1995-07-06T15:57:23.228Z  https://randomuser.me/api/portraits/women/78.jpg  \n",
              "5  1961-04-20T04:27:09.938Z  https://randomuser.me/api/portraits/women/51.jpg  \n",
              "6  1992-01-28T09:18:14.109Z    https://randomuser.me/api/portraits/men/27.jpg  \n",
              "7  1964-04-14T04:24:10.178Z    https://randomuser.me/api/portraits/men/20.jpg  \n",
              "8  1989-06-17T00:46:42.003Z  https://randomuser.me/api/portraits/women/73.jpg  \n",
              "9  1974-10-19T17:53:00.944Z    https://randomuser.me/api/portraits/men/10.jpg  "
            ],
            "text/html": [
              "\n",
              "  <div id=\"df-519f913d-269a-4712-a346-a1673c227f13\">\n",
              "    <div class=\"colab-df-container\">\n",
              "      <div>\n",
              "<style scoped>\n",
              "    .dataframe tbody tr th:only-of-type {\n",
              "        vertical-align: middle;\n",
              "    }\n",
              "\n",
              "    .dataframe tbody tr th {\n",
              "        vertical-align: top;\n",
              "    }\n",
              "\n",
              "    .dataframe thead th {\n",
              "        text-align: right;\n",
              "    }\n",
              "</style>\n",
              "<table border=\"1\" class=\"dataframe\">\n",
              "  <thead>\n",
              "    <tr style=\"text-align: right;\">\n",
              "      <th></th>\n",
              "      <th>Name</th>\n",
              "      <th>Gender</th>\n",
              "      <th>City</th>\n",
              "      <th>State</th>\n",
              "      <th>Email</th>\n",
              "      <th>DOB</th>\n",
              "      <th>Picture</th>\n",
              "    </tr>\n",
              "  </thead>\n",
              "  <tbody>\n",
              "    <tr>\n",
              "      <th>0</th>\n",
              "      <td>Tristan Renaud</td>\n",
              "      <td>male</td>\n",
              "      <td>Montreuil</td>\n",
              "      <td>Cantal</td>\n",
              "      <td>tristan.renaud@example.com</td>\n",
              "      <td>1948-11-15T21:38:16.066Z</td>\n",
              "      <td>https://randomuser.me/api/portraits/men/74.jpg</td>\n",
              "    </tr>\n",
              "    <tr>\n",
              "      <th>1</th>\n",
              "      <td>Olivia Jean-Baptiste</td>\n",
              "      <td>female</td>\n",
              "      <td>Stratford</td>\n",
              "      <td>Saskatchewan</td>\n",
              "      <td>olivia.jean-baptiste@example.com</td>\n",
              "      <td>1995-07-28T19:08:54.659Z</td>\n",
              "      <td>https://randomuser.me/api/portraits/women/6.jpg</td>\n",
              "    </tr>\n",
              "    <tr>\n",
              "      <th>2</th>\n",
              "      <td>Diane Carroll</td>\n",
              "      <td>female</td>\n",
              "      <td>Maynooth</td>\n",
              "      <td>Monaghan</td>\n",
              "      <td>diane.carroll@example.com</td>\n",
              "      <td>1993-04-11T16:04:47.416Z</td>\n",
              "      <td>https://randomuser.me/api/portraits/women/13.jpg</td>\n",
              "    </tr>\n",
              "    <tr>\n",
              "      <th>3</th>\n",
              "      <td>Aida Sandli</td>\n",
              "      <td>female</td>\n",
              "      <td>Poverudbyen</td>\n",
              "      <td>Hedmark</td>\n",
              "      <td>aida.sandli@example.com</td>\n",
              "      <td>1971-06-05T10:22:04.902Z</td>\n",
              "      <td>https://randomuser.me/api/portraits/women/92.jpg</td>\n",
              "    </tr>\n",
              "    <tr>\n",
              "      <th>4</th>\n",
              "      <td>Özsu Tekelioğlu</td>\n",
              "      <td>female</td>\n",
              "      <td>Kırklareli</td>\n",
              "      <td>Yozgat</td>\n",
              "      <td>ozsu.tekelioglu@example.com</td>\n",
              "      <td>1995-07-06T15:57:23.228Z</td>\n",
              "      <td>https://randomuser.me/api/portraits/women/78.jpg</td>\n",
              "    </tr>\n",
              "    <tr>\n",
              "      <th>5</th>\n",
              "      <td>Aneta Reinecke</td>\n",
              "      <td>female</td>\n",
              "      <td>Zwickauer Land</td>\n",
              "      <td>Rheinland-Pfalz</td>\n",
              "      <td>aneta.reinecke@example.com</td>\n",
              "      <td>1961-04-20T04:27:09.938Z</td>\n",
              "      <td>https://randomuser.me/api/portraits/women/51.jpg</td>\n",
              "    </tr>\n",
              "    <tr>\n",
              "      <th>6</th>\n",
              "      <td>Alfred Menard</td>\n",
              "      <td>male</td>\n",
              "      <td>Jouxtens-Mézery</td>\n",
              "      <td>Appenzell Ausserrhoden</td>\n",
              "      <td>alfred.menard@example.com</td>\n",
              "      <td>1992-01-28T09:18:14.109Z</td>\n",
              "      <td>https://randomuser.me/api/portraits/men/27.jpg</td>\n",
              "    </tr>\n",
              "    <tr>\n",
              "      <th>7</th>\n",
              "      <td>Henryk Metzler</td>\n",
              "      <td>male</td>\n",
              "      <td>Renchen</td>\n",
              "      <td>Rheinland-Pfalz</td>\n",
              "      <td>henryk.metzler@example.com</td>\n",
              "      <td>1964-04-14T04:24:10.178Z</td>\n",
              "      <td>https://randomuser.me/api/portraits/men/20.jpg</td>\n",
              "    </tr>\n",
              "    <tr>\n",
              "      <th>8</th>\n",
              "      <td>Susanna Burke</td>\n",
              "      <td>female</td>\n",
              "      <td>Laytown-Bettystown-Mornington</td>\n",
              "      <td>Monaghan</td>\n",
              "      <td>susanna.burke@example.com</td>\n",
              "      <td>1989-06-17T00:46:42.003Z</td>\n",
              "      <td>https://randomuser.me/api/portraits/women/73.jpg</td>\n",
              "    </tr>\n",
              "    <tr>\n",
              "      <th>9</th>\n",
              "      <td>Berndt Engel</td>\n",
              "      <td>male</td>\n",
              "      <td>Rosenfeld</td>\n",
              "      <td>Thüringen</td>\n",
              "      <td>berndt.engel@example.com</td>\n",
              "      <td>1974-10-19T17:53:00.944Z</td>\n",
              "      <td>https://randomuser.me/api/portraits/men/10.jpg</td>\n",
              "    </tr>\n",
              "  </tbody>\n",
              "</table>\n",
              "</div>\n",
              "      <button class=\"colab-df-convert\" onclick=\"convertToInteractive('df-519f913d-269a-4712-a346-a1673c227f13')\"\n",
              "              title=\"Convert this dataframe to an interactive table.\"\n",
              "              style=\"display:none;\">\n",
              "        \n",
              "  <svg xmlns=\"http://www.w3.org/2000/svg\" height=\"24px\"viewBox=\"0 0 24 24\"\n",
              "       width=\"24px\">\n",
              "    <path d=\"M0 0h24v24H0V0z\" fill=\"none\"/>\n",
              "    <path d=\"M18.56 5.44l.94 2.06.94-2.06 2.06-.94-2.06-.94-.94-2.06-.94 2.06-2.06.94zm-11 1L8.5 8.5l.94-2.06 2.06-.94-2.06-.94L8.5 2.5l-.94 2.06-2.06.94zm10 10l.94 2.06.94-2.06 2.06-.94-2.06-.94-.94-2.06-.94 2.06-2.06.94z\"/><path d=\"M17.41 7.96l-1.37-1.37c-.4-.4-.92-.59-1.43-.59-.52 0-1.04.2-1.43.59L10.3 9.45l-7.72 7.72c-.78.78-.78 2.05 0 2.83L4 21.41c.39.39.9.59 1.41.59.51 0 1.02-.2 1.41-.59l7.78-7.78 2.81-2.81c.8-.78.8-2.07 0-2.86zM5.41 20L4 18.59l7.72-7.72 1.47 1.35L5.41 20z\"/>\n",
              "  </svg>\n",
              "      </button>\n",
              "      \n",
              "  <style>\n",
              "    .colab-df-container {\n",
              "      display:flex;\n",
              "      flex-wrap:wrap;\n",
              "      gap: 12px;\n",
              "    }\n",
              "\n",
              "    .colab-df-convert {\n",
              "      background-color: #E8F0FE;\n",
              "      border: none;\n",
              "      border-radius: 50%;\n",
              "      cursor: pointer;\n",
              "      display: none;\n",
              "      fill: #1967D2;\n",
              "      height: 32px;\n",
              "      padding: 0 0 0 0;\n",
              "      width: 32px;\n",
              "    }\n",
              "\n",
              "    .colab-df-convert:hover {\n",
              "      background-color: #E2EBFA;\n",
              "      box-shadow: 0px 1px 2px rgba(60, 64, 67, 0.3), 0px 1px 3px 1px rgba(60, 64, 67, 0.15);\n",
              "      fill: #174EA6;\n",
              "    }\n",
              "\n",
              "    [theme=dark] .colab-df-convert {\n",
              "      background-color: #3B4455;\n",
              "      fill: #D2E3FC;\n",
              "    }\n",
              "\n",
              "    [theme=dark] .colab-df-convert:hover {\n",
              "      background-color: #434B5C;\n",
              "      box-shadow: 0px 1px 3px 1px rgba(0, 0, 0, 0.15);\n",
              "      filter: drop-shadow(0px 1px 2px rgba(0, 0, 0, 0.3));\n",
              "      fill: #FFFFFF;\n",
              "    }\n",
              "  </style>\n",
              "\n",
              "      <script>\n",
              "        const buttonEl =\n",
              "          document.querySelector('#df-519f913d-269a-4712-a346-a1673c227f13 button.colab-df-convert');\n",
              "        buttonEl.style.display =\n",
              "          google.colab.kernel.accessAllowed ? 'block' : 'none';\n",
              "\n",
              "        async function convertToInteractive(key) {\n",
              "          const element = document.querySelector('#df-519f913d-269a-4712-a346-a1673c227f13');\n",
              "          const dataTable =\n",
              "            await google.colab.kernel.invokeFunction('convertToInteractive',\n",
              "                                                     [key], {});\n",
              "          if (!dataTable) return;\n",
              "\n",
              "          const docLinkHtml = 'Like what you see? Visit the ' +\n",
              "            '<a target=\"_blank\" href=https://colab.research.google.com/notebooks/data_table.ipynb>data table notebook</a>'\n",
              "            + ' to learn more about interactive tables.';\n",
              "          element.innerHTML = '';\n",
              "          dataTable['output_type'] = 'display_data';\n",
              "          await google.colab.output.renderOutput(dataTable, element);\n",
              "          const docLink = document.createElement('div');\n",
              "          docLink.innerHTML = docLinkHtml;\n",
              "          element.appendChild(docLink);\n",
              "        }\n",
              "      </script>\n",
              "    </div>\n",
              "  </div>\n",
              "  "
            ]
          },
          "metadata": {},
          "execution_count": 56
        }
      ]
    },
    {
      "cell_type": "code",
      "source": [
        "#Fruitvice API\n",
        "#import requests..."
      ],
      "metadata": {
        "id": "1W7aDB6G2xth"
      },
      "execution_count": 57,
      "outputs": []
    },
    {
      "cell_type": "code",
      "source": [
        "import requests\n",
        "import json"
      ],
      "metadata": {
        "id": "TthfNWU-276L"
      },
      "execution_count": 58,
      "outputs": []
    },
    {
      "cell_type": "code",
      "source": [
        "data = requests.get(\"https://www.fruityvice.com/api/fruit/all\")\n",
        "data.text"
      ],
      "metadata": {
        "colab": {
          "base_uri": "https://localhost:8080/",
          "height": 106
        },
        "id": "xPJ0yUJu28rw",
        "outputId": "d5116d21-99eb-4593-8549-c3fc8cccbf6c"
      },
      "execution_count": 60,
      "outputs": [
        {
          "output_type": "execute_result",
          "data": {
            "text/plain": [
              "'[{\\n    \"genus\": \"Malus\",\\n    \"name\": \"Apple\",\\n    \"id\": 6,\\n    \"family\": \"Rosaceae\",\\n    \"order\": \"Rosales\",\\n    \"nutritions\": {\\n        \"carbohydrates\": 11.4,\\n        \"protein\": 0.3,\\n        \"fat\": 0.4,\\n        \"calories\": 52,\\n        \"sugar\": 10.3\\n    }\\n}, {\\n    \"genus\": \"Prunus\",\\n    \"name\": \"Apricot\",\\n    \"id\": 35,\\n    \"family\": \"Rosaceae\",\\n    \"order\": \"Rosales\",\\n    \"nutritions\": {\\n        \"carbohydrates\": 3.9,\\n        \"protein\": 0.5,\\n        \"fat\": 0.1,\\n        \"calories\": 15,\\n        \"sugar\": 3.2\\n    }\\n}, {\\n    \"genus\": \"Musa\",\\n    \"name\": \"Banana\",\\n    \"id\": 1,\\n    \"family\": \"Musaceae\",\\n    \"order\": \"Zingiberales\",\\n    \"nutritions\": {\\n        \"carbohydrates\": 22,\\n        \"protein\": 1,\\n        \"fat\": 0.2,\\n        \"calories\": 96,\\n        \"sugar\": 17.2\\n    }\\n}, {\\n    \"genus\": \"Rubus\",\\n    \"name\": \"Blackberry\",\\n    \"id\": 64,\\n    \"family\": \"Rosaceae\",\\n    \"order\": \"Rosales\",\\n    \"nutritions\": {\\n        \"carbohydrates\": 9,\\n        \"protein\": 1.3,\\n        \"fat\": 0.4,\\n        \"calories\": 40,\\n        \"sugar\": 4.5\\n    }\\n}, {\\n    \"genus\": \"Fragaria\",\\n    \"name\": \"Blueberry\",\\n    \"id\": 33,\\n    \"family\": \"Rosaceae\",\\n    \"order\": \"Rosales\",\\n    \"nutritions\": {\\n        \"carbohydrates\": 5.5,\\n        \"protein\": 0,\\n        \"fat\": 0.4,\\n        \"calories\": 29,\\n        \"sugar\": 5.4\\n    }\\n}, {\\n    \"genus\": \"Prunus\",\\n    \"name\": \"Cherry\",\\n    \"id\": 9,\\n    \"family\": \"Rosaceae\",\\n    \"order\": \"None\",\\n    \"nutritions\": {\\n        \"carbohydrates\": 12,\\n        \"protein\": 1,\\n        \"fat\": 0.3,\\n        \"calories\": 50,\\n        \"sugar\": 8\\n    }\\n}, {\\n    \"genus\": \"Durio\",\\n    \"name\": \"Durian\",\\n    \"id\": 60,\\n    \"family\": \"Malvaceae\",\\n    \"order\": \"Malvales\",\\n    \"nutritions\": {\\n        \"carbohydrates\": 27.1,\\n        \"protein\": 1.5,\\n        \"fat\": 5.3,\\n        \"calories\": 147,\\n        \"sugar\": 6.75\\n    }\\n}, {\\n    \"genus\": \"Ficus\",\\n    \"name\": \"Fig\",\\n    \"id\": 68,\\n    \"family\": \"Moraceae\",\\n    \"order\": \"Rosales\",\\n    \"nutritions\": {\\n        \"carbohydrates\": 19,\\n        \"protein\": 0.8,\\n        \"fat\": 0.3,\\n        \"calories\": 74,\\n        \"sugar\": 16\\n    }\\n}, {\\n    \"genus\": \"Ribes\",\\n    \"name\": \"Gooseberry\",\\n    \"id\": 69,\\n    \"family\": \"Grossulariaceae\",\\n    \"order\": \"Saxifragales\",\\n    \"nutritions\": {\\n        \"carbohydrates\": 10,\\n        \"protein\": 0.9,\\n        \"fat\": 0.6,\\n        \"calories\": 44,\\n        \"sugar\": 0\\n    }\\n}, {\\n    \"genus\": \"Vitis\",\\n    \"name\": \"Grapes\",\\n    \"id\": 47,\\n    \"family\": \"Vitaceae\",\\n    \"order\": \"Vitales\",\\n    \"nutritions\": {\\n        \"carbohydrates\": 18.1,\\n        \"protein\": 0.72,\\n        \"fat\": 0.16,\\n        \"calories\": 69,\\n        \"sugar\": 15.48\\n    }\\n}, {\\n    \"genus\": \"Malus\",\\n    \"name\": \"GreenApple\",\\n    \"id\": 72,\\n    \"family\": \"Rosaceae\",\\n    \"order\": \"Rosales\",\\n    \"nutritions\": {\\n        \"carbohydrates\": 3.1,\\n        \"protein\": 0.4,\\n        \"fat\": 0.1,\\n        \"calories\": 21,\\n        \"sugar\": 6.4\\n    }\\n}, {\\n    \"genus\": \"Psidium\",\\n    \"name\": \"Guava\",\\n    \"id\": 37,\\n    \"family\": \"Myrtaceae\",\\n    \"order\": \"Myrtales\",\\n    \"nutritions\": {\\n        \"carbohydrates\": 14,\\n        \"protein\": 2.6,\\n        \"fat\": 1,\\n        \"calories\": 68,\\n        \"sugar\": 9\\n    }\\n}, {\\n    \"genus\": \"Apteryx\",\\n    \"name\": \"Kiwi\",\\n    \"id\": 66,\\n    \"family\": \"Actinidiaceae\",\\n    \"order\": \"Struthioniformes\",\\n    \"nutritions\": {\\n        \"carbohydrates\": 15,\\n        \"protein\": 1.1,\\n        \"fat\": 0.5,\\n        \"calories\": 61,\\n        \"sugar\": 9\\n    }\\n}, {\\n    \"genus\": \"Citrus\",\\n    \"name\": \"Lemon\",\\n    \"id\": 26,\\n    \"family\": \"Rutaceae\",\\n    \"order\": \"Sapindales\",\\n    \"nutritions\": {\\n        \"carbohydrates\": 9,\\n        \"protein\": 1.1,\\n        \"fat\": 0.3,\\n        \"calories\": 29,\\n        \"sugar\": 2.5\\n    }\\n}, {\\n    \"genus\": \"Citrus\",\\n    \"name\": \"Lime\",\\n    \"id\": 44,\\n    \"family\": \"Rutaceae\",\\n    \"order\": \"Sapindales\",\\n    \"nutritions\": {\\n        \"carbohydrates\": 8.4,\\n        \"protein\": 0.3,\\n        \"fat\": 0.1,\\n        \"calories\": 25,\\n        \"sugar\": 1.7\\n    }\\n}, {\\n    \"genus\": \"Vaccinium\",\\n    \"name\": \"Lingonberry\",\\n    \"id\": 65,\\n    \"family\": \"Ericaceae\",\\n    \"order\": \"Ericales\",\\n    \"nutritions\": {\\n        \"carbohydrates\": 11.3,\\n        \"protein\": 0.75,\\n        \"fat\": 0.34,\\n        \"calories\": 50,\\n        \"sugar\": 5.74\\n    }\\n}, {\\n    \"genus\": \"Litchi\",\\n    \"name\": \"Lychee\",\\n    \"id\": 67,\\n    \"family\": \"Sapindaceae\",\\n    \"order\": \"Sapindales\",\\n    \"nutritions\": {\\n        \"carbohydrates\": 17,\\n        \"protein\": 0.8,\\n        \"fat\": 0.44,\\n        \"calories\": 66,\\n        \"sugar\": 15\\n    }\\n}, {\\n    \"genus\": \"Mangifera\",\\n    \"name\": \"Mango\",\\n    \"id\": 27,\\n    \"family\": \"Anacardiaceae\",\\n    \"order\": \"Sapindales\",\\n    \"nutritions\": {\\n        \"carbohydrates\": 15,\\n        \"protein\": 0.82,\\n        \"fat\": 0.38,\\n        \"calories\": 60,\\n        \"sugar\": 13.7\\n    }\\n}, {\\n    \"genus\": \"Cucumis\",\\n    \"name\": \"Melon\",\\n    \"id\": 41,\\n    \"family\": \"Cucurbitaceae\",\\n    \"order\": \"Cucurbitaceae\",\\n    \"nutritions\": {\\n        \"carbohydrates\": 8,\\n        \"protein\": 0,\\n        \"fat\": 0,\\n        \"calories\": 34,\\n        \"sugar\": 8\\n    }\\n}, {\\n    \"genus\": \"Citrus\",\\n    \"name\": \"Orange\",\\n    \"id\": 2,\\n    \"family\": \"Rutaceae\",\\n    \"order\": \"Sapindales\",\\n    \"nutritions\": {\\n        \"carbohydrates\": 8.3,\\n        \"protein\": 1,\\n        \"fat\": 0.2,\\n        \"calories\": 43,\\n        \"sugar\": 8.2\\n    }\\n}, {\\n    \"genus\": \"Carica\",\\n    \"name\": \"Papaya\",\\n    \"id\": 42,\\n    \"family\": \"Caricaceae\",\\n    \"order\": \"Caricacea\",\\n    \"nutritions\": {\\n        \"carbohydrates\": 11,\\n        \"protein\": 0,\\n        \"fat\": 0.4,\\n        \"calories\": 43,\\n        \"sugar\": 1\\n    }\\n}, {\\n    \"genus\": \"Passiflora\",\\n    \"name\": \"Passionfruit\",\\n    \"id\": 70,\\n    \"family\": \"Passifloraceae\",\\n    \"order\": \"Malpighiales\",\\n    \"nutritions\": {\\n        \"carbohydrates\": 22.4,\\n        \"protein\": 2.2,\\n        \"fat\": 0.7,\\n        \"calories\": 97,\\n        \"sugar\": 11.2\\n    }\\n}, {\\n    \"genus\": \"Pyrus\",\\n    \"name\": \"Pear\",\\n    \"id\": 4,\\n    \"family\": \"Rosaceae\",\\n    \"order\": \"Rosales\",\\n    \"nutritions\": {\\n        \"carbohydrates\": 15,\\n        \"protein\": 0.4,\\n        \"fat\": 0.1,\\n        \"calories\": 57,\\n        \"sugar\": 10\\n    }\\n}, {\\n    \"genus\": \"Diospyros\",\\n    \"name\": \"Persimmon\",\\n    \"id\": 52,\\n    \"family\": \"Ebenaceae\",\\n    \"order\": \"Rosales\",\\n    \"nutritions\": {\\n        \"carbohydrates\": 18,\\n        \"protein\": 0,\\n        \"fat\": 0,\\n        \"calories\": 81,\\n        \"sugar\": 18\\n    }\\n}, {\\n    \"genus\": \"Ananas\",\\n    \"name\": \"Pineapple\",\\n    \"id\": 10,\\n    \"family\": \"Bromeliaceae\",\\n    \"order\": \"Poales\",\\n    \"nutritions\": {\\n        \"carbohydrates\": 13.12,\\n        \"protein\": 0.54,\\n        \"fat\": 0.12,\\n        \"calories\": 50,\\n        \"sugar\": 9.85\\n    }\\n}, {\\n    \"genus\": \"Prunus\",\\n    \"name\": \"Plum\",\\n    \"id\": 71,\\n    \"family\": \"Rosaceae\",\\n    \"order\": \"Rosales\",\\n    \"nutritions\": {\\n        \"carbohydrates\": 11.4,\\n        \"protein\": 0.7,\\n        \"fat\": 0.28,\\n        \"calories\": 46,\\n        \"sugar\": 9.92\\n    }\\n}, {\\n    \"genus\": \"Rubus\",\\n    \"name\": \"Raspberry\",\\n    \"id\": 23,\\n    \"family\": \"Rosaceae\",\\n    \"order\": \"Rosales\",\\n    \"nutritions\": {\\n        \"carbohydrates\": 12,\\n        \"protein\": 1.2,\\n        \"fat\": 0.7,\\n        \"calories\": 53,\\n        \"sugar\": 4.4\\n    }\\n}, {\\n    \"genus\": \"Fragaria\",\\n    \"name\": \"Strawberry\",\\n    \"id\": 3,\\n    \"family\": \"Rosaceae\",\\n    \"order\": \"Rosales\",\\n    \"nutritions\": {\\n        \"carbohydrates\": 5.5,\\n        \"protein\": 0.8,\\n        \"fat\": 0.4,\\n        \"calories\": 29,\\n        \"sugar\": 5.4\\n    }\\n}, {\\n    \"genus\": \"Solanum\",\\n    \"name\": \"Tomato\",\\n    \"id\": 5,\\n    \"family\": \"Solanaceae\",\\n    \"order\": \"Solanales\",\\n    \"nutritions\": {\\n        \"carbohydrates\": 3.9,\\n        \"protein\": 0.9,\\n        \"fat\": 0.2,\\n        \"calories\": 74,\\n        \"sugar\": 2.6\\n    }\\n}, {\\n    \"genus\": \"Spondias\",\\n    \"name\": \"Umbu\",\\n    \"id\": 73,\\n    \"family\": \"Anacardiaceae\",\\n    \"order\": \"0\",\\n    \"nutritions\": {\\n        \"carbohydrates\": 0,\\n        \"protein\": 0,\\n        \"fat\": 0,\\n        \"calories\": 0,\\n        \"sugar\": 0\\n    }\\n}, {\\n    \"genus\": \"Citrullus\",\\n    \"name\": \"Watermelon\",\\n    \"id\": 25,\\n    \"family\": \"Cucurbitaceae\",\\n    \"order\": \"Cucurbitales\",\\n    \"nutritions\": {\\n        \"carbohydrates\": 8,\\n        \"protein\": 0.6,\\n        \"fat\": 0.2,\\n        \"calories\": 30,\\n        \"sugar\": 6\\n    }\\n}]'"
            ],
            "application/vnd.google.colaboratory.intrinsic+json": {
              "type": "string"
            }
          },
          "metadata": {},
          "execution_count": 60
        }
      ]
    },
    {
      "cell_type": "code",
      "source": [
        "results = json.loads(data.text) #parse into proper json\n",
        "results"
      ],
      "metadata": {
        "colab": {
          "base_uri": "https://localhost:8080/"
        },
        "id": "Ygl8adpS3Jlt",
        "outputId": "808767ef-36b7-4b67-fb9e-85f73dcb9e99"
      },
      "execution_count": 61,
      "outputs": [
        {
          "output_type": "execute_result",
          "data": {
            "text/plain": [
              "[{'genus': 'Malus',\n",
              "  'name': 'Apple',\n",
              "  'id': 6,\n",
              "  'family': 'Rosaceae',\n",
              "  'order': 'Rosales',\n",
              "  'nutritions': {'carbohydrates': 11.4,\n",
              "   'protein': 0.3,\n",
              "   'fat': 0.4,\n",
              "   'calories': 52,\n",
              "   'sugar': 10.3}},\n",
              " {'genus': 'Prunus',\n",
              "  'name': 'Apricot',\n",
              "  'id': 35,\n",
              "  'family': 'Rosaceae',\n",
              "  'order': 'Rosales',\n",
              "  'nutritions': {'carbohydrates': 3.9,\n",
              "   'protein': 0.5,\n",
              "   'fat': 0.1,\n",
              "   'calories': 15,\n",
              "   'sugar': 3.2}},\n",
              " {'genus': 'Musa',\n",
              "  'name': 'Banana',\n",
              "  'id': 1,\n",
              "  'family': 'Musaceae',\n",
              "  'order': 'Zingiberales',\n",
              "  'nutritions': {'carbohydrates': 22,\n",
              "   'protein': 1,\n",
              "   'fat': 0.2,\n",
              "   'calories': 96,\n",
              "   'sugar': 17.2}},\n",
              " {'genus': 'Rubus',\n",
              "  'name': 'Blackberry',\n",
              "  'id': 64,\n",
              "  'family': 'Rosaceae',\n",
              "  'order': 'Rosales',\n",
              "  'nutritions': {'carbohydrates': 9,\n",
              "   'protein': 1.3,\n",
              "   'fat': 0.4,\n",
              "   'calories': 40,\n",
              "   'sugar': 4.5}},\n",
              " {'genus': 'Fragaria',\n",
              "  'name': 'Blueberry',\n",
              "  'id': 33,\n",
              "  'family': 'Rosaceae',\n",
              "  'order': 'Rosales',\n",
              "  'nutritions': {'carbohydrates': 5.5,\n",
              "   'protein': 0,\n",
              "   'fat': 0.4,\n",
              "   'calories': 29,\n",
              "   'sugar': 5.4}},\n",
              " {'genus': 'Prunus',\n",
              "  'name': 'Cherry',\n",
              "  'id': 9,\n",
              "  'family': 'Rosaceae',\n",
              "  'order': 'None',\n",
              "  'nutritions': {'carbohydrates': 12,\n",
              "   'protein': 1,\n",
              "   'fat': 0.3,\n",
              "   'calories': 50,\n",
              "   'sugar': 8}},\n",
              " {'genus': 'Durio',\n",
              "  'name': 'Durian',\n",
              "  'id': 60,\n",
              "  'family': 'Malvaceae',\n",
              "  'order': 'Malvales',\n",
              "  'nutritions': {'carbohydrates': 27.1,\n",
              "   'protein': 1.5,\n",
              "   'fat': 5.3,\n",
              "   'calories': 147,\n",
              "   'sugar': 6.75}},\n",
              " {'genus': 'Ficus',\n",
              "  'name': 'Fig',\n",
              "  'id': 68,\n",
              "  'family': 'Moraceae',\n",
              "  'order': 'Rosales',\n",
              "  'nutritions': {'carbohydrates': 19,\n",
              "   'protein': 0.8,\n",
              "   'fat': 0.3,\n",
              "   'calories': 74,\n",
              "   'sugar': 16}},\n",
              " {'genus': 'Ribes',\n",
              "  'name': 'Gooseberry',\n",
              "  'id': 69,\n",
              "  'family': 'Grossulariaceae',\n",
              "  'order': 'Saxifragales',\n",
              "  'nutritions': {'carbohydrates': 10,\n",
              "   'protein': 0.9,\n",
              "   'fat': 0.6,\n",
              "   'calories': 44,\n",
              "   'sugar': 0}},\n",
              " {'genus': 'Vitis',\n",
              "  'name': 'Grapes',\n",
              "  'id': 47,\n",
              "  'family': 'Vitaceae',\n",
              "  'order': 'Vitales',\n",
              "  'nutritions': {'carbohydrates': 18.1,\n",
              "   'protein': 0.72,\n",
              "   'fat': 0.16,\n",
              "   'calories': 69,\n",
              "   'sugar': 15.48}},\n",
              " {'genus': 'Malus',\n",
              "  'name': 'GreenApple',\n",
              "  'id': 72,\n",
              "  'family': 'Rosaceae',\n",
              "  'order': 'Rosales',\n",
              "  'nutritions': {'carbohydrates': 3.1,\n",
              "   'protein': 0.4,\n",
              "   'fat': 0.1,\n",
              "   'calories': 21,\n",
              "   'sugar': 6.4}},\n",
              " {'genus': 'Psidium',\n",
              "  'name': 'Guava',\n",
              "  'id': 37,\n",
              "  'family': 'Myrtaceae',\n",
              "  'order': 'Myrtales',\n",
              "  'nutritions': {'carbohydrates': 14,\n",
              "   'protein': 2.6,\n",
              "   'fat': 1,\n",
              "   'calories': 68,\n",
              "   'sugar': 9}},\n",
              " {'genus': 'Apteryx',\n",
              "  'name': 'Kiwi',\n",
              "  'id': 66,\n",
              "  'family': 'Actinidiaceae',\n",
              "  'order': 'Struthioniformes',\n",
              "  'nutritions': {'carbohydrates': 15,\n",
              "   'protein': 1.1,\n",
              "   'fat': 0.5,\n",
              "   'calories': 61,\n",
              "   'sugar': 9}},\n",
              " {'genus': 'Citrus',\n",
              "  'name': 'Lemon',\n",
              "  'id': 26,\n",
              "  'family': 'Rutaceae',\n",
              "  'order': 'Sapindales',\n",
              "  'nutritions': {'carbohydrates': 9,\n",
              "   'protein': 1.1,\n",
              "   'fat': 0.3,\n",
              "   'calories': 29,\n",
              "   'sugar': 2.5}},\n",
              " {'genus': 'Citrus',\n",
              "  'name': 'Lime',\n",
              "  'id': 44,\n",
              "  'family': 'Rutaceae',\n",
              "  'order': 'Sapindales',\n",
              "  'nutritions': {'carbohydrates': 8.4,\n",
              "   'protein': 0.3,\n",
              "   'fat': 0.1,\n",
              "   'calories': 25,\n",
              "   'sugar': 1.7}},\n",
              " {'genus': 'Vaccinium',\n",
              "  'name': 'Lingonberry',\n",
              "  'id': 65,\n",
              "  'family': 'Ericaceae',\n",
              "  'order': 'Ericales',\n",
              "  'nutritions': {'carbohydrates': 11.3,\n",
              "   'protein': 0.75,\n",
              "   'fat': 0.34,\n",
              "   'calories': 50,\n",
              "   'sugar': 5.74}},\n",
              " {'genus': 'Litchi',\n",
              "  'name': 'Lychee',\n",
              "  'id': 67,\n",
              "  'family': 'Sapindaceae',\n",
              "  'order': 'Sapindales',\n",
              "  'nutritions': {'carbohydrates': 17,\n",
              "   'protein': 0.8,\n",
              "   'fat': 0.44,\n",
              "   'calories': 66,\n",
              "   'sugar': 15}},\n",
              " {'genus': 'Mangifera',\n",
              "  'name': 'Mango',\n",
              "  'id': 27,\n",
              "  'family': 'Anacardiaceae',\n",
              "  'order': 'Sapindales',\n",
              "  'nutritions': {'carbohydrates': 15,\n",
              "   'protein': 0.82,\n",
              "   'fat': 0.38,\n",
              "   'calories': 60,\n",
              "   'sugar': 13.7}},\n",
              " {'genus': 'Cucumis',\n",
              "  'name': 'Melon',\n",
              "  'id': 41,\n",
              "  'family': 'Cucurbitaceae',\n",
              "  'order': 'Cucurbitaceae',\n",
              "  'nutritions': {'carbohydrates': 8,\n",
              "   'protein': 0,\n",
              "   'fat': 0,\n",
              "   'calories': 34,\n",
              "   'sugar': 8}},\n",
              " {'genus': 'Citrus',\n",
              "  'name': 'Orange',\n",
              "  'id': 2,\n",
              "  'family': 'Rutaceae',\n",
              "  'order': 'Sapindales',\n",
              "  'nutritions': {'carbohydrates': 8.3,\n",
              "   'protein': 1,\n",
              "   'fat': 0.2,\n",
              "   'calories': 43,\n",
              "   'sugar': 8.2}},\n",
              " {'genus': 'Carica',\n",
              "  'name': 'Papaya',\n",
              "  'id': 42,\n",
              "  'family': 'Caricaceae',\n",
              "  'order': 'Caricacea',\n",
              "  'nutritions': {'carbohydrates': 11,\n",
              "   'protein': 0,\n",
              "   'fat': 0.4,\n",
              "   'calories': 43,\n",
              "   'sugar': 1}},\n",
              " {'genus': 'Passiflora',\n",
              "  'name': 'Passionfruit',\n",
              "  'id': 70,\n",
              "  'family': 'Passifloraceae',\n",
              "  'order': 'Malpighiales',\n",
              "  'nutritions': {'carbohydrates': 22.4,\n",
              "   'protein': 2.2,\n",
              "   'fat': 0.7,\n",
              "   'calories': 97,\n",
              "   'sugar': 11.2}},\n",
              " {'genus': 'Pyrus',\n",
              "  'name': 'Pear',\n",
              "  'id': 4,\n",
              "  'family': 'Rosaceae',\n",
              "  'order': 'Rosales',\n",
              "  'nutritions': {'carbohydrates': 15,\n",
              "   'protein': 0.4,\n",
              "   'fat': 0.1,\n",
              "   'calories': 57,\n",
              "   'sugar': 10}},\n",
              " {'genus': 'Diospyros',\n",
              "  'name': 'Persimmon',\n",
              "  'id': 52,\n",
              "  'family': 'Ebenaceae',\n",
              "  'order': 'Rosales',\n",
              "  'nutritions': {'carbohydrates': 18,\n",
              "   'protein': 0,\n",
              "   'fat': 0,\n",
              "   'calories': 81,\n",
              "   'sugar': 18}},\n",
              " {'genus': 'Ananas',\n",
              "  'name': 'Pineapple',\n",
              "  'id': 10,\n",
              "  'family': 'Bromeliaceae',\n",
              "  'order': 'Poales',\n",
              "  'nutritions': {'carbohydrates': 13.12,\n",
              "   'protein': 0.54,\n",
              "   'fat': 0.12,\n",
              "   'calories': 50,\n",
              "   'sugar': 9.85}},\n",
              " {'genus': 'Prunus',\n",
              "  'name': 'Plum',\n",
              "  'id': 71,\n",
              "  'family': 'Rosaceae',\n",
              "  'order': 'Rosales',\n",
              "  'nutritions': {'carbohydrates': 11.4,\n",
              "   'protein': 0.7,\n",
              "   'fat': 0.28,\n",
              "   'calories': 46,\n",
              "   'sugar': 9.92}},\n",
              " {'genus': 'Rubus',\n",
              "  'name': 'Raspberry',\n",
              "  'id': 23,\n",
              "  'family': 'Rosaceae',\n",
              "  'order': 'Rosales',\n",
              "  'nutritions': {'carbohydrates': 12,\n",
              "   'protein': 1.2,\n",
              "   'fat': 0.7,\n",
              "   'calories': 53,\n",
              "   'sugar': 4.4}},\n",
              " {'genus': 'Fragaria',\n",
              "  'name': 'Strawberry',\n",
              "  'id': 3,\n",
              "  'family': 'Rosaceae',\n",
              "  'order': 'Rosales',\n",
              "  'nutritions': {'carbohydrates': 5.5,\n",
              "   'protein': 0.8,\n",
              "   'fat': 0.4,\n",
              "   'calories': 29,\n",
              "   'sugar': 5.4}},\n",
              " {'genus': 'Solanum',\n",
              "  'name': 'Tomato',\n",
              "  'id': 5,\n",
              "  'family': 'Solanaceae',\n",
              "  'order': 'Solanales',\n",
              "  'nutritions': {'carbohydrates': 3.9,\n",
              "   'protein': 0.9,\n",
              "   'fat': 0.2,\n",
              "   'calories': 74,\n",
              "   'sugar': 2.6}},\n",
              " {'genus': 'Spondias',\n",
              "  'name': 'Umbu',\n",
              "  'id': 73,\n",
              "  'family': 'Anacardiaceae',\n",
              "  'order': '0',\n",
              "  'nutritions': {'carbohydrates': 0,\n",
              "   'protein': 0,\n",
              "   'fat': 0,\n",
              "   'calories': 0,\n",
              "   'sugar': 0}},\n",
              " {'genus': 'Citrullus',\n",
              "  'name': 'Watermelon',\n",
              "  'id': 25,\n",
              "  'family': 'Cucurbitaceae',\n",
              "  'order': 'Cucurbitales',\n",
              "  'nutritions': {'carbohydrates': 8,\n",
              "   'protein': 0.6,\n",
              "   'fat': 0.2,\n",
              "   'calories': 30,\n",
              "   'sugar': 6}}]"
            ]
          },
          "metadata": {},
          "execution_count": 61
        }
      ]
    },
    {
      "cell_type": "code",
      "source": [
        "#create a data frame\n",
        "pd.DataFrame(results)"
      ],
      "metadata": {
        "colab": {
          "base_uri": "https://localhost:8080/",
          "height": 1000
        },
        "id": "ZhSHwrBJ3ZnY",
        "outputId": "e4bc3f7a-da23-4007-f495-393a24c18747"
      },
      "execution_count": 62,
      "outputs": [
        {
          "output_type": "execute_result",
          "data": {
            "text/plain": [
              "         genus          name  id           family             order  \\\n",
              "0        Malus         Apple   6         Rosaceae           Rosales   \n",
              "1       Prunus       Apricot  35         Rosaceae           Rosales   \n",
              "2         Musa        Banana   1         Musaceae      Zingiberales   \n",
              "3        Rubus    Blackberry  64         Rosaceae           Rosales   \n",
              "4     Fragaria     Blueberry  33         Rosaceae           Rosales   \n",
              "5       Prunus        Cherry   9         Rosaceae              None   \n",
              "6        Durio        Durian  60        Malvaceae          Malvales   \n",
              "7        Ficus           Fig  68         Moraceae           Rosales   \n",
              "8        Ribes    Gooseberry  69  Grossulariaceae      Saxifragales   \n",
              "9        Vitis        Grapes  47         Vitaceae           Vitales   \n",
              "10       Malus    GreenApple  72         Rosaceae           Rosales   \n",
              "11     Psidium         Guava  37        Myrtaceae          Myrtales   \n",
              "12     Apteryx          Kiwi  66    Actinidiaceae  Struthioniformes   \n",
              "13      Citrus         Lemon  26         Rutaceae        Sapindales   \n",
              "14      Citrus          Lime  44         Rutaceae        Sapindales   \n",
              "15   Vaccinium   Lingonberry  65        Ericaceae          Ericales   \n",
              "16      Litchi        Lychee  67      Sapindaceae        Sapindales   \n",
              "17   Mangifera         Mango  27    Anacardiaceae        Sapindales   \n",
              "18     Cucumis         Melon  41    Cucurbitaceae     Cucurbitaceae   \n",
              "19      Citrus        Orange   2         Rutaceae        Sapindales   \n",
              "20      Carica        Papaya  42       Caricaceae         Caricacea   \n",
              "21  Passiflora  Passionfruit  70   Passifloraceae      Malpighiales   \n",
              "22       Pyrus          Pear   4         Rosaceae           Rosales   \n",
              "23   Diospyros     Persimmon  52        Ebenaceae           Rosales   \n",
              "24      Ananas     Pineapple  10     Bromeliaceae            Poales   \n",
              "25      Prunus          Plum  71         Rosaceae           Rosales   \n",
              "26       Rubus     Raspberry  23         Rosaceae           Rosales   \n",
              "27    Fragaria    Strawberry   3         Rosaceae           Rosales   \n",
              "28     Solanum        Tomato   5       Solanaceae         Solanales   \n",
              "29    Spondias          Umbu  73    Anacardiaceae                 0   \n",
              "30   Citrullus    Watermelon  25    Cucurbitaceae      Cucurbitales   \n",
              "\n",
              "                                           nutritions  \n",
              "0   {'carbohydrates': 11.4, 'protein': 0.3, 'fat':...  \n",
              "1   {'carbohydrates': 3.9, 'protein': 0.5, 'fat': ...  \n",
              "2   {'carbohydrates': 22, 'protein': 1, 'fat': 0.2...  \n",
              "3   {'carbohydrates': 9, 'protein': 1.3, 'fat': 0....  \n",
              "4   {'carbohydrates': 5.5, 'protein': 0, 'fat': 0....  \n",
              "5   {'carbohydrates': 12, 'protein': 1, 'fat': 0.3...  \n",
              "6   {'carbohydrates': 27.1, 'protein': 1.5, 'fat':...  \n",
              "7   {'carbohydrates': 19, 'protein': 0.8, 'fat': 0...  \n",
              "8   {'carbohydrates': 10, 'protein': 0.9, 'fat': 0...  \n",
              "9   {'carbohydrates': 18.1, 'protein': 0.72, 'fat'...  \n",
              "10  {'carbohydrates': 3.1, 'protein': 0.4, 'fat': ...  \n",
              "11  {'carbohydrates': 14, 'protein': 2.6, 'fat': 1...  \n",
              "12  {'carbohydrates': 15, 'protein': 1.1, 'fat': 0...  \n",
              "13  {'carbohydrates': 9, 'protein': 1.1, 'fat': 0....  \n",
              "14  {'carbohydrates': 8.4, 'protein': 0.3, 'fat': ...  \n",
              "15  {'carbohydrates': 11.3, 'protein': 0.75, 'fat'...  \n",
              "16  {'carbohydrates': 17, 'protein': 0.8, 'fat': 0...  \n",
              "17  {'carbohydrates': 15, 'protein': 0.82, 'fat': ...  \n",
              "18  {'carbohydrates': 8, 'protein': 0, 'fat': 0, '...  \n",
              "19  {'carbohydrates': 8.3, 'protein': 1, 'fat': 0....  \n",
              "20  {'carbohydrates': 11, 'protein': 0, 'fat': 0.4...  \n",
              "21  {'carbohydrates': 22.4, 'protein': 2.2, 'fat':...  \n",
              "22  {'carbohydrates': 15, 'protein': 0.4, 'fat': 0...  \n",
              "23  {'carbohydrates': 18, 'protein': 0, 'fat': 0, ...  \n",
              "24  {'carbohydrates': 13.12, 'protein': 0.54, 'fat...  \n",
              "25  {'carbohydrates': 11.4, 'protein': 0.7, 'fat':...  \n",
              "26  {'carbohydrates': 12, 'protein': 1.2, 'fat': 0...  \n",
              "27  {'carbohydrates': 5.5, 'protein': 0.8, 'fat': ...  \n",
              "28  {'carbohydrates': 3.9, 'protein': 0.9, 'fat': ...  \n",
              "29  {'carbohydrates': 0, 'protein': 0, 'fat': 0, '...  \n",
              "30  {'carbohydrates': 8, 'protein': 0.6, 'fat': 0....  "
            ],
            "text/html": [
              "\n",
              "  <div id=\"df-be540347-79b8-4453-a768-ad8f2e13cd51\">\n",
              "    <div class=\"colab-df-container\">\n",
              "      <div>\n",
              "<style scoped>\n",
              "    .dataframe tbody tr th:only-of-type {\n",
              "        vertical-align: middle;\n",
              "    }\n",
              "\n",
              "    .dataframe tbody tr th {\n",
              "        vertical-align: top;\n",
              "    }\n",
              "\n",
              "    .dataframe thead th {\n",
              "        text-align: right;\n",
              "    }\n",
              "</style>\n",
              "<table border=\"1\" class=\"dataframe\">\n",
              "  <thead>\n",
              "    <tr style=\"text-align: right;\">\n",
              "      <th></th>\n",
              "      <th>genus</th>\n",
              "      <th>name</th>\n",
              "      <th>id</th>\n",
              "      <th>family</th>\n",
              "      <th>order</th>\n",
              "      <th>nutritions</th>\n",
              "    </tr>\n",
              "  </thead>\n",
              "  <tbody>\n",
              "    <tr>\n",
              "      <th>0</th>\n",
              "      <td>Malus</td>\n",
              "      <td>Apple</td>\n",
              "      <td>6</td>\n",
              "      <td>Rosaceae</td>\n",
              "      <td>Rosales</td>\n",
              "      <td>{'carbohydrates': 11.4, 'protein': 0.3, 'fat':...</td>\n",
              "    </tr>\n",
              "    <tr>\n",
              "      <th>1</th>\n",
              "      <td>Prunus</td>\n",
              "      <td>Apricot</td>\n",
              "      <td>35</td>\n",
              "      <td>Rosaceae</td>\n",
              "      <td>Rosales</td>\n",
              "      <td>{'carbohydrates': 3.9, 'protein': 0.5, 'fat': ...</td>\n",
              "    </tr>\n",
              "    <tr>\n",
              "      <th>2</th>\n",
              "      <td>Musa</td>\n",
              "      <td>Banana</td>\n",
              "      <td>1</td>\n",
              "      <td>Musaceae</td>\n",
              "      <td>Zingiberales</td>\n",
              "      <td>{'carbohydrates': 22, 'protein': 1, 'fat': 0.2...</td>\n",
              "    </tr>\n",
              "    <tr>\n",
              "      <th>3</th>\n",
              "      <td>Rubus</td>\n",
              "      <td>Blackberry</td>\n",
              "      <td>64</td>\n",
              "      <td>Rosaceae</td>\n",
              "      <td>Rosales</td>\n",
              "      <td>{'carbohydrates': 9, 'protein': 1.3, 'fat': 0....</td>\n",
              "    </tr>\n",
              "    <tr>\n",
              "      <th>4</th>\n",
              "      <td>Fragaria</td>\n",
              "      <td>Blueberry</td>\n",
              "      <td>33</td>\n",
              "      <td>Rosaceae</td>\n",
              "      <td>Rosales</td>\n",
              "      <td>{'carbohydrates': 5.5, 'protein': 0, 'fat': 0....</td>\n",
              "    </tr>\n",
              "    <tr>\n",
              "      <th>5</th>\n",
              "      <td>Prunus</td>\n",
              "      <td>Cherry</td>\n",
              "      <td>9</td>\n",
              "      <td>Rosaceae</td>\n",
              "      <td>None</td>\n",
              "      <td>{'carbohydrates': 12, 'protein': 1, 'fat': 0.3...</td>\n",
              "    </tr>\n",
              "    <tr>\n",
              "      <th>6</th>\n",
              "      <td>Durio</td>\n",
              "      <td>Durian</td>\n",
              "      <td>60</td>\n",
              "      <td>Malvaceae</td>\n",
              "      <td>Malvales</td>\n",
              "      <td>{'carbohydrates': 27.1, 'protein': 1.5, 'fat':...</td>\n",
              "    </tr>\n",
              "    <tr>\n",
              "      <th>7</th>\n",
              "      <td>Ficus</td>\n",
              "      <td>Fig</td>\n",
              "      <td>68</td>\n",
              "      <td>Moraceae</td>\n",
              "      <td>Rosales</td>\n",
              "      <td>{'carbohydrates': 19, 'protein': 0.8, 'fat': 0...</td>\n",
              "    </tr>\n",
              "    <tr>\n",
              "      <th>8</th>\n",
              "      <td>Ribes</td>\n",
              "      <td>Gooseberry</td>\n",
              "      <td>69</td>\n",
              "      <td>Grossulariaceae</td>\n",
              "      <td>Saxifragales</td>\n",
              "      <td>{'carbohydrates': 10, 'protein': 0.9, 'fat': 0...</td>\n",
              "    </tr>\n",
              "    <tr>\n",
              "      <th>9</th>\n",
              "      <td>Vitis</td>\n",
              "      <td>Grapes</td>\n",
              "      <td>47</td>\n",
              "      <td>Vitaceae</td>\n",
              "      <td>Vitales</td>\n",
              "      <td>{'carbohydrates': 18.1, 'protein': 0.72, 'fat'...</td>\n",
              "    </tr>\n",
              "    <tr>\n",
              "      <th>10</th>\n",
              "      <td>Malus</td>\n",
              "      <td>GreenApple</td>\n",
              "      <td>72</td>\n",
              "      <td>Rosaceae</td>\n",
              "      <td>Rosales</td>\n",
              "      <td>{'carbohydrates': 3.1, 'protein': 0.4, 'fat': ...</td>\n",
              "    </tr>\n",
              "    <tr>\n",
              "      <th>11</th>\n",
              "      <td>Psidium</td>\n",
              "      <td>Guava</td>\n",
              "      <td>37</td>\n",
              "      <td>Myrtaceae</td>\n",
              "      <td>Myrtales</td>\n",
              "      <td>{'carbohydrates': 14, 'protein': 2.6, 'fat': 1...</td>\n",
              "    </tr>\n",
              "    <tr>\n",
              "      <th>12</th>\n",
              "      <td>Apteryx</td>\n",
              "      <td>Kiwi</td>\n",
              "      <td>66</td>\n",
              "      <td>Actinidiaceae</td>\n",
              "      <td>Struthioniformes</td>\n",
              "      <td>{'carbohydrates': 15, 'protein': 1.1, 'fat': 0...</td>\n",
              "    </tr>\n",
              "    <tr>\n",
              "      <th>13</th>\n",
              "      <td>Citrus</td>\n",
              "      <td>Lemon</td>\n",
              "      <td>26</td>\n",
              "      <td>Rutaceae</td>\n",
              "      <td>Sapindales</td>\n",
              "      <td>{'carbohydrates': 9, 'protein': 1.1, 'fat': 0....</td>\n",
              "    </tr>\n",
              "    <tr>\n",
              "      <th>14</th>\n",
              "      <td>Citrus</td>\n",
              "      <td>Lime</td>\n",
              "      <td>44</td>\n",
              "      <td>Rutaceae</td>\n",
              "      <td>Sapindales</td>\n",
              "      <td>{'carbohydrates': 8.4, 'protein': 0.3, 'fat': ...</td>\n",
              "    </tr>\n",
              "    <tr>\n",
              "      <th>15</th>\n",
              "      <td>Vaccinium</td>\n",
              "      <td>Lingonberry</td>\n",
              "      <td>65</td>\n",
              "      <td>Ericaceae</td>\n",
              "      <td>Ericales</td>\n",
              "      <td>{'carbohydrates': 11.3, 'protein': 0.75, 'fat'...</td>\n",
              "    </tr>\n",
              "    <tr>\n",
              "      <th>16</th>\n",
              "      <td>Litchi</td>\n",
              "      <td>Lychee</td>\n",
              "      <td>67</td>\n",
              "      <td>Sapindaceae</td>\n",
              "      <td>Sapindales</td>\n",
              "      <td>{'carbohydrates': 17, 'protein': 0.8, 'fat': 0...</td>\n",
              "    </tr>\n",
              "    <tr>\n",
              "      <th>17</th>\n",
              "      <td>Mangifera</td>\n",
              "      <td>Mango</td>\n",
              "      <td>27</td>\n",
              "      <td>Anacardiaceae</td>\n",
              "      <td>Sapindales</td>\n",
              "      <td>{'carbohydrates': 15, 'protein': 0.82, 'fat': ...</td>\n",
              "    </tr>\n",
              "    <tr>\n",
              "      <th>18</th>\n",
              "      <td>Cucumis</td>\n",
              "      <td>Melon</td>\n",
              "      <td>41</td>\n",
              "      <td>Cucurbitaceae</td>\n",
              "      <td>Cucurbitaceae</td>\n",
              "      <td>{'carbohydrates': 8, 'protein': 0, 'fat': 0, '...</td>\n",
              "    </tr>\n",
              "    <tr>\n",
              "      <th>19</th>\n",
              "      <td>Citrus</td>\n",
              "      <td>Orange</td>\n",
              "      <td>2</td>\n",
              "      <td>Rutaceae</td>\n",
              "      <td>Sapindales</td>\n",
              "      <td>{'carbohydrates': 8.3, 'protein': 1, 'fat': 0....</td>\n",
              "    </tr>\n",
              "    <tr>\n",
              "      <th>20</th>\n",
              "      <td>Carica</td>\n",
              "      <td>Papaya</td>\n",
              "      <td>42</td>\n",
              "      <td>Caricaceae</td>\n",
              "      <td>Caricacea</td>\n",
              "      <td>{'carbohydrates': 11, 'protein': 0, 'fat': 0.4...</td>\n",
              "    </tr>\n",
              "    <tr>\n",
              "      <th>21</th>\n",
              "      <td>Passiflora</td>\n",
              "      <td>Passionfruit</td>\n",
              "      <td>70</td>\n",
              "      <td>Passifloraceae</td>\n",
              "      <td>Malpighiales</td>\n",
              "      <td>{'carbohydrates': 22.4, 'protein': 2.2, 'fat':...</td>\n",
              "    </tr>\n",
              "    <tr>\n",
              "      <th>22</th>\n",
              "      <td>Pyrus</td>\n",
              "      <td>Pear</td>\n",
              "      <td>4</td>\n",
              "      <td>Rosaceae</td>\n",
              "      <td>Rosales</td>\n",
              "      <td>{'carbohydrates': 15, 'protein': 0.4, 'fat': 0...</td>\n",
              "    </tr>\n",
              "    <tr>\n",
              "      <th>23</th>\n",
              "      <td>Diospyros</td>\n",
              "      <td>Persimmon</td>\n",
              "      <td>52</td>\n",
              "      <td>Ebenaceae</td>\n",
              "      <td>Rosales</td>\n",
              "      <td>{'carbohydrates': 18, 'protein': 0, 'fat': 0, ...</td>\n",
              "    </tr>\n",
              "    <tr>\n",
              "      <th>24</th>\n",
              "      <td>Ananas</td>\n",
              "      <td>Pineapple</td>\n",
              "      <td>10</td>\n",
              "      <td>Bromeliaceae</td>\n",
              "      <td>Poales</td>\n",
              "      <td>{'carbohydrates': 13.12, 'protein': 0.54, 'fat...</td>\n",
              "    </tr>\n",
              "    <tr>\n",
              "      <th>25</th>\n",
              "      <td>Prunus</td>\n",
              "      <td>Plum</td>\n",
              "      <td>71</td>\n",
              "      <td>Rosaceae</td>\n",
              "      <td>Rosales</td>\n",
              "      <td>{'carbohydrates': 11.4, 'protein': 0.7, 'fat':...</td>\n",
              "    </tr>\n",
              "    <tr>\n",
              "      <th>26</th>\n",
              "      <td>Rubus</td>\n",
              "      <td>Raspberry</td>\n",
              "      <td>23</td>\n",
              "      <td>Rosaceae</td>\n",
              "      <td>Rosales</td>\n",
              "      <td>{'carbohydrates': 12, 'protein': 1.2, 'fat': 0...</td>\n",
              "    </tr>\n",
              "    <tr>\n",
              "      <th>27</th>\n",
              "      <td>Fragaria</td>\n",
              "      <td>Strawberry</td>\n",
              "      <td>3</td>\n",
              "      <td>Rosaceae</td>\n",
              "      <td>Rosales</td>\n",
              "      <td>{'carbohydrates': 5.5, 'protein': 0.8, 'fat': ...</td>\n",
              "    </tr>\n",
              "    <tr>\n",
              "      <th>28</th>\n",
              "      <td>Solanum</td>\n",
              "      <td>Tomato</td>\n",
              "      <td>5</td>\n",
              "      <td>Solanaceae</td>\n",
              "      <td>Solanales</td>\n",
              "      <td>{'carbohydrates': 3.9, 'protein': 0.9, 'fat': ...</td>\n",
              "    </tr>\n",
              "    <tr>\n",
              "      <th>29</th>\n",
              "      <td>Spondias</td>\n",
              "      <td>Umbu</td>\n",
              "      <td>73</td>\n",
              "      <td>Anacardiaceae</td>\n",
              "      <td>0</td>\n",
              "      <td>{'carbohydrates': 0, 'protein': 0, 'fat': 0, '...</td>\n",
              "    </tr>\n",
              "    <tr>\n",
              "      <th>30</th>\n",
              "      <td>Citrullus</td>\n",
              "      <td>Watermelon</td>\n",
              "      <td>25</td>\n",
              "      <td>Cucurbitaceae</td>\n",
              "      <td>Cucurbitales</td>\n",
              "      <td>{'carbohydrates': 8, 'protein': 0.6, 'fat': 0....</td>\n",
              "    </tr>\n",
              "  </tbody>\n",
              "</table>\n",
              "</div>\n",
              "      <button class=\"colab-df-convert\" onclick=\"convertToInteractive('df-be540347-79b8-4453-a768-ad8f2e13cd51')\"\n",
              "              title=\"Convert this dataframe to an interactive table.\"\n",
              "              style=\"display:none;\">\n",
              "        \n",
              "  <svg xmlns=\"http://www.w3.org/2000/svg\" height=\"24px\"viewBox=\"0 0 24 24\"\n",
              "       width=\"24px\">\n",
              "    <path d=\"M0 0h24v24H0V0z\" fill=\"none\"/>\n",
              "    <path d=\"M18.56 5.44l.94 2.06.94-2.06 2.06-.94-2.06-.94-.94-2.06-.94 2.06-2.06.94zm-11 1L8.5 8.5l.94-2.06 2.06-.94-2.06-.94L8.5 2.5l-.94 2.06-2.06.94zm10 10l.94 2.06.94-2.06 2.06-.94-2.06-.94-.94-2.06-.94 2.06-2.06.94z\"/><path d=\"M17.41 7.96l-1.37-1.37c-.4-.4-.92-.59-1.43-.59-.52 0-1.04.2-1.43.59L10.3 9.45l-7.72 7.72c-.78.78-.78 2.05 0 2.83L4 21.41c.39.39.9.59 1.41.59.51 0 1.02-.2 1.41-.59l7.78-7.78 2.81-2.81c.8-.78.8-2.07 0-2.86zM5.41 20L4 18.59l7.72-7.72 1.47 1.35L5.41 20z\"/>\n",
              "  </svg>\n",
              "      </button>\n",
              "      \n",
              "  <style>\n",
              "    .colab-df-container {\n",
              "      display:flex;\n",
              "      flex-wrap:wrap;\n",
              "      gap: 12px;\n",
              "    }\n",
              "\n",
              "    .colab-df-convert {\n",
              "      background-color: #E8F0FE;\n",
              "      border: none;\n",
              "      border-radius: 50%;\n",
              "      cursor: pointer;\n",
              "      display: none;\n",
              "      fill: #1967D2;\n",
              "      height: 32px;\n",
              "      padding: 0 0 0 0;\n",
              "      width: 32px;\n",
              "    }\n",
              "\n",
              "    .colab-df-convert:hover {\n",
              "      background-color: #E2EBFA;\n",
              "      box-shadow: 0px 1px 2px rgba(60, 64, 67, 0.3), 0px 1px 3px 1px rgba(60, 64, 67, 0.15);\n",
              "      fill: #174EA6;\n",
              "    }\n",
              "\n",
              "    [theme=dark] .colab-df-convert {\n",
              "      background-color: #3B4455;\n",
              "      fill: #D2E3FC;\n",
              "    }\n",
              "\n",
              "    [theme=dark] .colab-df-convert:hover {\n",
              "      background-color: #434B5C;\n",
              "      box-shadow: 0px 1px 3px 1px rgba(0, 0, 0, 0.15);\n",
              "      filter: drop-shadow(0px 1px 2px rgba(0, 0, 0, 0.3));\n",
              "      fill: #FFFFFF;\n",
              "    }\n",
              "  </style>\n",
              "\n",
              "      <script>\n",
              "        const buttonEl =\n",
              "          document.querySelector('#df-be540347-79b8-4453-a768-ad8f2e13cd51 button.colab-df-convert');\n",
              "        buttonEl.style.display =\n",
              "          google.colab.kernel.accessAllowed ? 'block' : 'none';\n",
              "\n",
              "        async function convertToInteractive(key) {\n",
              "          const element = document.querySelector('#df-be540347-79b8-4453-a768-ad8f2e13cd51');\n",
              "          const dataTable =\n",
              "            await google.colab.kernel.invokeFunction('convertToInteractive',\n",
              "                                                     [key], {});\n",
              "          if (!dataTable) return;\n",
              "\n",
              "          const docLinkHtml = 'Like what you see? Visit the ' +\n",
              "            '<a target=\"_blank\" href=https://colab.research.google.com/notebooks/data_table.ipynb>data table notebook</a>'\n",
              "            + ' to learn more about interactive tables.';\n",
              "          element.innerHTML = '';\n",
              "          dataTable['output_type'] = 'display_data';\n",
              "          await google.colab.output.renderOutput(dataTable, element);\n",
              "          const docLink = document.createElement('div');\n",
              "          docLink.innerHTML = docLinkHtml;\n",
              "          element.appendChild(docLink);\n",
              "        }\n",
              "      </script>\n",
              "    </div>\n",
              "  </div>\n",
              "  "
            ]
          },
          "metadata": {},
          "execution_count": 62
        }
      ]
    },
    {
      "cell_type": "code",
      "source": [
        "#IMPORTANT!!!\n",
        "#The result is in a nested json format. The 'nutrition' column contains multiple subcolumns, so the data needs to be 'flattened' or normalized.\n",
        "df2 = pd.json_normalize(results)\n",
        "df2"
      ],
      "metadata": {
        "colab": {
          "base_uri": "https://localhost:8080/",
          "height": 1000
        },
        "id": "Vo8hYHlS3fuH",
        "outputId": "ad6c3b64-eeb2-4d13-d883-46a6fb0bfef4"
      },
      "execution_count": 63,
      "outputs": [
        {
          "output_type": "execute_result",
          "data": {
            "text/plain": [
              "         genus          name  id           family             order  \\\n",
              "0        Malus         Apple   6         Rosaceae           Rosales   \n",
              "1       Prunus       Apricot  35         Rosaceae           Rosales   \n",
              "2         Musa        Banana   1         Musaceae      Zingiberales   \n",
              "3        Rubus    Blackberry  64         Rosaceae           Rosales   \n",
              "4     Fragaria     Blueberry  33         Rosaceae           Rosales   \n",
              "5       Prunus        Cherry   9         Rosaceae              None   \n",
              "6        Durio        Durian  60        Malvaceae          Malvales   \n",
              "7        Ficus           Fig  68         Moraceae           Rosales   \n",
              "8        Ribes    Gooseberry  69  Grossulariaceae      Saxifragales   \n",
              "9        Vitis        Grapes  47         Vitaceae           Vitales   \n",
              "10       Malus    GreenApple  72         Rosaceae           Rosales   \n",
              "11     Psidium         Guava  37        Myrtaceae          Myrtales   \n",
              "12     Apteryx          Kiwi  66    Actinidiaceae  Struthioniformes   \n",
              "13      Citrus         Lemon  26         Rutaceae        Sapindales   \n",
              "14      Citrus          Lime  44         Rutaceae        Sapindales   \n",
              "15   Vaccinium   Lingonberry  65        Ericaceae          Ericales   \n",
              "16      Litchi        Lychee  67      Sapindaceae        Sapindales   \n",
              "17   Mangifera         Mango  27    Anacardiaceae        Sapindales   \n",
              "18     Cucumis         Melon  41    Cucurbitaceae     Cucurbitaceae   \n",
              "19      Citrus        Orange   2         Rutaceae        Sapindales   \n",
              "20      Carica        Papaya  42       Caricaceae         Caricacea   \n",
              "21  Passiflora  Passionfruit  70   Passifloraceae      Malpighiales   \n",
              "22       Pyrus          Pear   4         Rosaceae           Rosales   \n",
              "23   Diospyros     Persimmon  52        Ebenaceae           Rosales   \n",
              "24      Ananas     Pineapple  10     Bromeliaceae            Poales   \n",
              "25      Prunus          Plum  71         Rosaceae           Rosales   \n",
              "26       Rubus     Raspberry  23         Rosaceae           Rosales   \n",
              "27    Fragaria    Strawberry   3         Rosaceae           Rosales   \n",
              "28     Solanum        Tomato   5       Solanaceae         Solanales   \n",
              "29    Spondias          Umbu  73    Anacardiaceae                 0   \n",
              "30   Citrullus    Watermelon  25    Cucurbitaceae      Cucurbitales   \n",
              "\n",
              "    nutritions.carbohydrates  nutritions.protein  nutritions.fat  \\\n",
              "0                      11.40                0.30            0.40   \n",
              "1                       3.90                0.50            0.10   \n",
              "2                      22.00                1.00            0.20   \n",
              "3                       9.00                1.30            0.40   \n",
              "4                       5.50                0.00            0.40   \n",
              "5                      12.00                1.00            0.30   \n",
              "6                      27.10                1.50            5.30   \n",
              "7                      19.00                0.80            0.30   \n",
              "8                      10.00                0.90            0.60   \n",
              "9                      18.10                0.72            0.16   \n",
              "10                      3.10                0.40            0.10   \n",
              "11                     14.00                2.60            1.00   \n",
              "12                     15.00                1.10            0.50   \n",
              "13                      9.00                1.10            0.30   \n",
              "14                      8.40                0.30            0.10   \n",
              "15                     11.30                0.75            0.34   \n",
              "16                     17.00                0.80            0.44   \n",
              "17                     15.00                0.82            0.38   \n",
              "18                      8.00                0.00            0.00   \n",
              "19                      8.30                1.00            0.20   \n",
              "20                     11.00                0.00            0.40   \n",
              "21                     22.40                2.20            0.70   \n",
              "22                     15.00                0.40            0.10   \n",
              "23                     18.00                0.00            0.00   \n",
              "24                     13.12                0.54            0.12   \n",
              "25                     11.40                0.70            0.28   \n",
              "26                     12.00                1.20            0.70   \n",
              "27                      5.50                0.80            0.40   \n",
              "28                      3.90                0.90            0.20   \n",
              "29                      0.00                0.00            0.00   \n",
              "30                      8.00                0.60            0.20   \n",
              "\n",
              "    nutritions.calories  nutritions.sugar  \n",
              "0                    52             10.30  \n",
              "1                    15              3.20  \n",
              "2                    96             17.20  \n",
              "3                    40              4.50  \n",
              "4                    29              5.40  \n",
              "5                    50              8.00  \n",
              "6                   147              6.75  \n",
              "7                    74             16.00  \n",
              "8                    44              0.00  \n",
              "9                    69             15.48  \n",
              "10                   21              6.40  \n",
              "11                   68              9.00  \n",
              "12                   61              9.00  \n",
              "13                   29              2.50  \n",
              "14                   25              1.70  \n",
              "15                   50              5.74  \n",
              "16                   66             15.00  \n",
              "17                   60             13.70  \n",
              "18                   34              8.00  \n",
              "19                   43              8.20  \n",
              "20                   43              1.00  \n",
              "21                   97             11.20  \n",
              "22                   57             10.00  \n",
              "23                   81             18.00  \n",
              "24                   50              9.85  \n",
              "25                   46              9.92  \n",
              "26                   53              4.40  \n",
              "27                   29              5.40  \n",
              "28                   74              2.60  \n",
              "29                    0              0.00  \n",
              "30                   30              6.00  "
            ],
            "text/html": [
              "\n",
              "  <div id=\"df-b0721f69-88b2-427a-808f-a1a8625e96c0\">\n",
              "    <div class=\"colab-df-container\">\n",
              "      <div>\n",
              "<style scoped>\n",
              "    .dataframe tbody tr th:only-of-type {\n",
              "        vertical-align: middle;\n",
              "    }\n",
              "\n",
              "    .dataframe tbody tr th {\n",
              "        vertical-align: top;\n",
              "    }\n",
              "\n",
              "    .dataframe thead th {\n",
              "        text-align: right;\n",
              "    }\n",
              "</style>\n",
              "<table border=\"1\" class=\"dataframe\">\n",
              "  <thead>\n",
              "    <tr style=\"text-align: right;\">\n",
              "      <th></th>\n",
              "      <th>genus</th>\n",
              "      <th>name</th>\n",
              "      <th>id</th>\n",
              "      <th>family</th>\n",
              "      <th>order</th>\n",
              "      <th>nutritions.carbohydrates</th>\n",
              "      <th>nutritions.protein</th>\n",
              "      <th>nutritions.fat</th>\n",
              "      <th>nutritions.calories</th>\n",
              "      <th>nutritions.sugar</th>\n",
              "    </tr>\n",
              "  </thead>\n",
              "  <tbody>\n",
              "    <tr>\n",
              "      <th>0</th>\n",
              "      <td>Malus</td>\n",
              "      <td>Apple</td>\n",
              "      <td>6</td>\n",
              "      <td>Rosaceae</td>\n",
              "      <td>Rosales</td>\n",
              "      <td>11.40</td>\n",
              "      <td>0.30</td>\n",
              "      <td>0.40</td>\n",
              "      <td>52</td>\n",
              "      <td>10.30</td>\n",
              "    </tr>\n",
              "    <tr>\n",
              "      <th>1</th>\n",
              "      <td>Prunus</td>\n",
              "      <td>Apricot</td>\n",
              "      <td>35</td>\n",
              "      <td>Rosaceae</td>\n",
              "      <td>Rosales</td>\n",
              "      <td>3.90</td>\n",
              "      <td>0.50</td>\n",
              "      <td>0.10</td>\n",
              "      <td>15</td>\n",
              "      <td>3.20</td>\n",
              "    </tr>\n",
              "    <tr>\n",
              "      <th>2</th>\n",
              "      <td>Musa</td>\n",
              "      <td>Banana</td>\n",
              "      <td>1</td>\n",
              "      <td>Musaceae</td>\n",
              "      <td>Zingiberales</td>\n",
              "      <td>22.00</td>\n",
              "      <td>1.00</td>\n",
              "      <td>0.20</td>\n",
              "      <td>96</td>\n",
              "      <td>17.20</td>\n",
              "    </tr>\n",
              "    <tr>\n",
              "      <th>3</th>\n",
              "      <td>Rubus</td>\n",
              "      <td>Blackberry</td>\n",
              "      <td>64</td>\n",
              "      <td>Rosaceae</td>\n",
              "      <td>Rosales</td>\n",
              "      <td>9.00</td>\n",
              "      <td>1.30</td>\n",
              "      <td>0.40</td>\n",
              "      <td>40</td>\n",
              "      <td>4.50</td>\n",
              "    </tr>\n",
              "    <tr>\n",
              "      <th>4</th>\n",
              "      <td>Fragaria</td>\n",
              "      <td>Blueberry</td>\n",
              "      <td>33</td>\n",
              "      <td>Rosaceae</td>\n",
              "      <td>Rosales</td>\n",
              "      <td>5.50</td>\n",
              "      <td>0.00</td>\n",
              "      <td>0.40</td>\n",
              "      <td>29</td>\n",
              "      <td>5.40</td>\n",
              "    </tr>\n",
              "    <tr>\n",
              "      <th>5</th>\n",
              "      <td>Prunus</td>\n",
              "      <td>Cherry</td>\n",
              "      <td>9</td>\n",
              "      <td>Rosaceae</td>\n",
              "      <td>None</td>\n",
              "      <td>12.00</td>\n",
              "      <td>1.00</td>\n",
              "      <td>0.30</td>\n",
              "      <td>50</td>\n",
              "      <td>8.00</td>\n",
              "    </tr>\n",
              "    <tr>\n",
              "      <th>6</th>\n",
              "      <td>Durio</td>\n",
              "      <td>Durian</td>\n",
              "      <td>60</td>\n",
              "      <td>Malvaceae</td>\n",
              "      <td>Malvales</td>\n",
              "      <td>27.10</td>\n",
              "      <td>1.50</td>\n",
              "      <td>5.30</td>\n",
              "      <td>147</td>\n",
              "      <td>6.75</td>\n",
              "    </tr>\n",
              "    <tr>\n",
              "      <th>7</th>\n",
              "      <td>Ficus</td>\n",
              "      <td>Fig</td>\n",
              "      <td>68</td>\n",
              "      <td>Moraceae</td>\n",
              "      <td>Rosales</td>\n",
              "      <td>19.00</td>\n",
              "      <td>0.80</td>\n",
              "      <td>0.30</td>\n",
              "      <td>74</td>\n",
              "      <td>16.00</td>\n",
              "    </tr>\n",
              "    <tr>\n",
              "      <th>8</th>\n",
              "      <td>Ribes</td>\n",
              "      <td>Gooseberry</td>\n",
              "      <td>69</td>\n",
              "      <td>Grossulariaceae</td>\n",
              "      <td>Saxifragales</td>\n",
              "      <td>10.00</td>\n",
              "      <td>0.90</td>\n",
              "      <td>0.60</td>\n",
              "      <td>44</td>\n",
              "      <td>0.00</td>\n",
              "    </tr>\n",
              "    <tr>\n",
              "      <th>9</th>\n",
              "      <td>Vitis</td>\n",
              "      <td>Grapes</td>\n",
              "      <td>47</td>\n",
              "      <td>Vitaceae</td>\n",
              "      <td>Vitales</td>\n",
              "      <td>18.10</td>\n",
              "      <td>0.72</td>\n",
              "      <td>0.16</td>\n",
              "      <td>69</td>\n",
              "      <td>15.48</td>\n",
              "    </tr>\n",
              "    <tr>\n",
              "      <th>10</th>\n",
              "      <td>Malus</td>\n",
              "      <td>GreenApple</td>\n",
              "      <td>72</td>\n",
              "      <td>Rosaceae</td>\n",
              "      <td>Rosales</td>\n",
              "      <td>3.10</td>\n",
              "      <td>0.40</td>\n",
              "      <td>0.10</td>\n",
              "      <td>21</td>\n",
              "      <td>6.40</td>\n",
              "    </tr>\n",
              "    <tr>\n",
              "      <th>11</th>\n",
              "      <td>Psidium</td>\n",
              "      <td>Guava</td>\n",
              "      <td>37</td>\n",
              "      <td>Myrtaceae</td>\n",
              "      <td>Myrtales</td>\n",
              "      <td>14.00</td>\n",
              "      <td>2.60</td>\n",
              "      <td>1.00</td>\n",
              "      <td>68</td>\n",
              "      <td>9.00</td>\n",
              "    </tr>\n",
              "    <tr>\n",
              "      <th>12</th>\n",
              "      <td>Apteryx</td>\n",
              "      <td>Kiwi</td>\n",
              "      <td>66</td>\n",
              "      <td>Actinidiaceae</td>\n",
              "      <td>Struthioniformes</td>\n",
              "      <td>15.00</td>\n",
              "      <td>1.10</td>\n",
              "      <td>0.50</td>\n",
              "      <td>61</td>\n",
              "      <td>9.00</td>\n",
              "    </tr>\n",
              "    <tr>\n",
              "      <th>13</th>\n",
              "      <td>Citrus</td>\n",
              "      <td>Lemon</td>\n",
              "      <td>26</td>\n",
              "      <td>Rutaceae</td>\n",
              "      <td>Sapindales</td>\n",
              "      <td>9.00</td>\n",
              "      <td>1.10</td>\n",
              "      <td>0.30</td>\n",
              "      <td>29</td>\n",
              "      <td>2.50</td>\n",
              "    </tr>\n",
              "    <tr>\n",
              "      <th>14</th>\n",
              "      <td>Citrus</td>\n",
              "      <td>Lime</td>\n",
              "      <td>44</td>\n",
              "      <td>Rutaceae</td>\n",
              "      <td>Sapindales</td>\n",
              "      <td>8.40</td>\n",
              "      <td>0.30</td>\n",
              "      <td>0.10</td>\n",
              "      <td>25</td>\n",
              "      <td>1.70</td>\n",
              "    </tr>\n",
              "    <tr>\n",
              "      <th>15</th>\n",
              "      <td>Vaccinium</td>\n",
              "      <td>Lingonberry</td>\n",
              "      <td>65</td>\n",
              "      <td>Ericaceae</td>\n",
              "      <td>Ericales</td>\n",
              "      <td>11.30</td>\n",
              "      <td>0.75</td>\n",
              "      <td>0.34</td>\n",
              "      <td>50</td>\n",
              "      <td>5.74</td>\n",
              "    </tr>\n",
              "    <tr>\n",
              "      <th>16</th>\n",
              "      <td>Litchi</td>\n",
              "      <td>Lychee</td>\n",
              "      <td>67</td>\n",
              "      <td>Sapindaceae</td>\n",
              "      <td>Sapindales</td>\n",
              "      <td>17.00</td>\n",
              "      <td>0.80</td>\n",
              "      <td>0.44</td>\n",
              "      <td>66</td>\n",
              "      <td>15.00</td>\n",
              "    </tr>\n",
              "    <tr>\n",
              "      <th>17</th>\n",
              "      <td>Mangifera</td>\n",
              "      <td>Mango</td>\n",
              "      <td>27</td>\n",
              "      <td>Anacardiaceae</td>\n",
              "      <td>Sapindales</td>\n",
              "      <td>15.00</td>\n",
              "      <td>0.82</td>\n",
              "      <td>0.38</td>\n",
              "      <td>60</td>\n",
              "      <td>13.70</td>\n",
              "    </tr>\n",
              "    <tr>\n",
              "      <th>18</th>\n",
              "      <td>Cucumis</td>\n",
              "      <td>Melon</td>\n",
              "      <td>41</td>\n",
              "      <td>Cucurbitaceae</td>\n",
              "      <td>Cucurbitaceae</td>\n",
              "      <td>8.00</td>\n",
              "      <td>0.00</td>\n",
              "      <td>0.00</td>\n",
              "      <td>34</td>\n",
              "      <td>8.00</td>\n",
              "    </tr>\n",
              "    <tr>\n",
              "      <th>19</th>\n",
              "      <td>Citrus</td>\n",
              "      <td>Orange</td>\n",
              "      <td>2</td>\n",
              "      <td>Rutaceae</td>\n",
              "      <td>Sapindales</td>\n",
              "      <td>8.30</td>\n",
              "      <td>1.00</td>\n",
              "      <td>0.20</td>\n",
              "      <td>43</td>\n",
              "      <td>8.20</td>\n",
              "    </tr>\n",
              "    <tr>\n",
              "      <th>20</th>\n",
              "      <td>Carica</td>\n",
              "      <td>Papaya</td>\n",
              "      <td>42</td>\n",
              "      <td>Caricaceae</td>\n",
              "      <td>Caricacea</td>\n",
              "      <td>11.00</td>\n",
              "      <td>0.00</td>\n",
              "      <td>0.40</td>\n",
              "      <td>43</td>\n",
              "      <td>1.00</td>\n",
              "    </tr>\n",
              "    <tr>\n",
              "      <th>21</th>\n",
              "      <td>Passiflora</td>\n",
              "      <td>Passionfruit</td>\n",
              "      <td>70</td>\n",
              "      <td>Passifloraceae</td>\n",
              "      <td>Malpighiales</td>\n",
              "      <td>22.40</td>\n",
              "      <td>2.20</td>\n",
              "      <td>0.70</td>\n",
              "      <td>97</td>\n",
              "      <td>11.20</td>\n",
              "    </tr>\n",
              "    <tr>\n",
              "      <th>22</th>\n",
              "      <td>Pyrus</td>\n",
              "      <td>Pear</td>\n",
              "      <td>4</td>\n",
              "      <td>Rosaceae</td>\n",
              "      <td>Rosales</td>\n",
              "      <td>15.00</td>\n",
              "      <td>0.40</td>\n",
              "      <td>0.10</td>\n",
              "      <td>57</td>\n",
              "      <td>10.00</td>\n",
              "    </tr>\n",
              "    <tr>\n",
              "      <th>23</th>\n",
              "      <td>Diospyros</td>\n",
              "      <td>Persimmon</td>\n",
              "      <td>52</td>\n",
              "      <td>Ebenaceae</td>\n",
              "      <td>Rosales</td>\n",
              "      <td>18.00</td>\n",
              "      <td>0.00</td>\n",
              "      <td>0.00</td>\n",
              "      <td>81</td>\n",
              "      <td>18.00</td>\n",
              "    </tr>\n",
              "    <tr>\n",
              "      <th>24</th>\n",
              "      <td>Ananas</td>\n",
              "      <td>Pineapple</td>\n",
              "      <td>10</td>\n",
              "      <td>Bromeliaceae</td>\n",
              "      <td>Poales</td>\n",
              "      <td>13.12</td>\n",
              "      <td>0.54</td>\n",
              "      <td>0.12</td>\n",
              "      <td>50</td>\n",
              "      <td>9.85</td>\n",
              "    </tr>\n",
              "    <tr>\n",
              "      <th>25</th>\n",
              "      <td>Prunus</td>\n",
              "      <td>Plum</td>\n",
              "      <td>71</td>\n",
              "      <td>Rosaceae</td>\n",
              "      <td>Rosales</td>\n",
              "      <td>11.40</td>\n",
              "      <td>0.70</td>\n",
              "      <td>0.28</td>\n",
              "      <td>46</td>\n",
              "      <td>9.92</td>\n",
              "    </tr>\n",
              "    <tr>\n",
              "      <th>26</th>\n",
              "      <td>Rubus</td>\n",
              "      <td>Raspberry</td>\n",
              "      <td>23</td>\n",
              "      <td>Rosaceae</td>\n",
              "      <td>Rosales</td>\n",
              "      <td>12.00</td>\n",
              "      <td>1.20</td>\n",
              "      <td>0.70</td>\n",
              "      <td>53</td>\n",
              "      <td>4.40</td>\n",
              "    </tr>\n",
              "    <tr>\n",
              "      <th>27</th>\n",
              "      <td>Fragaria</td>\n",
              "      <td>Strawberry</td>\n",
              "      <td>3</td>\n",
              "      <td>Rosaceae</td>\n",
              "      <td>Rosales</td>\n",
              "      <td>5.50</td>\n",
              "      <td>0.80</td>\n",
              "      <td>0.40</td>\n",
              "      <td>29</td>\n",
              "      <td>5.40</td>\n",
              "    </tr>\n",
              "    <tr>\n",
              "      <th>28</th>\n",
              "      <td>Solanum</td>\n",
              "      <td>Tomato</td>\n",
              "      <td>5</td>\n",
              "      <td>Solanaceae</td>\n",
              "      <td>Solanales</td>\n",
              "      <td>3.90</td>\n",
              "      <td>0.90</td>\n",
              "      <td>0.20</td>\n",
              "      <td>74</td>\n",
              "      <td>2.60</td>\n",
              "    </tr>\n",
              "    <tr>\n",
              "      <th>29</th>\n",
              "      <td>Spondias</td>\n",
              "      <td>Umbu</td>\n",
              "      <td>73</td>\n",
              "      <td>Anacardiaceae</td>\n",
              "      <td>0</td>\n",
              "      <td>0.00</td>\n",
              "      <td>0.00</td>\n",
              "      <td>0.00</td>\n",
              "      <td>0</td>\n",
              "      <td>0.00</td>\n",
              "    </tr>\n",
              "    <tr>\n",
              "      <th>30</th>\n",
              "      <td>Citrullus</td>\n",
              "      <td>Watermelon</td>\n",
              "      <td>25</td>\n",
              "      <td>Cucurbitaceae</td>\n",
              "      <td>Cucurbitales</td>\n",
              "      <td>8.00</td>\n",
              "      <td>0.60</td>\n",
              "      <td>0.20</td>\n",
              "      <td>30</td>\n",
              "      <td>6.00</td>\n",
              "    </tr>\n",
              "  </tbody>\n",
              "</table>\n",
              "</div>\n",
              "      <button class=\"colab-df-convert\" onclick=\"convertToInteractive('df-b0721f69-88b2-427a-808f-a1a8625e96c0')\"\n",
              "              title=\"Convert this dataframe to an interactive table.\"\n",
              "              style=\"display:none;\">\n",
              "        \n",
              "  <svg xmlns=\"http://www.w3.org/2000/svg\" height=\"24px\"viewBox=\"0 0 24 24\"\n",
              "       width=\"24px\">\n",
              "    <path d=\"M0 0h24v24H0V0z\" fill=\"none\"/>\n",
              "    <path d=\"M18.56 5.44l.94 2.06.94-2.06 2.06-.94-2.06-.94-.94-2.06-.94 2.06-2.06.94zm-11 1L8.5 8.5l.94-2.06 2.06-.94-2.06-.94L8.5 2.5l-.94 2.06-2.06.94zm10 10l.94 2.06.94-2.06 2.06-.94-2.06-.94-.94-2.06-.94 2.06-2.06.94z\"/><path d=\"M17.41 7.96l-1.37-1.37c-.4-.4-.92-.59-1.43-.59-.52 0-1.04.2-1.43.59L10.3 9.45l-7.72 7.72c-.78.78-.78 2.05 0 2.83L4 21.41c.39.39.9.59 1.41.59.51 0 1.02-.2 1.41-.59l7.78-7.78 2.81-2.81c.8-.78.8-2.07 0-2.86zM5.41 20L4 18.59l7.72-7.72 1.47 1.35L5.41 20z\"/>\n",
              "  </svg>\n",
              "      </button>\n",
              "      \n",
              "  <style>\n",
              "    .colab-df-container {\n",
              "      display:flex;\n",
              "      flex-wrap:wrap;\n",
              "      gap: 12px;\n",
              "    }\n",
              "\n",
              "    .colab-df-convert {\n",
              "      background-color: #E8F0FE;\n",
              "      border: none;\n",
              "      border-radius: 50%;\n",
              "      cursor: pointer;\n",
              "      display: none;\n",
              "      fill: #1967D2;\n",
              "      height: 32px;\n",
              "      padding: 0 0 0 0;\n",
              "      width: 32px;\n",
              "    }\n",
              "\n",
              "    .colab-df-convert:hover {\n",
              "      background-color: #E2EBFA;\n",
              "      box-shadow: 0px 1px 2px rgba(60, 64, 67, 0.3), 0px 1px 3px 1px rgba(60, 64, 67, 0.15);\n",
              "      fill: #174EA6;\n",
              "    }\n",
              "\n",
              "    [theme=dark] .colab-df-convert {\n",
              "      background-color: #3B4455;\n",
              "      fill: #D2E3FC;\n",
              "    }\n",
              "\n",
              "    [theme=dark] .colab-df-convert:hover {\n",
              "      background-color: #434B5C;\n",
              "      box-shadow: 0px 1px 3px 1px rgba(0, 0, 0, 0.15);\n",
              "      filter: drop-shadow(0px 1px 2px rgba(0, 0, 0, 0.3));\n",
              "      fill: #FFFFFF;\n",
              "    }\n",
              "  </style>\n",
              "\n",
              "      <script>\n",
              "        const buttonEl =\n",
              "          document.querySelector('#df-b0721f69-88b2-427a-808f-a1a8625e96c0 button.colab-df-convert');\n",
              "        buttonEl.style.display =\n",
              "          google.colab.kernel.accessAllowed ? 'block' : 'none';\n",
              "\n",
              "        async function convertToInteractive(key) {\n",
              "          const element = document.querySelector('#df-b0721f69-88b2-427a-808f-a1a8625e96c0');\n",
              "          const dataTable =\n",
              "            await google.colab.kernel.invokeFunction('convertToInteractive',\n",
              "                                                     [key], {});\n",
              "          if (!dataTable) return;\n",
              "\n",
              "          const docLinkHtml = 'Like what you see? Visit the ' +\n",
              "            '<a target=\"_blank\" href=https://colab.research.google.com/notebooks/data_table.ipynb>data table notebook</a>'\n",
              "            + ' to learn more about interactive tables.';\n",
              "          element.innerHTML = '';\n",
              "          dataTable['output_type'] = 'display_data';\n",
              "          await google.colab.output.renderOutput(dataTable, element);\n",
              "          const docLink = document.createElement('div');\n",
              "          docLink.innerHTML = docLinkHtml;\n",
              "          element.appendChild(docLink);\n",
              "        }\n",
              "      </script>\n",
              "    </div>\n",
              "  </div>\n",
              "  "
            ]
          },
          "metadata": {},
          "execution_count": 63
        }
      ]
    },
    {
      "cell_type": "code",
      "source": [
        "#Let's see if we can extract some information from this dataframe. Perhaps, we need to know the family and genus of a cherry.\n",
        "cherry = df2.loc[df2[\"name\"] == 'Cherry']\n",
        "print(cherry)\n"
      ],
      "metadata": {
        "colab": {
          "base_uri": "https://localhost:8080/"
        },
        "id": "KDTcrIeA3rd7",
        "outputId": "54ac2611-9414-4296-cefc-f8258fa9258a"
      },
      "execution_count": 64,
      "outputs": [
        {
          "output_type": "stream",
          "name": "stdout",
          "text": [
            "    genus    name  id    family order  nutritions.carbohydrates  \\\n",
            "5  Prunus  Cherry   9  Rosaceae  None                      12.0   \n",
            "\n",
            "   nutritions.protein  nutritions.fat  nutritions.calories  nutritions.sugar  \n",
            "5                 1.0             0.3                   50               8.0  \n"
          ]
        }
      ]
    },
    {
      "cell_type": "code",
      "source": [
        "(cherry.iloc[0]['family']) , (cherry.iloc[0]['genus'])"
      ],
      "metadata": {
        "colab": {
          "base_uri": "https://localhost:8080/"
        },
        "id": "VPVLe4gW39UH",
        "outputId": "b1036bb5-3db1-4d59-e8a5-e43eac5f95e6"
      },
      "execution_count": 65,
      "outputs": [
        {
          "output_type": "execute_result",
          "data": {
            "text/plain": [
              "('Rosaceae', 'Prunus')"
            ]
          },
          "metadata": {},
          "execution_count": 65
        }
      ]
    },
    {
      "cell_type": "code",
      "source": [
        "#exercise\n",
        "#In this Exercise, find out how many calories are contained in a banana.\n",
        "banana =  df2.loc[df2[\"name\"] == 'Banana']\n",
        "banana.iloc[0]['nutritions.calories']"
      ],
      "metadata": {
        "colab": {
          "base_uri": "https://localhost:8080/"
        },
        "id": "-_k7xLtk4OIO",
        "outputId": "eeb5ed09-a7b9-4057-fc11-e9b3e67cf9a4"
      },
      "execution_count": 66,
      "outputs": [
        {
          "output_type": "execute_result",
          "data": {
            "text/plain": [
              "96"
            ]
          },
          "metadata": {},
          "execution_count": 66
        }
      ]
    },
    {
      "cell_type": "code",
      "source": [
        "#excersice 2\n",
        "urlcats = \"https://cat-fact.herokuapp.com/facts\"\n",
        "catfacts = requests.get(url)"
      ],
      "metadata": {
        "id": "K1iuzg584q6i"
      },
      "execution_count": 67,
      "outputs": []
    },
    {
      "cell_type": "code",
      "source": [
        "catfacts"
      ],
      "metadata": {
        "colab": {
          "base_uri": "https://localhost:8080/"
        },
        "id": "0c4O70qd5kej",
        "outputId": "0572487e-ba98-473e-d02a-22120894ef70"
      },
      "execution_count": 68,
      "outputs": [
        {
          "output_type": "execute_result",
          "data": {
            "text/plain": [
              "<Response [200]>"
            ]
          },
          "metadata": {},
          "execution_count": 68
        }
      ]
    },
    {
      "cell_type": "code",
      "source": [
        "catfacts.text"
      ],
      "metadata": {
        "colab": {
          "base_uri": "https://localhost:8080/",
          "height": 37
        },
        "id": "x_r5talI5mq_",
        "outputId": "731ed83e-77ca-494e-f4ae-eab6253ec420"
      },
      "execution_count": 69,
      "outputs": [
        {
          "output_type": "execute_result",
          "data": {
            "text/plain": [
              "'This is line 1 \\nThis is line 2\\nThis is line 3'"
            ],
            "application/vnd.google.colaboratory.intrinsic+json": {
              "type": "string"
            }
          },
          "metadata": {},
          "execution_count": 69
        }
      ]
    },
    {
      "cell_type": "code",
      "source": [
        "#quiz example\n",
        "data2 = requests.get(\"https://www.fishwatch.gov/api/species\")\n",
        "results2 = json.loads(data2.text)\n",
        "df3 = pd.DataFrame(results2)\n",
        "df3"
      ],
      "metadata": {
        "colab": {
          "base_uri": "https://localhost:8080/",
          "height": 1000
        },
        "id": "njnZDcID5p67",
        "outputId": "acbea353-01fa-43db-c158-acf87f1813bf"
      },
      "execution_count": 71,
      "outputs": [
        {
          "output_type": "execute_result",
          "data": {
            "text/plain": [
              "                                    Fishery Management  \\\n",
              "0    <ul>\\n<li><a href=\"https://www.fisheries.noaa....   \n",
              "1    <ul>\\n<li><a href=\"https://www.fisheries.noaa....   \n",
              "2    <ul>\\n<li>\\n<p><a href=\"https://archive.fisher...   \n",
              "3    <ul>\\n<li><a href=\"https://www.fisheries.noaa....   \n",
              "4    <ul>\\n<li>The states and <a href=\"https://www....   \n",
              "..                                                 ...   \n",
              "111  <ul>\\n<li><a href=\"https://www.fisheries.noaa....   \n",
              "112  <ul>\\n<li><a href=\"https://www.greateratlantic...   \n",
              "113  <ul>\\n<li><a href=\"http://sero.nmfs.noaa.gov/\"...   \n",
              "114  <ul>\\n<li><a href=\"https://sero.nmfs.noaa.gov/...   \n",
              "115  <ul>\\n<li>There are two stocks of Atlantic cod...   \n",
              "\n",
              "                                               Habitat  \\\n",
              "0                                                 None   \n",
              "1    <ul>\\n<li>White hake are groundfish, meaning t...   \n",
              "2    <ul>\\n<li>Atlantic chub mackerel are a schooli...   \n",
              "3    <ul>\\n<li>Shortfin squid live in deep and shal...   \n",
              "4    <ul>\\n<li>American lobsters live on the ocean ...   \n",
              "..                                                 ...   \n",
              "111  <ul>\\n<li>Younger pollock live in the mid-wate...   \n",
              "112  <ul>\\n<li>Monkfish live on the ocean floor, ty...   \n",
              "113  <ul>\\n<li>Mahi mahi live near the surface in t...   \n",
              "114  <ul>\\n<li>Cobia are found near structures in t...   \n",
              "115  <ul>\\n<li>Atlantic cod live near the ocean flo...   \n",
              "\n",
              "                                       Habitat Impacts  \\\n",
              "0    Bottomfish fishing operations, typically using...   \n",
              "1    Area closures and gear restrictions protect ha...   \n",
              "2    Area closures and gear restrictions protect ha...   \n",
              "3    Fishing gears used to harvest shortfin squid h...   \n",
              "4    Fishing gears used to harvest American lobster...   \n",
              "..                                                 ...   \n",
              "111  The Alaska pollock fishery uses midwater trawl...   \n",
              "112  Area closures and gear restrictions protect ha...   \n",
              "113  Fishing gear used to catch mahi mahi rarely co...   \n",
              "114  Fishing gear used to catch cobia rarely contac...   \n",
              "115  Area closures and gear restrictions protect ha...   \n",
              "\n",
              "                                         Image Gallery  \\\n",
              "0    [{'src': 'https://origin-east-01-drupal-fishwa...   \n",
              "1    [{'src': 'https://origin-east-01-drupal-fishwa...   \n",
              "2    [{'src': 'https://origin-east-01-drupal-fishwa...   \n",
              "3                                                 None   \n",
              "4    [{'src': 'https://origin-east-01-drupal-fishwa...   \n",
              "..                                                 ...   \n",
              "111  [{'src': 'https://origin-east-01-drupal-fishwa...   \n",
              "112  [{'src': 'https://origin-east-01-drupal-fishwa...   \n",
              "113  [{'src': 'https://origin-east-01-drupal-fishwa...   \n",
              "114  [{'src': 'https://origin-east-01-drupal-fishwa...   \n",
              "115  [{'src': 'https://origin-east-01-drupal-fishwa...   \n",
              "\n",
              "                                              Location Management  \\\n",
              "0    <ul>\\n<li>Crimson jobfish are distributed thro...       None   \n",
              "1    <ul>\\n<li>White hake are found in the northwes...       None   \n",
              "2    <ul>\\n<li>Atlantic chub mackerel in the wester...       None   \n",
              "3    <ul>\\n<li>Shortfin squid inhabits the continen...       None   \n",
              "4    <ul>\\n<li>American lobsters are found in the n...       None   \n",
              "..                                                 ...        ...   \n",
              "111  <ul>\\n<li>Alaska pollock are found throughout ...       None   \n",
              "112  <ul>\\n<li>Monkfish are found in the Northwest ...       None   \n",
              "113  <ul>\\n<li>Mahi mahi are found in the Atlantic,...       None   \n",
              "114  <ul>\\n<li>In U.S. waters, cobia are most abund...       None   \n",
              "115  <ul>\\n<li>In the Northwest Atlantic, cod range...       None   \n",
              "\n",
              "           NOAA Fisheries Region  \\\n",
              "0                Pacific Islands   \n",
              "1               Greater Atlantic   \n",
              "2               Greater Atlantic   \n",
              "3               Greater Atlantic   \n",
              "4               Greater Atlantic   \n",
              "..                           ...   \n",
              "111                       Alaska   \n",
              "112  Greater Atlantic, Southeast   \n",
              "113  Greater Atlantic, Southeast   \n",
              "114  Greater Atlantic, Southeast   \n",
              "115             Greater Atlantic   \n",
              "\n",
              "                                            Population  \\\n",
              "0    The population level is unknown, but the stock...   \n",
              "1    Significantly below target population level. A...   \n",
              "2     The stock has never been assessed. The popula...   \n",
              "3    The population level is unknown. The species h...   \n",
              "4    Above target population levels in the Gulf of ...   \n",
              "..                                                 ...   \n",
              "111  Above target population levels for the Aleutia...   \n",
              "112                    Above target population levels.   \n",
              "113                    Above target population levels.   \n",
              "114  Below target level but fishing rate promotes p...   \n",
              "115  Significantly below target population levels. ...   \n",
              "\n",
              "                                     Population Status  \\\n",
              "0    <ul>\\n<li>There are five stocks of crimson job...   \n",
              "1    <ul>\\n<li>According to the 2019 stock assessme...   \n",
              "2    <p>Atlantic chub mackerel has never been asses...   \n",
              "3    <ul>\\n<li>According to the latest assessment (...   \n",
              "4    <ul>\\n<li>According to the 2020&nbsp;<a href=\"...   \n",
              "..                                                 ...   \n",
              "111  <ul>\\n<li>There are five stocks of walleye pol...   \n",
              "112  <ul>\\n<li>There are two stocks of monkfish: Gu...   \n",
              "113  <ul>\\n<li>Scientists assume populations are ab...   \n",
              "114  <ul>\\n<li>\\n<p>According to the 2020 stock ass...   \n",
              "115  <ul>\\n<li>Gulf of Maine stock:\\n<ul>\\n<li>Acco...   \n",
              "\n",
              "                 Scientific Name  ...  Selenium Serving Weight Servings  \\\n",
              "0    Pristipomoides filamentosus  ...  38.2 mcg    100 g (raw)        1   \n",
              "1               Urophycis tenuis  ...  32.1 mcg    100 g (raw)        1   \n",
              "2                 Scomber colias  ...  44.1 mcg    100 g (raw)        1   \n",
              "3             Illex illecebrosus  ...  44.8 mcg          100 g        1   \n",
              "4             Homarus americanus  ...  41.4 mcg    100 g (raw)        1   \n",
              "..                           ...  ...       ...            ...      ...   \n",
              "111          Gadus chalcogrammus  ...  21.9 mcg    100 g (raw)        1   \n",
              "112           Lophius americanus  ...  36.5 mcg    100 g (raw)        1   \n",
              "113          Coryphaena hippurus  ...  36.5 mcg    100 g (raw)        1   \n",
              "114         Rachycentron canadum  ...  36.5 mcg    100 g (raw)        1   \n",
              "115                 Gadus morhua  ...  33.1 mcg          100 g        1   \n",
              "\n",
              "     Sodium                                             Source Sugars, Total  \\\n",
              "0     64 mg  <p>U.S -wild caught around Hawaii and Pacific ...           0 g   \n",
              "1     72 mg  <p>White hake is wild-caught from Maine to sou...           0 g   \n",
              "2     90 mg  <p>U.S. wild caught from Southern New England ...           0 g   \n",
              "3     44 mg  <p>U.S. wild-caught from Maine to North Caroli...           0 g   \n",
              "4    296 mg  <p>U.S. wild-caught from Maine to North Caroli...           0 g   \n",
              "..      ...                                                ...           ...   \n",
              "111   99 mg  <p>U.S. wild-caught, mainly in the Bering Sea ...           0 g   \n",
              "112   18 mg  <p>U.S. wild-caught from Maine to North Caroli...           0 g   \n",
              "113   88 mg  <p>Wild-caught from Massachusetts to Texas.</p>\\n           0 g   \n",
              "114  135 mg  <p>Wild-caught from Virginia to Texas. Cobia i...           0 g   \n",
              "115   54 mg       <p>Wild-caught from Maine to Virginia.</p>\\n           0 g   \n",
              "\n",
              "                                                 Taste  \\\n",
              "0      <p>Crimson jobfish has a delicate flavor.</p>\\n   \n",
              "1    <p>White hake has a mild, almost sweet&nbsp;ta...   \n",
              "2                    <p>Rich, pronounced flavor.</p>\\n   \n",
              "3      <p>Mild, and subtly sweet.</p>\\n<p>&nbsp;</p>\\n   \n",
              "4                             <p>Mild and sweet.</p>\\n   \n",
              "..                                                 ...   \n",
              "111  <p>Pollock has mild-tasting flesh and is simil...   \n",
              "112                                     <p>Mild.</p>\\n   \n",
              "113  <p>Mahi mahi has a sweet, mild flavor. For a m...   \n",
              "114           <p>Cobia has a sweet, rich flavor.</p>\\n   \n",
              "115  <p>Atlantic cod has a mild clean flavor. It is...   \n",
              "\n",
              "                                               Texture  \\\n",
              "0    <p>Crimson jobfish has&nbsp;a firm texture and...   \n",
              "1    <p>White hake has a soft, delicate texture tha...   \n",
              "2                     <p>Soft, flaky, and moist.</p>\\n   \n",
              "3                             <p>Firm and meaty.</p>\\n   \n",
              "4    <p>The meat is firm and somewhat fibrous. The ...   \n",
              "..                                                 ...   \n",
              "111  <p>Pollock has a relatively fine texture and i...   \n",
              "112  <p>The tail meat is firm, dense, and relativel...   \n",
              "113  <p>Mahi mahi is lean and fairly firm with larg...   \n",
              "114  <p>Cobia is lean, moist, and firm with a nice ...   \n",
              "115  <p>Cod has large flakes. It's less firm than h...   \n",
              "\n",
              "                                 Path         last_update  \n",
              "0           /profiles/crimson-jobfish  06/21/2022 - 12:00  \n",
              "1                /profiles/white-hake  03/24/2022 - 10:36  \n",
              "2    /profiles/atlantic-chub-mackerel  08/11/2022 - 16:16  \n",
              "3            /profiles/shortfin-squid  09/02/2022 - 11:08  \n",
              "4          /profiles/american-lobster  01/07/2022 - 10:44  \n",
              "..                                ...                 ...  \n",
              "111          /profiles/alaska-pollock  08/24/2021 - 17:44  \n",
              "112                /profiles/monkfish  08/10/2022 - 17:32  \n",
              "113      /profiles/atlantic-mahi-mahi  08/03/2022 - 16:19  \n",
              "114                   /profiles/cobia  02/17/2022 - 11:28  \n",
              "115            /profiles/atlantic-cod  02/17/2022 - 12:56  \n",
              "\n",
              "[116 rows x 56 columns]"
            ],
            "text/html": [
              "\n",
              "  <div id=\"df-20be36e3-812f-4e29-b064-d723d44eafc7\">\n",
              "    <div class=\"colab-df-container\">\n",
              "      <div>\n",
              "<style scoped>\n",
              "    .dataframe tbody tr th:only-of-type {\n",
              "        vertical-align: middle;\n",
              "    }\n",
              "\n",
              "    .dataframe tbody tr th {\n",
              "        vertical-align: top;\n",
              "    }\n",
              "\n",
              "    .dataframe thead th {\n",
              "        text-align: right;\n",
              "    }\n",
              "</style>\n",
              "<table border=\"1\" class=\"dataframe\">\n",
              "  <thead>\n",
              "    <tr style=\"text-align: right;\">\n",
              "      <th></th>\n",
              "      <th>Fishery Management</th>\n",
              "      <th>Habitat</th>\n",
              "      <th>Habitat Impacts</th>\n",
              "      <th>Image Gallery</th>\n",
              "      <th>Location</th>\n",
              "      <th>Management</th>\n",
              "      <th>NOAA Fisheries Region</th>\n",
              "      <th>Population</th>\n",
              "      <th>Population Status</th>\n",
              "      <th>Scientific Name</th>\n",
              "      <th>...</th>\n",
              "      <th>Selenium</th>\n",
              "      <th>Serving Weight</th>\n",
              "      <th>Servings</th>\n",
              "      <th>Sodium</th>\n",
              "      <th>Source</th>\n",
              "      <th>Sugars, Total</th>\n",
              "      <th>Taste</th>\n",
              "      <th>Texture</th>\n",
              "      <th>Path</th>\n",
              "      <th>last_update</th>\n",
              "    </tr>\n",
              "  </thead>\n",
              "  <tbody>\n",
              "    <tr>\n",
              "      <th>0</th>\n",
              "      <td>&lt;ul&gt;\\n&lt;li&gt;&lt;a href=\"https://www.fisheries.noaa....</td>\n",
              "      <td>None</td>\n",
              "      <td>Bottomfish fishing operations, typically using...</td>\n",
              "      <td>[{'src': 'https://origin-east-01-drupal-fishwa...</td>\n",
              "      <td>&lt;ul&gt;\\n&lt;li&gt;Crimson jobfish are distributed thro...</td>\n",
              "      <td>None</td>\n",
              "      <td>Pacific Islands</td>\n",
              "      <td>The population level is unknown, but the stock...</td>\n",
              "      <td>&lt;ul&gt;\\n&lt;li&gt;There are five stocks of crimson job...</td>\n",
              "      <td>Pristipomoides filamentosus</td>\n",
              "      <td>...</td>\n",
              "      <td>38.2 mcg</td>\n",
              "      <td>100 g (raw)</td>\n",
              "      <td>1</td>\n",
              "      <td>64 mg</td>\n",
              "      <td>&lt;p&gt;U.S -wild caught around Hawaii and Pacific ...</td>\n",
              "      <td>0 g</td>\n",
              "      <td>&lt;p&gt;Crimson jobfish has a delicate flavor.&lt;/p&gt;\\n</td>\n",
              "      <td>&lt;p&gt;Crimson jobfish has&amp;nbsp;a firm texture and...</td>\n",
              "      <td>/profiles/crimson-jobfish</td>\n",
              "      <td>06/21/2022 - 12:00</td>\n",
              "    </tr>\n",
              "    <tr>\n",
              "      <th>1</th>\n",
              "      <td>&lt;ul&gt;\\n&lt;li&gt;&lt;a href=\"https://www.fisheries.noaa....</td>\n",
              "      <td>&lt;ul&gt;\\n&lt;li&gt;White hake are groundfish, meaning t...</td>\n",
              "      <td>Area closures and gear restrictions protect ha...</td>\n",
              "      <td>[{'src': 'https://origin-east-01-drupal-fishwa...</td>\n",
              "      <td>&lt;ul&gt;\\n&lt;li&gt;White hake are found in the northwes...</td>\n",
              "      <td>None</td>\n",
              "      <td>Greater Atlantic</td>\n",
              "      <td>Significantly below target population level. A...</td>\n",
              "      <td>&lt;ul&gt;\\n&lt;li&gt;According to the 2019 stock assessme...</td>\n",
              "      <td>Urophycis tenuis</td>\n",
              "      <td>...</td>\n",
              "      <td>32.1 mcg</td>\n",
              "      <td>100 g (raw)</td>\n",
              "      <td>1</td>\n",
              "      <td>72 mg</td>\n",
              "      <td>&lt;p&gt;White hake is wild-caught from Maine to sou...</td>\n",
              "      <td>0 g</td>\n",
              "      <td>&lt;p&gt;White hake has a mild, almost sweet&amp;nbsp;ta...</td>\n",
              "      <td>&lt;p&gt;White hake has a soft, delicate texture tha...</td>\n",
              "      <td>/profiles/white-hake</td>\n",
              "      <td>03/24/2022 - 10:36</td>\n",
              "    </tr>\n",
              "    <tr>\n",
              "      <th>2</th>\n",
              "      <td>&lt;ul&gt;\\n&lt;li&gt;\\n&lt;p&gt;&lt;a href=\"https://archive.fisher...</td>\n",
              "      <td>&lt;ul&gt;\\n&lt;li&gt;Atlantic chub mackerel are a schooli...</td>\n",
              "      <td>Area closures and gear restrictions protect ha...</td>\n",
              "      <td>[{'src': 'https://origin-east-01-drupal-fishwa...</td>\n",
              "      <td>&lt;ul&gt;\\n&lt;li&gt;Atlantic chub mackerel in the wester...</td>\n",
              "      <td>None</td>\n",
              "      <td>Greater Atlantic</td>\n",
              "      <td>The stock has never been assessed. The popula...</td>\n",
              "      <td>&lt;p&gt;Atlantic chub mackerel has never been asses...</td>\n",
              "      <td>Scomber colias</td>\n",
              "      <td>...</td>\n",
              "      <td>44.1 mcg</td>\n",
              "      <td>100 g (raw)</td>\n",
              "      <td>1</td>\n",
              "      <td>90 mg</td>\n",
              "      <td>&lt;p&gt;U.S. wild caught from Southern New England ...</td>\n",
              "      <td>0 g</td>\n",
              "      <td>&lt;p&gt;Rich, pronounced flavor.&lt;/p&gt;\\n</td>\n",
              "      <td>&lt;p&gt;Soft, flaky, and moist.&lt;/p&gt;\\n</td>\n",
              "      <td>/profiles/atlantic-chub-mackerel</td>\n",
              "      <td>08/11/2022 - 16:16</td>\n",
              "    </tr>\n",
              "    <tr>\n",
              "      <th>3</th>\n",
              "      <td>&lt;ul&gt;\\n&lt;li&gt;&lt;a href=\"https://www.fisheries.noaa....</td>\n",
              "      <td>&lt;ul&gt;\\n&lt;li&gt;Shortfin squid live in deep and shal...</td>\n",
              "      <td>Fishing gears used to harvest shortfin squid h...</td>\n",
              "      <td>None</td>\n",
              "      <td>&lt;ul&gt;\\n&lt;li&gt;Shortfin squid inhabits the continen...</td>\n",
              "      <td>None</td>\n",
              "      <td>Greater Atlantic</td>\n",
              "      <td>The population level is unknown. The species h...</td>\n",
              "      <td>&lt;ul&gt;\\n&lt;li&gt;According to the latest assessment (...</td>\n",
              "      <td>Illex illecebrosus</td>\n",
              "      <td>...</td>\n",
              "      <td>44.8 mcg</td>\n",
              "      <td>100 g</td>\n",
              "      <td>1</td>\n",
              "      <td>44 mg</td>\n",
              "      <td>&lt;p&gt;U.S. wild-caught from Maine to North Caroli...</td>\n",
              "      <td>0 g</td>\n",
              "      <td>&lt;p&gt;Mild, and subtly sweet.&lt;/p&gt;\\n&lt;p&gt;&amp;nbsp;&lt;/p&gt;\\n</td>\n",
              "      <td>&lt;p&gt;Firm and meaty.&lt;/p&gt;\\n</td>\n",
              "      <td>/profiles/shortfin-squid</td>\n",
              "      <td>09/02/2022 - 11:08</td>\n",
              "    </tr>\n",
              "    <tr>\n",
              "      <th>4</th>\n",
              "      <td>&lt;ul&gt;\\n&lt;li&gt;The states and &lt;a href=\"https://www....</td>\n",
              "      <td>&lt;ul&gt;\\n&lt;li&gt;American lobsters live on the ocean ...</td>\n",
              "      <td>Fishing gears used to harvest American lobster...</td>\n",
              "      <td>[{'src': 'https://origin-east-01-drupal-fishwa...</td>\n",
              "      <td>&lt;ul&gt;\\n&lt;li&gt;American lobsters are found in the n...</td>\n",
              "      <td>None</td>\n",
              "      <td>Greater Atlantic</td>\n",
              "      <td>Above target population levels in the Gulf of ...</td>\n",
              "      <td>&lt;ul&gt;\\n&lt;li&gt;According to the 2020&amp;nbsp;&lt;a href=\"...</td>\n",
              "      <td>Homarus americanus</td>\n",
              "      <td>...</td>\n",
              "      <td>41.4 mcg</td>\n",
              "      <td>100 g (raw)</td>\n",
              "      <td>1</td>\n",
              "      <td>296 mg</td>\n",
              "      <td>&lt;p&gt;U.S. wild-caught from Maine to North Caroli...</td>\n",
              "      <td>0 g</td>\n",
              "      <td>&lt;p&gt;Mild and sweet.&lt;/p&gt;\\n</td>\n",
              "      <td>&lt;p&gt;The meat is firm and somewhat fibrous. The ...</td>\n",
              "      <td>/profiles/american-lobster</td>\n",
              "      <td>01/07/2022 - 10:44</td>\n",
              "    </tr>\n",
              "    <tr>\n",
              "      <th>...</th>\n",
              "      <td>...</td>\n",
              "      <td>...</td>\n",
              "      <td>...</td>\n",
              "      <td>...</td>\n",
              "      <td>...</td>\n",
              "      <td>...</td>\n",
              "      <td>...</td>\n",
              "      <td>...</td>\n",
              "      <td>...</td>\n",
              "      <td>...</td>\n",
              "      <td>...</td>\n",
              "      <td>...</td>\n",
              "      <td>...</td>\n",
              "      <td>...</td>\n",
              "      <td>...</td>\n",
              "      <td>...</td>\n",
              "      <td>...</td>\n",
              "      <td>...</td>\n",
              "      <td>...</td>\n",
              "      <td>...</td>\n",
              "      <td>...</td>\n",
              "    </tr>\n",
              "    <tr>\n",
              "      <th>111</th>\n",
              "      <td>&lt;ul&gt;\\n&lt;li&gt;&lt;a href=\"https://www.fisheries.noaa....</td>\n",
              "      <td>&lt;ul&gt;\\n&lt;li&gt;Younger pollock live in the mid-wate...</td>\n",
              "      <td>The Alaska pollock fishery uses midwater trawl...</td>\n",
              "      <td>[{'src': 'https://origin-east-01-drupal-fishwa...</td>\n",
              "      <td>&lt;ul&gt;\\n&lt;li&gt;Alaska pollock are found throughout ...</td>\n",
              "      <td>None</td>\n",
              "      <td>Alaska</td>\n",
              "      <td>Above target population levels for the Aleutia...</td>\n",
              "      <td>&lt;ul&gt;\\n&lt;li&gt;There are five stocks of walleye pol...</td>\n",
              "      <td>Gadus chalcogrammus</td>\n",
              "      <td>...</td>\n",
              "      <td>21.9 mcg</td>\n",
              "      <td>100 g (raw)</td>\n",
              "      <td>1</td>\n",
              "      <td>99 mg</td>\n",
              "      <td>&lt;p&gt;U.S. wild-caught, mainly in the Bering Sea ...</td>\n",
              "      <td>0 g</td>\n",
              "      <td>&lt;p&gt;Pollock has mild-tasting flesh and is simil...</td>\n",
              "      <td>&lt;p&gt;Pollock has a relatively fine texture and i...</td>\n",
              "      <td>/profiles/alaska-pollock</td>\n",
              "      <td>08/24/2021 - 17:44</td>\n",
              "    </tr>\n",
              "    <tr>\n",
              "      <th>112</th>\n",
              "      <td>&lt;ul&gt;\\n&lt;li&gt;&lt;a href=\"https://www.greateratlantic...</td>\n",
              "      <td>&lt;ul&gt;\\n&lt;li&gt;Monkfish live on the ocean floor, ty...</td>\n",
              "      <td>Area closures and gear restrictions protect ha...</td>\n",
              "      <td>[{'src': 'https://origin-east-01-drupal-fishwa...</td>\n",
              "      <td>&lt;ul&gt;\\n&lt;li&gt;Monkfish are found in the Northwest ...</td>\n",
              "      <td>None</td>\n",
              "      <td>Greater Atlantic, Southeast</td>\n",
              "      <td>Above target population levels.</td>\n",
              "      <td>&lt;ul&gt;\\n&lt;li&gt;There are two stocks of monkfish: Gu...</td>\n",
              "      <td>Lophius americanus</td>\n",
              "      <td>...</td>\n",
              "      <td>36.5 mcg</td>\n",
              "      <td>100 g (raw)</td>\n",
              "      <td>1</td>\n",
              "      <td>18 mg</td>\n",
              "      <td>&lt;p&gt;U.S. wild-caught from Maine to North Caroli...</td>\n",
              "      <td>0 g</td>\n",
              "      <td>&lt;p&gt;Mild.&lt;/p&gt;\\n</td>\n",
              "      <td>&lt;p&gt;The tail meat is firm, dense, and relativel...</td>\n",
              "      <td>/profiles/monkfish</td>\n",
              "      <td>08/10/2022 - 17:32</td>\n",
              "    </tr>\n",
              "    <tr>\n",
              "      <th>113</th>\n",
              "      <td>&lt;ul&gt;\\n&lt;li&gt;&lt;a href=\"http://sero.nmfs.noaa.gov/\"...</td>\n",
              "      <td>&lt;ul&gt;\\n&lt;li&gt;Mahi mahi live near the surface in t...</td>\n",
              "      <td>Fishing gear used to catch mahi mahi rarely co...</td>\n",
              "      <td>[{'src': 'https://origin-east-01-drupal-fishwa...</td>\n",
              "      <td>&lt;ul&gt;\\n&lt;li&gt;Mahi mahi are found in the Atlantic,...</td>\n",
              "      <td>None</td>\n",
              "      <td>Greater Atlantic, Southeast</td>\n",
              "      <td>Above target population levels.</td>\n",
              "      <td>&lt;ul&gt;\\n&lt;li&gt;Scientists assume populations are ab...</td>\n",
              "      <td>Coryphaena hippurus</td>\n",
              "      <td>...</td>\n",
              "      <td>36.5 mcg</td>\n",
              "      <td>100 g (raw)</td>\n",
              "      <td>1</td>\n",
              "      <td>88 mg</td>\n",
              "      <td>&lt;p&gt;Wild-caught from Massachusetts to Texas.&lt;/p&gt;\\n</td>\n",
              "      <td>0 g</td>\n",
              "      <td>&lt;p&gt;Mahi mahi has a sweet, mild flavor. For a m...</td>\n",
              "      <td>&lt;p&gt;Mahi mahi is lean and fairly firm with larg...</td>\n",
              "      <td>/profiles/atlantic-mahi-mahi</td>\n",
              "      <td>08/03/2022 - 16:19</td>\n",
              "    </tr>\n",
              "    <tr>\n",
              "      <th>114</th>\n",
              "      <td>&lt;ul&gt;\\n&lt;li&gt;&lt;a href=\"https://sero.nmfs.noaa.gov/...</td>\n",
              "      <td>&lt;ul&gt;\\n&lt;li&gt;Cobia are found near structures in t...</td>\n",
              "      <td>Fishing gear used to catch cobia rarely contac...</td>\n",
              "      <td>[{'src': 'https://origin-east-01-drupal-fishwa...</td>\n",
              "      <td>&lt;ul&gt;\\n&lt;li&gt;In U.S. waters, cobia are most abund...</td>\n",
              "      <td>None</td>\n",
              "      <td>Greater Atlantic, Southeast</td>\n",
              "      <td>Below target level but fishing rate promotes p...</td>\n",
              "      <td>&lt;ul&gt;\\n&lt;li&gt;\\n&lt;p&gt;According to the 2020 stock ass...</td>\n",
              "      <td>Rachycentron canadum</td>\n",
              "      <td>...</td>\n",
              "      <td>36.5 mcg</td>\n",
              "      <td>100 g (raw)</td>\n",
              "      <td>1</td>\n",
              "      <td>135 mg</td>\n",
              "      <td>&lt;p&gt;Wild-caught from Virginia to Texas. Cobia i...</td>\n",
              "      <td>0 g</td>\n",
              "      <td>&lt;p&gt;Cobia has a sweet, rich flavor.&lt;/p&gt;\\n</td>\n",
              "      <td>&lt;p&gt;Cobia is lean, moist, and firm with a nice ...</td>\n",
              "      <td>/profiles/cobia</td>\n",
              "      <td>02/17/2022 - 11:28</td>\n",
              "    </tr>\n",
              "    <tr>\n",
              "      <th>115</th>\n",
              "      <td>&lt;ul&gt;\\n&lt;li&gt;There are two stocks of Atlantic cod...</td>\n",
              "      <td>&lt;ul&gt;\\n&lt;li&gt;Atlantic cod live near the ocean flo...</td>\n",
              "      <td>Area closures and gear restrictions protect ha...</td>\n",
              "      <td>[{'src': 'https://origin-east-01-drupal-fishwa...</td>\n",
              "      <td>&lt;ul&gt;\\n&lt;li&gt;In the Northwest Atlantic, cod range...</td>\n",
              "      <td>None</td>\n",
              "      <td>Greater Atlantic</td>\n",
              "      <td>Significantly below target population levels. ...</td>\n",
              "      <td>&lt;ul&gt;\\n&lt;li&gt;Gulf of Maine stock:\\n&lt;ul&gt;\\n&lt;li&gt;Acco...</td>\n",
              "      <td>Gadus morhua</td>\n",
              "      <td>...</td>\n",
              "      <td>33.1 mcg</td>\n",
              "      <td>100 g</td>\n",
              "      <td>1</td>\n",
              "      <td>54 mg</td>\n",
              "      <td>&lt;p&gt;Wild-caught from Maine to Virginia.&lt;/p&gt;\\n</td>\n",
              "      <td>0 g</td>\n",
              "      <td>&lt;p&gt;Atlantic cod has a mild clean flavor. It is...</td>\n",
              "      <td>&lt;p&gt;Cod has large flakes. It's less firm than h...</td>\n",
              "      <td>/profiles/atlantic-cod</td>\n",
              "      <td>02/17/2022 - 12:56</td>\n",
              "    </tr>\n",
              "  </tbody>\n",
              "</table>\n",
              "<p>116 rows × 56 columns</p>\n",
              "</div>\n",
              "      <button class=\"colab-df-convert\" onclick=\"convertToInteractive('df-20be36e3-812f-4e29-b064-d723d44eafc7')\"\n",
              "              title=\"Convert this dataframe to an interactive table.\"\n",
              "              style=\"display:none;\">\n",
              "        \n",
              "  <svg xmlns=\"http://www.w3.org/2000/svg\" height=\"24px\"viewBox=\"0 0 24 24\"\n",
              "       width=\"24px\">\n",
              "    <path d=\"M0 0h24v24H0V0z\" fill=\"none\"/>\n",
              "    <path d=\"M18.56 5.44l.94 2.06.94-2.06 2.06-.94-2.06-.94-.94-2.06-.94 2.06-2.06.94zm-11 1L8.5 8.5l.94-2.06 2.06-.94-2.06-.94L8.5 2.5l-.94 2.06-2.06.94zm10 10l.94 2.06.94-2.06 2.06-.94-2.06-.94-.94-2.06-.94 2.06-2.06.94z\"/><path d=\"M17.41 7.96l-1.37-1.37c-.4-.4-.92-.59-1.43-.59-.52 0-1.04.2-1.43.59L10.3 9.45l-7.72 7.72c-.78.78-.78 2.05 0 2.83L4 21.41c.39.39.9.59 1.41.59.51 0 1.02-.2 1.41-.59l7.78-7.78 2.81-2.81c.8-.78.8-2.07 0-2.86zM5.41 20L4 18.59l7.72-7.72 1.47 1.35L5.41 20z\"/>\n",
              "  </svg>\n",
              "      </button>\n",
              "      \n",
              "  <style>\n",
              "    .colab-df-container {\n",
              "      display:flex;\n",
              "      flex-wrap:wrap;\n",
              "      gap: 12px;\n",
              "    }\n",
              "\n",
              "    .colab-df-convert {\n",
              "      background-color: #E8F0FE;\n",
              "      border: none;\n",
              "      border-radius: 50%;\n",
              "      cursor: pointer;\n",
              "      display: none;\n",
              "      fill: #1967D2;\n",
              "      height: 32px;\n",
              "      padding: 0 0 0 0;\n",
              "      width: 32px;\n",
              "    }\n",
              "\n",
              "    .colab-df-convert:hover {\n",
              "      background-color: #E2EBFA;\n",
              "      box-shadow: 0px 1px 2px rgba(60, 64, 67, 0.3), 0px 1px 3px 1px rgba(60, 64, 67, 0.15);\n",
              "      fill: #174EA6;\n",
              "    }\n",
              "\n",
              "    [theme=dark] .colab-df-convert {\n",
              "      background-color: #3B4455;\n",
              "      fill: #D2E3FC;\n",
              "    }\n",
              "\n",
              "    [theme=dark] .colab-df-convert:hover {\n",
              "      background-color: #434B5C;\n",
              "      box-shadow: 0px 1px 3px 1px rgba(0, 0, 0, 0.15);\n",
              "      filter: drop-shadow(0px 1px 2px rgba(0, 0, 0, 0.3));\n",
              "      fill: #FFFFFF;\n",
              "    }\n",
              "  </style>\n",
              "\n",
              "      <script>\n",
              "        const buttonEl =\n",
              "          document.querySelector('#df-20be36e3-812f-4e29-b064-d723d44eafc7 button.colab-df-convert');\n",
              "        buttonEl.style.display =\n",
              "          google.colab.kernel.accessAllowed ? 'block' : 'none';\n",
              "\n",
              "        async function convertToInteractive(key) {\n",
              "          const element = document.querySelector('#df-20be36e3-812f-4e29-b064-d723d44eafc7');\n",
              "          const dataTable =\n",
              "            await google.colab.kernel.invokeFunction('convertToInteractive',\n",
              "                                                     [key], {});\n",
              "          if (!dataTable) return;\n",
              "\n",
              "          const docLinkHtml = 'Like what you see? Visit the ' +\n",
              "            '<a target=\"_blank\" href=https://colab.research.google.com/notebooks/data_table.ipynb>data table notebook</a>'\n",
              "            + ' to learn more about interactive tables.';\n",
              "          element.innerHTML = '';\n",
              "          dataTable['output_type'] = 'display_data';\n",
              "          await google.colab.output.renderOutput(dataTable, element);\n",
              "          const docLink = document.createElement('div');\n",
              "          docLink.innerHTML = docLinkHtml;\n",
              "          element.appendChild(docLink);\n",
              "        }\n",
              "      </script>\n",
              "    </div>\n",
              "  </div>\n",
              "  "
            ]
          },
          "metadata": {},
          "execution_count": 71
        }
      ]
    },
    {
      "cell_type": "code",
      "source": [],
      "metadata": {
        "id": "5o0NN9aw51_c"
      },
      "execution_count": null,
      "outputs": []
    }
  ]
}