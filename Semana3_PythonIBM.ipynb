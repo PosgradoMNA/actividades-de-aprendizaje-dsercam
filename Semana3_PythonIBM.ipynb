{
  "nbformat": 4,
  "nbformat_minor": 0,
  "metadata": {
    "colab": {
      "provenance": [],
      "authorship_tag": "ABX9TyO/mi2ey1iru2OoblGsqVFF",
      "include_colab_link": true
    },
    "kernelspec": {
      "name": "python3",
      "display_name": "Python 3"
    },
    "language_info": {
      "name": "python"
    }
  },
  "cells": [
    {
      "cell_type": "markdown",
      "metadata": {
        "id": "view-in-github",
        "colab_type": "text"
      },
      "source": [
        "<a href=\"https://colab.research.google.com/github/PosgradoMNA/actividades-de-aprendizaje-dsercam/blob/main/Semana3_PythonIBM.ipynb\" target=\"_parent\"><img src=\"https://colab.research.google.com/assets/colab-badge.svg\" alt=\"Open In Colab\"/></a>"
      ]
    },
    {
      "cell_type": "markdown",
      "source": [
        "#**Semana 3: Python for Data Science (IBM)**\n",
        "\n",
        "###**Maestría en Inteligencia Artificial Aplicada**\n",
        "###**Curso: Ciencia y analítica de datos**\n",
        "####**Tecnológico de Monterrey**\n",
        "#####**Prof Jobish Vallikavungal Devassia**\n",
        "\n",
        "###**Nombre del estudiante: Dante Rodrigo Serna Camarillo**\n",
        "\n",
        "###**Matrícula: A01182676**"
      ],
      "metadata": {
        "id": "I_ISBXbWTkN_"
      }
    },
    {
      "cell_type": "markdown",
      "source": [
        "# <center><font color=\"orange\"> Module 5 - Working with Numpy Arrays & Simple APIs </font></center>"
      ],
      "metadata": {
        "id": "rjLHT8YFUgwa"
      }
    },
    {
      "cell_type": "markdown",
      "source": [
        "# <font color=\"darkblue\"> NUMPY ARRAYS </font>"
      ],
      "metadata": {
        "id": "BqAZh9hSU7NK"
      }
    },
    {
      "cell_type": "markdown",
      "source": [
        "Element in a numpy arraya have the same type\n",
        "Its elements can be accessed using the square brackets notation, like python lists."
      ],
      "metadata": {
        "id": "9VHLNoZHVYrC"
      }
    },
    {
      "cell_type": "code",
      "execution_count": null,
      "metadata": {
        "id": "hak0M6DDThby"
      },
      "outputs": [],
      "source": [
        "import pandas as pd"
      ]
    },
    {
      "cell_type": "markdown",
      "source": [],
      "metadata": {
        "id": "T4Hb1-MHU6SU"
      }
    }
  ]
}