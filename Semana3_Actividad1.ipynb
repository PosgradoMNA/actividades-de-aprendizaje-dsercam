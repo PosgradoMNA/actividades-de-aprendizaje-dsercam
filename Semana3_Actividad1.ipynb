{
  "nbformat": 4,
  "nbformat_minor": 0,
  "metadata": {
    "colab": {
      "provenance": [],
      "authorship_tag": "ABX9TyNONTO3+isTvsN7MOMpD5Hp",
      "include_colab_link": true
    },
    "kernelspec": {
      "name": "python3",
      "display_name": "Python 3"
    },
    "language_info": {
      "name": "python"
    }
  },
  "cells": [
    {
      "cell_type": "markdown",
      "metadata": {
        "id": "view-in-github",
        "colab_type": "text"
      },
      "source": [
        "<a href=\"https://colab.research.google.com/github/PosgradoMNA/actividades-de-aprendizaje-dsercam/blob/main/Semana3_Actividad1.ipynb\" target=\"_parent\"><img src=\"https://colab.research.google.com/assets/colab-badge.svg\" alt=\"Open In Colab\"/></a>"
      ]
    },
    {
      "cell_type": "markdown",
      "source": [
        "#**Semana 3 - Actividad 1**\n",
        "\n",
        "###**Maestría en Inteligencia Artificial Aplicada**\n",
        "###**Curso: Ciencia y Analítica de Datos**\n",
        "####**Tecnológico de Monterrey**\n",
        "#####**Prof Jobish Vallikavungal Devassia**\n",
        "\n",
        "###**Nombre del estudiante: Dante Rodrigo Serna Camarillo**\n",
        "###**Matrícula: A01182676**"
      ],
      "metadata": {
        "id": "sR979wHwWuke"
      }
    },
    {
      "cell_type": "markdown",
      "source": [],
      "metadata": {
        "id": "2nakyTr_W2WP"
      }
    }
  ]
}